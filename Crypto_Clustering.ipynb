{
 "cells": [
  {
   "cell_type": "code",
   "execution_count": 134,
   "metadata": {},
   "outputs": [],
   "source": [
    "# Import required libraries and dependencies\n",
    "import pandas as pd\n",
    "import hvplot.pandas\n",
    "from sklearn.cluster import KMeans\n",
    "from sklearn.decomposition import PCA\n",
    "from sklearn.preprocessing import StandardScaler\n",
    "import matplotlib.pyplot as plt\n",
    "from IPython.display import display\n",
    "import holoviews as hv\n"
   ]
  },
  {
   "cell_type": "code",
   "execution_count": 135,
   "metadata": {},
   "outputs": [
    {
     "data": {
      "text/html": [
       "<div>\n",
       "<style scoped>\n",
       "    .dataframe tbody tr th:only-of-type {\n",
       "        vertical-align: middle;\n",
       "    }\n",
       "\n",
       "    .dataframe tbody tr th {\n",
       "        vertical-align: top;\n",
       "    }\n",
       "\n",
       "    .dataframe thead th {\n",
       "        text-align: right;\n",
       "    }\n",
       "</style>\n",
       "<table border=\"1\" class=\"dataframe\">\n",
       "  <thead>\n",
       "    <tr style=\"text-align: right;\">\n",
       "      <th></th>\n",
       "      <th>price_change_percentage_24h</th>\n",
       "      <th>price_change_percentage_7d</th>\n",
       "      <th>price_change_percentage_14d</th>\n",
       "      <th>price_change_percentage_30d</th>\n",
       "      <th>price_change_percentage_60d</th>\n",
       "      <th>price_change_percentage_200d</th>\n",
       "      <th>price_change_percentage_1y</th>\n",
       "    </tr>\n",
       "    <tr>\n",
       "      <th>coin_id</th>\n",
       "      <th></th>\n",
       "      <th></th>\n",
       "      <th></th>\n",
       "      <th></th>\n",
       "      <th></th>\n",
       "      <th></th>\n",
       "      <th></th>\n",
       "    </tr>\n",
       "  </thead>\n",
       "  <tbody>\n",
       "    <tr>\n",
       "      <th>bitcoin</th>\n",
       "      <td>1.08388</td>\n",
       "      <td>7.60278</td>\n",
       "      <td>6.57509</td>\n",
       "      <td>7.67258</td>\n",
       "      <td>-3.25185</td>\n",
       "      <td>83.51840</td>\n",
       "      <td>37.51761</td>\n",
       "    </tr>\n",
       "    <tr>\n",
       "      <th>ethereum</th>\n",
       "      <td>0.22392</td>\n",
       "      <td>10.38134</td>\n",
       "      <td>4.80849</td>\n",
       "      <td>0.13169</td>\n",
       "      <td>-12.88890</td>\n",
       "      <td>186.77418</td>\n",
       "      <td>101.96023</td>\n",
       "    </tr>\n",
       "    <tr>\n",
       "      <th>tether</th>\n",
       "      <td>-0.21173</td>\n",
       "      <td>0.04935</td>\n",
       "      <td>0.00640</td>\n",
       "      <td>-0.04237</td>\n",
       "      <td>0.28037</td>\n",
       "      <td>-0.00542</td>\n",
       "      <td>0.01954</td>\n",
       "    </tr>\n",
       "    <tr>\n",
       "      <th>ripple</th>\n",
       "      <td>-0.37819</td>\n",
       "      <td>-0.60926</td>\n",
       "      <td>2.24984</td>\n",
       "      <td>0.23455</td>\n",
       "      <td>-17.55245</td>\n",
       "      <td>39.53888</td>\n",
       "      <td>-16.60193</td>\n",
       "    </tr>\n",
       "    <tr>\n",
       "      <th>bitcoin-cash</th>\n",
       "      <td>2.90585</td>\n",
       "      <td>17.09717</td>\n",
       "      <td>14.75334</td>\n",
       "      <td>15.74903</td>\n",
       "      <td>-13.71793</td>\n",
       "      <td>21.66042</td>\n",
       "      <td>14.49384</td>\n",
       "    </tr>\n",
       "    <tr>\n",
       "      <th>binancecoin</th>\n",
       "      <td>2.10423</td>\n",
       "      <td>12.85511</td>\n",
       "      <td>6.80688</td>\n",
       "      <td>0.05865</td>\n",
       "      <td>36.33486</td>\n",
       "      <td>155.61937</td>\n",
       "      <td>69.69195</td>\n",
       "    </tr>\n",
       "    <tr>\n",
       "      <th>chainlink</th>\n",
       "      <td>-0.23935</td>\n",
       "      <td>20.69459</td>\n",
       "      <td>9.30098</td>\n",
       "      <td>-11.21747</td>\n",
       "      <td>-43.69522</td>\n",
       "      <td>403.22917</td>\n",
       "      <td>325.13186</td>\n",
       "    </tr>\n",
       "    <tr>\n",
       "      <th>cardano</th>\n",
       "      <td>0.00322</td>\n",
       "      <td>13.99302</td>\n",
       "      <td>5.55476</td>\n",
       "      <td>10.10553</td>\n",
       "      <td>-22.84776</td>\n",
       "      <td>264.51418</td>\n",
       "      <td>156.09756</td>\n",
       "    </tr>\n",
       "    <tr>\n",
       "      <th>litecoin</th>\n",
       "      <td>-0.06341</td>\n",
       "      <td>6.60221</td>\n",
       "      <td>7.28931</td>\n",
       "      <td>1.21662</td>\n",
       "      <td>-17.23960</td>\n",
       "      <td>27.49919</td>\n",
       "      <td>-12.66408</td>\n",
       "    </tr>\n",
       "    <tr>\n",
       "      <th>bitcoin-cash-sv</th>\n",
       "      <td>0.92530</td>\n",
       "      <td>3.29641</td>\n",
       "      <td>-1.86656</td>\n",
       "      <td>2.88926</td>\n",
       "      <td>-24.87434</td>\n",
       "      <td>7.42562</td>\n",
       "      <td>93.73082</td>\n",
       "    </tr>\n",
       "  </tbody>\n",
       "</table>\n",
       "</div>"
      ],
      "text/plain": [
       "                 price_change_percentage_24h  price_change_percentage_7d  \\\n",
       "coin_id                                                                    \n",
       "bitcoin                              1.08388                     7.60278   \n",
       "ethereum                             0.22392                    10.38134   \n",
       "tether                              -0.21173                     0.04935   \n",
       "ripple                              -0.37819                    -0.60926   \n",
       "bitcoin-cash                         2.90585                    17.09717   \n",
       "binancecoin                          2.10423                    12.85511   \n",
       "chainlink                           -0.23935                    20.69459   \n",
       "cardano                              0.00322                    13.99302   \n",
       "litecoin                            -0.06341                     6.60221   \n",
       "bitcoin-cash-sv                      0.92530                     3.29641   \n",
       "\n",
       "                 price_change_percentage_14d  price_change_percentage_30d  \\\n",
       "coin_id                                                                     \n",
       "bitcoin                              6.57509                      7.67258   \n",
       "ethereum                             4.80849                      0.13169   \n",
       "tether                               0.00640                     -0.04237   \n",
       "ripple                               2.24984                      0.23455   \n",
       "bitcoin-cash                        14.75334                     15.74903   \n",
       "binancecoin                          6.80688                      0.05865   \n",
       "chainlink                            9.30098                    -11.21747   \n",
       "cardano                              5.55476                     10.10553   \n",
       "litecoin                             7.28931                      1.21662   \n",
       "bitcoin-cash-sv                     -1.86656                      2.88926   \n",
       "\n",
       "                 price_change_percentage_60d  price_change_percentage_200d  \\\n",
       "coin_id                                                                      \n",
       "bitcoin                             -3.25185                      83.51840   \n",
       "ethereum                           -12.88890                     186.77418   \n",
       "tether                               0.28037                      -0.00542   \n",
       "ripple                             -17.55245                      39.53888   \n",
       "bitcoin-cash                       -13.71793                      21.66042   \n",
       "binancecoin                         36.33486                     155.61937   \n",
       "chainlink                          -43.69522                     403.22917   \n",
       "cardano                            -22.84776                     264.51418   \n",
       "litecoin                           -17.23960                      27.49919   \n",
       "bitcoin-cash-sv                    -24.87434                       7.42562   \n",
       "\n",
       "                 price_change_percentage_1y  \n",
       "coin_id                                      \n",
       "bitcoin                            37.51761  \n",
       "ethereum                          101.96023  \n",
       "tether                              0.01954  \n",
       "ripple                            -16.60193  \n",
       "bitcoin-cash                       14.49384  \n",
       "binancecoin                        69.69195  \n",
       "chainlink                         325.13186  \n",
       "cardano                           156.09756  \n",
       "litecoin                          -12.66408  \n",
       "bitcoin-cash-sv                    93.73082  "
      ]
     },
     "execution_count": 135,
     "metadata": {},
     "output_type": "execute_result"
    }
   ],
   "source": [
    "# Load the data into a Pandas DataFrame\n",
    "df_market_data = pd.read_csv(\n",
    "    \"Resources/crypto_market_data.csv\",\n",
    "    index_col=\"coin_id\")\n",
    "\n",
    "# Display sample data\n",
    "df_market_data.head(10)"
   ]
  },
  {
   "cell_type": "code",
   "execution_count": 136,
   "metadata": {},
   "outputs": [
    {
     "data": {
      "text/html": [
       "<div>\n",
       "<style scoped>\n",
       "    .dataframe tbody tr th:only-of-type {\n",
       "        vertical-align: middle;\n",
       "    }\n",
       "\n",
       "    .dataframe tbody tr th {\n",
       "        vertical-align: top;\n",
       "    }\n",
       "\n",
       "    .dataframe thead th {\n",
       "        text-align: right;\n",
       "    }\n",
       "</style>\n",
       "<table border=\"1\" class=\"dataframe\">\n",
       "  <thead>\n",
       "    <tr style=\"text-align: right;\">\n",
       "      <th></th>\n",
       "      <th>price_change_percentage_24h</th>\n",
       "      <th>price_change_percentage_7d</th>\n",
       "      <th>price_change_percentage_14d</th>\n",
       "      <th>price_change_percentage_30d</th>\n",
       "      <th>price_change_percentage_60d</th>\n",
       "      <th>price_change_percentage_200d</th>\n",
       "      <th>price_change_percentage_1y</th>\n",
       "    </tr>\n",
       "  </thead>\n",
       "  <tbody>\n",
       "    <tr>\n",
       "      <th>count</th>\n",
       "      <td>41.000000</td>\n",
       "      <td>41.000000</td>\n",
       "      <td>41.000000</td>\n",
       "      <td>41.000000</td>\n",
       "      <td>41.000000</td>\n",
       "      <td>41.000000</td>\n",
       "      <td>41.000000</td>\n",
       "    </tr>\n",
       "    <tr>\n",
       "      <th>mean</th>\n",
       "      <td>-0.269686</td>\n",
       "      <td>4.497147</td>\n",
       "      <td>0.185787</td>\n",
       "      <td>1.545693</td>\n",
       "      <td>-0.094119</td>\n",
       "      <td>236.537432</td>\n",
       "      <td>347.667956</td>\n",
       "    </tr>\n",
       "    <tr>\n",
       "      <th>std</th>\n",
       "      <td>2.694793</td>\n",
       "      <td>6.375218</td>\n",
       "      <td>8.376939</td>\n",
       "      <td>26.344218</td>\n",
       "      <td>47.365803</td>\n",
       "      <td>435.225304</td>\n",
       "      <td>1247.842884</td>\n",
       "    </tr>\n",
       "    <tr>\n",
       "      <th>min</th>\n",
       "      <td>-13.527860</td>\n",
       "      <td>-6.094560</td>\n",
       "      <td>-18.158900</td>\n",
       "      <td>-34.705480</td>\n",
       "      <td>-44.822480</td>\n",
       "      <td>-0.392100</td>\n",
       "      <td>-17.567530</td>\n",
       "    </tr>\n",
       "    <tr>\n",
       "      <th>25%</th>\n",
       "      <td>-0.608970</td>\n",
       "      <td>0.047260</td>\n",
       "      <td>-5.026620</td>\n",
       "      <td>-10.438470</td>\n",
       "      <td>-25.907990</td>\n",
       "      <td>21.660420</td>\n",
       "      <td>0.406170</td>\n",
       "    </tr>\n",
       "    <tr>\n",
       "      <th>50%</th>\n",
       "      <td>-0.063410</td>\n",
       "      <td>3.296410</td>\n",
       "      <td>0.109740</td>\n",
       "      <td>-0.042370</td>\n",
       "      <td>-7.544550</td>\n",
       "      <td>83.905200</td>\n",
       "      <td>69.691950</td>\n",
       "    </tr>\n",
       "    <tr>\n",
       "      <th>75%</th>\n",
       "      <td>0.612090</td>\n",
       "      <td>7.602780</td>\n",
       "      <td>5.510740</td>\n",
       "      <td>4.578130</td>\n",
       "      <td>0.657260</td>\n",
       "      <td>216.177610</td>\n",
       "      <td>168.372510</td>\n",
       "    </tr>\n",
       "    <tr>\n",
       "      <th>max</th>\n",
       "      <td>4.840330</td>\n",
       "      <td>20.694590</td>\n",
       "      <td>24.239190</td>\n",
       "      <td>140.795700</td>\n",
       "      <td>223.064370</td>\n",
       "      <td>2227.927820</td>\n",
       "      <td>7852.089700</td>\n",
       "    </tr>\n",
       "  </tbody>\n",
       "</table>\n",
       "</div>"
      ],
      "text/plain": [
       "       price_change_percentage_24h  price_change_percentage_7d  \\\n",
       "count                    41.000000                   41.000000   \n",
       "mean                     -0.269686                    4.497147   \n",
       "std                       2.694793                    6.375218   \n",
       "min                     -13.527860                   -6.094560   \n",
       "25%                      -0.608970                    0.047260   \n",
       "50%                      -0.063410                    3.296410   \n",
       "75%                       0.612090                    7.602780   \n",
       "max                       4.840330                   20.694590   \n",
       "\n",
       "       price_change_percentage_14d  price_change_percentage_30d  \\\n",
       "count                    41.000000                    41.000000   \n",
       "mean                      0.185787                     1.545693   \n",
       "std                       8.376939                    26.344218   \n",
       "min                     -18.158900                   -34.705480   \n",
       "25%                      -5.026620                   -10.438470   \n",
       "50%                       0.109740                    -0.042370   \n",
       "75%                       5.510740                     4.578130   \n",
       "max                      24.239190                   140.795700   \n",
       "\n",
       "       price_change_percentage_60d  price_change_percentage_200d  \\\n",
       "count                    41.000000                     41.000000   \n",
       "mean                     -0.094119                    236.537432   \n",
       "std                      47.365803                    435.225304   \n",
       "min                     -44.822480                     -0.392100   \n",
       "25%                     -25.907990                     21.660420   \n",
       "50%                      -7.544550                     83.905200   \n",
       "75%                       0.657260                    216.177610   \n",
       "max                     223.064370                   2227.927820   \n",
       "\n",
       "       price_change_percentage_1y  \n",
       "count                   41.000000  \n",
       "mean                   347.667956  \n",
       "std                   1247.842884  \n",
       "min                    -17.567530  \n",
       "25%                      0.406170  \n",
       "50%                     69.691950  \n",
       "75%                    168.372510  \n",
       "max                   7852.089700  "
      ]
     },
     "execution_count": 136,
     "metadata": {},
     "output_type": "execute_result"
    }
   ],
   "source": [
    "# Generate summary statistics\n",
    "df_market_data.describe()"
   ]
  },
  {
   "cell_type": "code",
   "execution_count": 137,
   "metadata": {},
   "outputs": [
    {
     "data": {},
     "metadata": {},
     "output_type": "display_data"
    },
    {
     "data": {
      "application/vnd.holoviews_exec.v0+json": "",
      "text/html": [
       "<div id='4177'>\n",
       "  <div class=\"bk-root\" id=\"931dbf5a-e15c-4e2b-b0ad-2131527cfadc\" data-root-id=\"4177\"></div>\n",
       "</div>\n",
       "<script type=\"application/javascript\">(function(root) {\n",
       "  function embed_document(root) {\n",
       "    var docs_json = {\"eff98db0-c737-4f82-a609-9ef53d7a5848\":{\"defs\":[{\"extends\":null,\"module\":null,\"name\":\"ReactiveHTML1\",\"overrides\":[],\"properties\":[]},{\"extends\":null,\"module\":null,\"name\":\"FlexBox1\",\"overrides\":[],\"properties\":[{\"default\":\"flex-start\",\"kind\":null,\"name\":\"align_content\"},{\"default\":\"flex-start\",\"kind\":null,\"name\":\"align_items\"},{\"default\":\"row\",\"kind\":null,\"name\":\"flex_direction\"},{\"default\":\"wrap\",\"kind\":null,\"name\":\"flex_wrap\"},{\"default\":\"flex-start\",\"kind\":null,\"name\":\"justify_content\"}]},{\"extends\":null,\"module\":null,\"name\":\"GridStack1\",\"overrides\":[],\"properties\":[{\"default\":\"warn\",\"kind\":null,\"name\":\"mode\"},{\"default\":null,\"kind\":null,\"name\":\"ncols\"},{\"default\":null,\"kind\":null,\"name\":\"nrows\"},{\"default\":true,\"kind\":null,\"name\":\"allow_resize\"},{\"default\":true,\"kind\":null,\"name\":\"allow_drag\"},{\"default\":[],\"kind\":null,\"name\":\"state\"}]},{\"extends\":null,\"module\":null,\"name\":\"click1\",\"overrides\":[],\"properties\":[{\"default\":\"\",\"kind\":null,\"name\":\"terminal_output\"},{\"default\":\"\",\"kind\":null,\"name\":\"debug_name\"},{\"default\":0,\"kind\":null,\"name\":\"clears\"}]},{\"extends\":null,\"module\":null,\"name\":\"NotificationAreaBase1\",\"overrides\":[],\"properties\":[{\"default\":\"bottom-right\",\"kind\":null,\"name\":\"position\"},{\"default\":0,\"kind\":null,\"name\":\"_clear\"}]},{\"extends\":null,\"module\":null,\"name\":\"NotificationArea1\",\"overrides\":[],\"properties\":[{\"default\":[],\"kind\":null,\"name\":\"notifications\"},{\"default\":\"bottom-right\",\"kind\":null,\"name\":\"position\"},{\"default\":0,\"kind\":null,\"name\":\"_clear\"},{\"default\":[{\"background\":\"#ffc107\",\"icon\":{\"className\":\"fas fa-exclamation-triangle\",\"color\":\"white\",\"tagName\":\"i\"},\"type\":\"warning\"},{\"background\":\"#007bff\",\"icon\":{\"className\":\"fas fa-info-circle\",\"color\":\"white\",\"tagName\":\"i\"},\"type\":\"info\"}],\"kind\":null,\"name\":\"types\"}]},{\"extends\":null,\"module\":null,\"name\":\"Notification\",\"overrides\":[],\"properties\":[{\"default\":null,\"kind\":null,\"name\":\"background\"},{\"default\":3000,\"kind\":null,\"name\":\"duration\"},{\"default\":null,\"kind\":null,\"name\":\"icon\"},{\"default\":\"\",\"kind\":null,\"name\":\"message\"},{\"default\":null,\"kind\":null,\"name\":\"notification_type\"},{\"default\":false,\"kind\":null,\"name\":\"_destroyed\"}]},{\"extends\":null,\"module\":null,\"name\":\"TemplateActions1\",\"overrides\":[],\"properties\":[{\"default\":0,\"kind\":null,\"name\":\"open_modal\"},{\"default\":0,\"kind\":null,\"name\":\"close_modal\"}]},{\"extends\":null,\"module\":null,\"name\":\"MaterialTemplateActions1\",\"overrides\":[],\"properties\":[{\"default\":0,\"kind\":null,\"name\":\"open_modal\"},{\"default\":0,\"kind\":null,\"name\":\"close_modal\"}]}],\"roots\":{\"references\":[{\"attributes\":{\"end\":8641.780918,\"reset_end\":8641.780918,\"reset_start\":-834.5136980000001,\"start\":-834.5136980000001,\"tags\":[[[\"value\",\"value\",null]]]},\"id\":\"4179\",\"type\":\"Range1d\"},{\"attributes\":{},\"id\":\"4192\",\"type\":\"CategoricalScale\"},{\"attributes\":{\"line_alpha\":0.1,\"line_color\":\"#30a2da\",\"line_width\":2,\"x\":{\"field\":\"coin_id\"},\"y\":{\"field\":\"value\"}},\"id\":\"4226\",\"type\":\"Line\"},{\"attributes\":{},\"id\":\"4400\",\"type\":\"UnionRenderers\"},{\"attributes\":{\"axis_label\":\"coin_id\",\"coordinates\":null,\"formatter\":{\"id\":\"4217\"},\"group\":null,\"major_label_orientation\":1.5707963267948966,\"major_label_policy\":{\"id\":\"4218\"},\"ticker\":{\"id\":\"4197\"}},\"id\":\"4196\",\"type\":\"CategoricalAxis\"},{\"attributes\":{\"line_color\":\"#17becf\",\"line_width\":2,\"x\":{\"field\":\"coin_id\"},\"y\":{\"field\":\"value\"}},\"id\":\"4346\",\"type\":\"Line\"},{\"attributes\":{\"data\":{\"Variable\":[\"price_change_percentage_7d\",\"price_change_percentage_7d\",\"price_change_percentage_7d\",\"price_change_percentage_7d\",\"price_change_percentage_7d\",\"price_change_percentage_7d\",\"price_change_percentage_7d\",\"price_change_percentage_7d\",\"price_change_percentage_7d\",\"price_change_percentage_7d\",\"price_change_percentage_7d\",\"price_change_percentage_7d\",\"price_change_percentage_7d\",\"price_change_percentage_7d\",\"price_change_percentage_7d\",\"price_change_percentage_7d\",\"price_change_percentage_7d\",\"price_change_percentage_7d\",\"price_change_percentage_7d\",\"price_change_percentage_7d\",\"price_change_percentage_7d\",\"price_change_percentage_7d\",\"price_change_percentage_7d\",\"price_change_percentage_7d\",\"price_change_percentage_7d\",\"price_change_percentage_7d\",\"price_change_percentage_7d\",\"price_change_percentage_7d\",\"price_change_percentage_7d\",\"price_change_percentage_7d\",\"price_change_percentage_7d\",\"price_change_percentage_7d\",\"price_change_percentage_7d\",\"price_change_percentage_7d\",\"price_change_percentage_7d\",\"price_change_percentage_7d\",\"price_change_percentage_7d\",\"price_change_percentage_7d\",\"price_change_percentage_7d\",\"price_change_percentage_7d\",\"price_change_percentage_7d\"],\"coin_id\":[\"bitcoin\",\"ethereum\",\"tether\",\"ripple\",\"bitcoin-cash\",\"binancecoin\",\"chainlink\",\"cardano\",\"litecoin\",\"bitcoin-cash-sv\",\"crypto-com-chain\",\"usd-coin\",\"eos\",\"monero\",\"tron\",\"tezos\",\"okb\",\"stellar\",\"cosmos\",\"cdai\",\"neo\",\"wrapped-bitcoin\",\"leo-token\",\"huobi-token\",\"nem\",\"binance-usd\",\"iota\",\"vechain\",\"zcash\",\"theta-token\",\"dash\",\"ethereum-classic\",\"ethlend\",\"maker\",\"havven\",\"omisego\",\"celsius-degree-token\",\"ontology\",\"ftx-token\",\"true-usd\",\"digibyte\"],\"value\":{\"__ndarray__\":\"RbsKKT9pHkAzUBn/PsMkQL99HThnRKk/yVnY0w5/47/+JhQi4BgxQBL3WPrQtSlA7yB2ptCxNEA/jBAebfwrQPFL/bypaBpArKjBNAxfCkByv0NRoK8WwPlJtU/HY76/lPsdigL99L+n6Egu/5EvQE1KQbeX9BBA0m9fB87pIUBlU67wLjcSwKbtX1lpkgBAZwqd19gVMEBcIEHxY8ytP3wnZr0YigNAOh4zUBmfHUD3Hi457pT1vzNQGf8+4/k/kQ96Nqs+6781Y9F0djKoP2dEaW/wRRhAgXhdv2A3/L/8GHPXErIkQP8JLlbUYBjAVU0QdR9gFEDRlnMprmoIQGCrBIvD2RBAAiuHFtlOIECbG9MTllgRQKhXyjLEURtAqn06HjNQ4z+UvDrHgGzzvwltOZfiahxAsD2zJEBNxT8yj/zBwHPlPw==\",\"dtype\":\"float64\",\"order\":\"little\",\"shape\":[41]}},\"selected\":{\"id\":\"4244\"},\"selection_policy\":{\"id\":\"4260\"}},\"id\":\"4243\",\"type\":\"ColumnDataSource\"},{\"attributes\":{\"line_alpha\":0.1,\"line_color\":\"#8b8b8b\",\"line_width\":2,\"x\":{\"field\":\"coin_id\"},\"y\":{\"field\":\"value\"}},\"id\":\"4319\",\"type\":\"Line\"},{\"attributes\":{\"source\":{\"id\":\"4343\"}},\"id\":\"4350\",\"type\":\"CDSView\"},{\"attributes\":{\"callback\":null,\"renderers\":[{\"id\":\"4228\"},{\"id\":\"4249\"},{\"id\":\"4271\"},{\"id\":\"4295\"},{\"id\":\"4321\"},{\"id\":\"4349\"},{\"id\":\"4379\"}],\"tags\":[\"hv_created\"],\"tooltips\":[[\"Variable\",\"@{Variable}\"],[\"coin_id\",\"@{coin_id}\"],[\"value\",\"@{value}\"]]},\"id\":\"4180\",\"type\":\"HoverTool\"},{\"attributes\":{\"click_policy\":\"mute\",\"coordinates\":null,\"group\":null,\"items\":[{\"id\":\"4241\"},{\"id\":\"4263\"},{\"id\":\"4287\"},{\"id\":\"4313\"},{\"id\":\"4341\"},{\"id\":\"4371\"},{\"id\":\"4403\"}],\"location\":[0,0],\"title\":\"Variable\"},\"id\":\"4240\",\"type\":\"Legend\"},{\"attributes\":{\"line_color\":\"#6d904f\",\"line_width\":2,\"x\":{\"field\":\"coin_id\"},\"y\":{\"field\":\"value\"}},\"id\":\"4314\",\"type\":\"Line\"},{\"attributes\":{\"data\":{\"Variable\":[\"price_change_percentage_14d\",\"price_change_percentage_14d\",\"price_change_percentage_14d\",\"price_change_percentage_14d\",\"price_change_percentage_14d\",\"price_change_percentage_14d\",\"price_change_percentage_14d\",\"price_change_percentage_14d\",\"price_change_percentage_14d\",\"price_change_percentage_14d\",\"price_change_percentage_14d\",\"price_change_percentage_14d\",\"price_change_percentage_14d\",\"price_change_percentage_14d\",\"price_change_percentage_14d\",\"price_change_percentage_14d\",\"price_change_percentage_14d\",\"price_change_percentage_14d\",\"price_change_percentage_14d\",\"price_change_percentage_14d\",\"price_change_percentage_14d\",\"price_change_percentage_14d\",\"price_change_percentage_14d\",\"price_change_percentage_14d\",\"price_change_percentage_14d\",\"price_change_percentage_14d\",\"price_change_percentage_14d\",\"price_change_percentage_14d\",\"price_change_percentage_14d\",\"price_change_percentage_14d\",\"price_change_percentage_14d\",\"price_change_percentage_14d\",\"price_change_percentage_14d\",\"price_change_percentage_14d\",\"price_change_percentage_14d\",\"price_change_percentage_14d\",\"price_change_percentage_14d\",\"price_change_percentage_14d\",\"price_change_percentage_14d\",\"price_change_percentage_14d\",\"price_change_percentage_14d\"],\"coin_id\":[\"bitcoin\",\"ethereum\",\"tether\",\"ripple\",\"bitcoin-cash\",\"binancecoin\",\"chainlink\",\"cardano\",\"litecoin\",\"bitcoin-cash-sv\",\"crypto-com-chain\",\"usd-coin\",\"eos\",\"monero\",\"tron\",\"tezos\",\"okb\",\"stellar\",\"cosmos\",\"cdai\",\"neo\",\"wrapped-bitcoin\",\"leo-token\",\"huobi-token\",\"nem\",\"binance-usd\",\"iota\",\"vechain\",\"zcash\",\"theta-token\",\"dash\",\"ethereum-classic\",\"ethlend\",\"maker\",\"havven\",\"omisego\",\"celsius-degree-token\",\"ontology\",\"ftx-token\",\"true-usd\",\"digibyte\"],\"value\":{\"__ndarray__\":\"zQaZZORMGkB5knTN5DsTQC1DHOviNno/ctwpHaz/AUCLic3HtYEtQJgvL8A+OhtACoDxDBqaIkAOhGQBEzgWQICfceFAKB1AIVnABG7d/b8xsfm4NhQhwGtI3GPpQ3e/pfeNrz0z8j8ao3VUNWkyQBUA4xk0dPY/VIzzN6GQAkCXrfVFQhsUwKpla32RUPG/Qgkzbf8KFkDPg7uzdtvFP8MN+PwwsiPAYFlpUgo6GkB3+GuyRh0cwM2v5gDBHN0/jliLTwEwBUDWrZ6T3jeuP7pOIy2VNw7Am1Wfq60oMsAJM23/yioXQJfK2xFOSxrAQE0tW+uL4D9OucK7XET0v0SLbOf7mSPA/pqsUQ/R978vaYzWUZUqwDtT6LzGbirAvodLjjs9OEByUMJM2x8lwJ30vvG1Z8q/ZCMQr+sXvD+7D0BqE0cdwA==\",\"dtype\":\"float64\",\"order\":\"little\",\"shape\":[41]}},\"selected\":{\"id\":\"4266\"},\"selection_policy\":{\"id\":\"4284\"}},\"id\":\"4265\",\"type\":\"ColumnDataSource\"},{\"attributes\":{\"label\":{\"value\":\"price_change_percentage_14d\"},\"renderers\":[{\"id\":\"4271\"}]},\"id\":\"4287\",\"type\":\"LegendItem\"},{\"attributes\":{\"coordinates\":null,\"data_source\":{\"id\":\"4222\"},\"glyph\":{\"id\":\"4225\"},\"group\":null,\"hover_glyph\":null,\"muted_glyph\":{\"id\":\"4227\"},\"nonselection_glyph\":{\"id\":\"4226\"},\"selection_glyph\":{\"id\":\"4242\"},\"view\":{\"id\":\"4229\"}},\"id\":\"4228\",\"type\":\"GlyphRenderer\"},{\"attributes\":{},\"id\":\"4310\",\"type\":\"UnionRenderers\"},{\"attributes\":{\"children\":[{\"id\":\"4187\"}],\"height\":400,\"margin\":[0,0,0,0],\"name\":\"Row05119\",\"sizing_mode\":\"fixed\",\"tags\":[\"embedded\"],\"width\":800},\"id\":\"4177\",\"type\":\"Row\"},{\"attributes\":{\"line_alpha\":0.2,\"line_color\":\"#30a2da\",\"line_width\":2,\"x\":{\"field\":\"coin_id\"},\"y\":{\"field\":\"value\"}},\"id\":\"4227\",\"type\":\"Line\"},{\"attributes\":{\"coordinates\":null,\"data_source\":{\"id\":\"4265\"},\"glyph\":{\"id\":\"4268\"},\"group\":null,\"hover_glyph\":null,\"muted_glyph\":{\"id\":\"4270\"},\"nonselection_glyph\":{\"id\":\"4269\"},\"selection_glyph\":{\"id\":\"4288\"},\"view\":{\"id\":\"4272\"}},\"id\":\"4271\",\"type\":\"GlyphRenderer\"},{\"attributes\":{},\"id\":\"4223\",\"type\":\"Selection\"},{\"attributes\":{\"label\":{\"value\":\"price_change_percentage_1y\"},\"renderers\":[{\"id\":\"4379\"}]},\"id\":\"4403\",\"type\":\"LegendItem\"},{\"attributes\":{\"line_alpha\":0.2,\"line_color\":\"#e5ae38\",\"line_width\":2,\"x\":{\"field\":\"coin_id\"},\"y\":{\"field\":\"value\"}},\"id\":\"4270\",\"type\":\"Line\"},{\"attributes\":{},\"id\":\"4266\",\"type\":\"Selection\"},{\"attributes\":{\"factors\":[\"bitcoin\",\"ethereum\",\"tether\",\"ripple\",\"bitcoin-cash\",\"binancecoin\",\"chainlink\",\"cardano\",\"litecoin\",\"bitcoin-cash-sv\",\"crypto-com-chain\",\"usd-coin\",\"eos\",\"monero\",\"tron\",\"tezos\",\"okb\",\"stellar\",\"cosmos\",\"cdai\",\"neo\",\"wrapped-bitcoin\",\"leo-token\",\"huobi-token\",\"nem\",\"binance-usd\",\"iota\",\"vechain\",\"zcash\",\"theta-token\",\"dash\",\"ethereum-classic\",\"ethlend\",\"maker\",\"havven\",\"omisego\",\"celsius-degree-token\",\"ontology\",\"ftx-token\",\"true-usd\",\"digibyte\"],\"tags\":[[[\"coin_id\",\"coin_id\",null]]]},\"id\":\"4178\",\"type\":\"FactorRange\"},{\"attributes\":{\"data\":{\"Variable\":[\"price_change_percentage_60d\",\"price_change_percentage_60d\",\"price_change_percentage_60d\",\"price_change_percentage_60d\",\"price_change_percentage_60d\",\"price_change_percentage_60d\",\"price_change_percentage_60d\",\"price_change_percentage_60d\",\"price_change_percentage_60d\",\"price_change_percentage_60d\",\"price_change_percentage_60d\",\"price_change_percentage_60d\",\"price_change_percentage_60d\",\"price_change_percentage_60d\",\"price_change_percentage_60d\",\"price_change_percentage_60d\",\"price_change_percentage_60d\",\"price_change_percentage_60d\",\"price_change_percentage_60d\",\"price_change_percentage_60d\",\"price_change_percentage_60d\",\"price_change_percentage_60d\",\"price_change_percentage_60d\",\"price_change_percentage_60d\",\"price_change_percentage_60d\",\"price_change_percentage_60d\",\"price_change_percentage_60d\",\"price_change_percentage_60d\",\"price_change_percentage_60d\",\"price_change_percentage_60d\",\"price_change_percentage_60d\",\"price_change_percentage_60d\",\"price_change_percentage_60d\",\"price_change_percentage_60d\",\"price_change_percentage_60d\",\"price_change_percentage_60d\",\"price_change_percentage_60d\",\"price_change_percentage_60d\",\"price_change_percentage_60d\",\"price_change_percentage_60d\",\"price_change_percentage_60d\"],\"coin_id\":[\"bitcoin\",\"ethereum\",\"tether\",\"ripple\",\"bitcoin-cash\",\"binancecoin\",\"chainlink\",\"cardano\",\"litecoin\",\"bitcoin-cash-sv\",\"crypto-com-chain\",\"usd-coin\",\"eos\",\"monero\",\"tron\",\"tezos\",\"okb\",\"stellar\",\"cosmos\",\"cdai\",\"neo\",\"wrapped-bitcoin\",\"leo-token\",\"huobi-token\",\"nem\",\"binance-usd\",\"iota\",\"vechain\",\"zcash\",\"theta-token\",\"dash\",\"ethereum-classic\",\"ethlend\",\"maker\",\"havven\",\"omisego\",\"celsius-degree-token\",\"ontology\",\"ftx-token\",\"true-usd\",\"digibyte\"],\"value\":{\"__ndarray__\":\"FvvL7skDCsAs1JrmHccpwKjjMQOV8dE/2qz6XG2NMcBzol2FlG8rwIleRrHcKkJAN8MN+PzYRcBi26LMBtk2wCEf9GxWPTHAq5UJv9TfOMBg5dAi23kwwDygbMoV3qU/l631RUIrPsDNzMzMzNxEQJm7lpAPGhZAms5OBkdpRsBKe4MvTKYGwEsfuqC+zT7APL1SliHOHMC4AZ8fRgjlP9L7xteeCStAFqQZi6azDMCvJeSDni0ewDeOWItPQQvAXvQVpBm3VEDaOGItPgW4PwpLPKBsQkHAaw4QzNHPRcAJM23/yoo0wBmQvd79AVRAfa62Yn85OsBVGFsIcug5wLCsNCkFHQFA529CIQKeMsA0uoPYmbZDwPKwUGua0VNA/pqsUQ/ia0Ao8iTpmllAwFuxv+yenBdAmrFoOjsZ0D8s1JrmHRc/wA==\",\"dtype\":\"float64\",\"order\":\"little\",\"shape\":[41]}},\"selected\":{\"id\":\"4316\"},\"selection_policy\":{\"id\":\"4338\"}},\"id\":\"4315\",\"type\":\"ColumnDataSource\"},{\"attributes\":{\"label\":{\"value\":\"price_change_percentage_60d\"},\"renderers\":[{\"id\":\"4321\"}]},\"id\":\"4341\",\"type\":\"LegendItem\"},{\"attributes\":{\"source\":{\"id\":\"4265\"}},\"id\":\"4272\",\"type\":\"CDSView\"},{\"attributes\":{\"line_color\":\"#e5ae38\",\"line_width\":2,\"x\":{\"field\":\"coin_id\"},\"y\":{\"field\":\"value\"}},\"id\":\"4268\",\"type\":\"Line\"},{\"attributes\":{\"coordinates\":null,\"data_source\":{\"id\":\"4315\"},\"glyph\":{\"id\":\"4318\"},\"group\":null,\"hover_glyph\":null,\"muted_glyph\":{\"id\":\"4320\"},\"nonselection_glyph\":{\"id\":\"4319\"},\"selection_glyph\":{\"id\":\"4342\"},\"view\":{\"id\":\"4322\"}},\"id\":\"4321\",\"type\":\"GlyphRenderer\"},{\"attributes\":{\"line_alpha\":0.1,\"line_color\":\"#fc4f30\",\"line_width\":2,\"x\":{\"field\":\"coin_id\"},\"y\":{\"field\":\"value\"}},\"id\":\"4247\",\"type\":\"Line\"},{\"attributes\":{\"line_color\":\"#30a2da\",\"line_width\":2,\"x\":{\"field\":\"coin_id\"},\"y\":{\"field\":\"value\"}},\"id\":\"4242\",\"type\":\"Line\"},{\"attributes\":{\"source\":{\"id\":\"4222\"}},\"id\":\"4229\",\"type\":\"CDSView\"},{\"attributes\":{\"line_alpha\":0.2,\"line_color\":\"#8b8b8b\",\"line_width\":2,\"x\":{\"field\":\"coin_id\"},\"y\":{\"field\":\"value\"}},\"id\":\"4320\",\"type\":\"Line\"},{\"attributes\":{\"line_color\":\"#30a2da\",\"line_width\":2,\"x\":{\"field\":\"coin_id\"},\"y\":{\"field\":\"value\"}},\"id\":\"4225\",\"type\":\"Line\"},{\"attributes\":{},\"id\":\"4316\",\"type\":\"Selection\"},{\"attributes\":{\"line_color\":\"#17becf\",\"line_width\":2,\"x\":{\"field\":\"coin_id\"},\"y\":{\"field\":\"value\"}},\"id\":\"4372\",\"type\":\"Line\"},{\"attributes\":{\"line_alpha\":0.2,\"line_color\":\"#6d904f\",\"line_width\":2,\"x\":{\"field\":\"coin_id\"},\"y\":{\"field\":\"value\"}},\"id\":\"4294\",\"type\":\"Line\"},{\"attributes\":{\"data\":{\"Variable\":[\"price_change_percentage_1y\",\"price_change_percentage_1y\",\"price_change_percentage_1y\",\"price_change_percentage_1y\",\"price_change_percentage_1y\",\"price_change_percentage_1y\",\"price_change_percentage_1y\",\"price_change_percentage_1y\",\"price_change_percentage_1y\",\"price_change_percentage_1y\",\"price_change_percentage_1y\",\"price_change_percentage_1y\",\"price_change_percentage_1y\",\"price_change_percentage_1y\",\"price_change_percentage_1y\",\"price_change_percentage_1y\",\"price_change_percentage_1y\",\"price_change_percentage_1y\",\"price_change_percentage_1y\",\"price_change_percentage_1y\",\"price_change_percentage_1y\",\"price_change_percentage_1y\",\"price_change_percentage_1y\",\"price_change_percentage_1y\",\"price_change_percentage_1y\",\"price_change_percentage_1y\",\"price_change_percentage_1y\",\"price_change_percentage_1y\",\"price_change_percentage_1y\",\"price_change_percentage_1y\",\"price_change_percentage_1y\",\"price_change_percentage_1y\",\"price_change_percentage_1y\",\"price_change_percentage_1y\",\"price_change_percentage_1y\",\"price_change_percentage_1y\",\"price_change_percentage_1y\",\"price_change_percentage_1y\",\"price_change_percentage_1y\",\"price_change_percentage_1y\",\"price_change_percentage_1y\"],\"coin_id\":[\"bitcoin\",\"ethereum\",\"tether\",\"ripple\",\"bitcoin-cash\",\"binancecoin\",\"chainlink\",\"cardano\",\"litecoin\",\"bitcoin-cash-sv\",\"crypto-com-chain\",\"usd-coin\",\"eos\",\"monero\",\"tron\",\"tezos\",\"okb\",\"stellar\",\"cosmos\",\"cdai\",\"neo\",\"wrapped-bitcoin\",\"leo-token\",\"huobi-token\",\"nem\",\"binance-usd\",\"iota\",\"vechain\",\"zcash\",\"theta-token\",\"dash\",\"ethereum-classic\",\"ethlend\",\"maker\",\"havven\",\"omisego\",\"celsius-degree-token\",\"ontology\",\"ftx-token\",\"true-usd\",\"digibyte\"],\"value\":{\"__ndarray__\":\"kQpjC0HCQkDWqIdodH1ZQN/42jNLApQ/NXugFRiaMMDN6bKY2PwsQOcdp+hIbFFAaTo7GRxSdEC6LCY2H4NjQPnaM0sCVCnA0NA/wcVuV0CQvd798RBzQL4wmSoYlci/t39lpUmRMcDovMYuUaFhQEPKT6p9nk1A6PaSxmiAYUBdUN8yp75hQMzuycNCnStAw7ZFmQ2cVEAHsTOFzmvSvx/0bFZ9aWBAhhvw+WHEQkAN/RNcrAA1QN8Vwf9WkjhAS7A4nPkWaUAVUn5S7dPBPzUk7rH04Q/AIsMq3shbaUBf0hito7hUQPyMCwcC64VAzsKedvirA8Dwoq8gzTgmQHRGlPYWrL5Ayk+qfTpOJUDfiVkvRjaFQEfJq3MMC3RAnFCIgONmn0CsVib8Uk8pwNttF5rrC2VAyXGndLD+2T/ZfFwbKgxnQA==\",\"dtype\":\"float64\",\"order\":\"little\",\"shape\":[41]}},\"selected\":{\"id\":\"4374\"},\"selection_policy\":{\"id\":\"4400\"}},\"id\":\"4373\",\"type\":\"ColumnDataSource\"},{\"attributes\":{\"source\":{\"id\":\"4315\"}},\"id\":\"4322\",\"type\":\"CDSView\"},{\"attributes\":{},\"id\":\"4290\",\"type\":\"Selection\"},{\"attributes\":{\"line_color\":\"#8b8b8b\",\"line_width\":2,\"x\":{\"field\":\"coin_id\"},\"y\":{\"field\":\"value\"}},\"id\":\"4318\",\"type\":\"Line\"},{\"attributes\":{\"coordinates\":null,\"group\":null,\"text_color\":\"black\",\"text_font_size\":\"12pt\"},\"id\":\"4188\",\"type\":\"Title\"},{\"attributes\":{\"coordinates\":null,\"data_source\":{\"id\":\"4373\"},\"glyph\":{\"id\":\"4376\"},\"group\":null,\"hover_glyph\":null,\"muted_glyph\":{\"id\":\"4378\"},\"nonselection_glyph\":{\"id\":\"4377\"},\"selection_glyph\":{\"id\":\"4404\"},\"view\":{\"id\":\"4380\"}},\"id\":\"4379\",\"type\":\"GlyphRenderer\"},{\"attributes\":{},\"id\":\"4218\",\"type\":\"AllLabels\"},{\"attributes\":{\"label\":{\"value\":\"price_change_percentage_7d\"},\"renderers\":[{\"id\":\"4249\"}]},\"id\":\"4263\",\"type\":\"LegendItem\"},{\"attributes\":{\"line_alpha\":0.2,\"line_color\":\"#9467bd\",\"line_width\":2,\"x\":{\"field\":\"coin_id\"},\"y\":{\"field\":\"value\"}},\"id\":\"4378\",\"type\":\"Line\"},{\"attributes\":{},\"id\":\"4284\",\"type\":\"UnionRenderers\"},{\"attributes\":{},\"id\":\"4374\",\"type\":\"Selection\"},{\"attributes\":{\"line_alpha\":0.1,\"line_color\":\"#6d904f\",\"line_width\":2,\"x\":{\"field\":\"coin_id\"},\"y\":{\"field\":\"value\"}},\"id\":\"4293\",\"type\":\"Line\"},{\"attributes\":{\"coordinates\":null,\"data_source\":{\"id\":\"4243\"},\"glyph\":{\"id\":\"4246\"},\"group\":null,\"hover_glyph\":null,\"muted_glyph\":{\"id\":\"4248\"},\"nonselection_glyph\":{\"id\":\"4247\"},\"selection_glyph\":{\"id\":\"4264\"},\"view\":{\"id\":\"4250\"}},\"id\":\"4249\",\"type\":\"GlyphRenderer\"},{\"attributes\":{},\"id\":\"4194\",\"type\":\"LinearScale\"},{\"attributes\":{\"line_color\":\"#e5ae38\",\"line_width\":2,\"x\":{\"field\":\"coin_id\"},\"y\":{\"field\":\"value\"}},\"id\":\"4288\",\"type\":\"Line\"},{\"attributes\":{\"line_alpha\":0.2,\"line_color\":\"#fc4f30\",\"line_width\":2,\"x\":{\"field\":\"coin_id\"},\"y\":{\"field\":\"value\"}},\"id\":\"4248\",\"type\":\"Line\"},{\"attributes\":{},\"id\":\"4197\",\"type\":\"CategoricalTicker\"},{\"attributes\":{},\"id\":\"4244\",\"type\":\"Selection\"},{\"attributes\":{\"axis\":{\"id\":\"4196\"},\"coordinates\":null,\"grid_line_color\":null,\"group\":null,\"ticker\":null},\"id\":\"4198\",\"type\":\"Grid\"},{\"attributes\":{\"source\":{\"id\":\"4373\"}},\"id\":\"4380\",\"type\":\"CDSView\"},{\"attributes\":{},\"id\":\"4260\",\"type\":\"UnionRenderers\"},{\"attributes\":{},\"id\":\"4204\",\"type\":\"PanTool\"},{\"attributes\":{\"line_color\":\"#9467bd\",\"line_width\":2,\"x\":{\"field\":\"coin_id\"},\"y\":{\"field\":\"value\"}},\"id\":\"4376\",\"type\":\"Line\"},{\"attributes\":{\"axis_label\":\"\",\"coordinates\":null,\"formatter\":{\"id\":\"4220\"},\"group\":null,\"major_label_policy\":{\"id\":\"4221\"},\"ticker\":{\"id\":\"4200\"}},\"id\":\"4199\",\"type\":\"LinearAxis\"},{\"attributes\":{},\"id\":\"4237\",\"type\":\"UnionRenderers\"},{\"attributes\":{\"axis\":{\"id\":\"4199\"},\"coordinates\":null,\"dimension\":1,\"grid_line_color\":null,\"group\":null,\"ticker\":null},\"id\":\"4202\",\"type\":\"Grid\"},{\"attributes\":{},\"id\":\"4200\",\"type\":\"BasicTicker\"},{\"attributes\":{},\"id\":\"4205\",\"type\":\"WheelZoomTool\"},{\"attributes\":{\"source\":{\"id\":\"4243\"}},\"id\":\"4250\",\"type\":\"CDSView\"},{\"attributes\":{\"line_color\":\"#fc4f30\",\"line_width\":2,\"x\":{\"field\":\"coin_id\"},\"y\":{\"field\":\"value\"}},\"id\":\"4246\",\"type\":\"Line\"},{\"attributes\":{},\"id\":\"4203\",\"type\":\"SaveTool\"},{\"attributes\":{\"overlay\":{\"id\":\"4208\"}},\"id\":\"4206\",\"type\":\"BoxZoomTool\"},{\"attributes\":{\"line_color\":\"#8b8b8b\",\"line_width\":2,\"x\":{\"field\":\"coin_id\"},\"y\":{\"field\":\"value\"}},\"id\":\"4342\",\"type\":\"Line\"},{\"attributes\":{},\"id\":\"4207\",\"type\":\"ResetTool\"},{\"attributes\":{\"data\":{\"Variable\":[\"price_change_percentage_30d\",\"price_change_percentage_30d\",\"price_change_percentage_30d\",\"price_change_percentage_30d\",\"price_change_percentage_30d\",\"price_change_percentage_30d\",\"price_change_percentage_30d\",\"price_change_percentage_30d\",\"price_change_percentage_30d\",\"price_change_percentage_30d\",\"price_change_percentage_30d\",\"price_change_percentage_30d\",\"price_change_percentage_30d\",\"price_change_percentage_30d\",\"price_change_percentage_30d\",\"price_change_percentage_30d\",\"price_change_percentage_30d\",\"price_change_percentage_30d\",\"price_change_percentage_30d\",\"price_change_percentage_30d\",\"price_change_percentage_30d\",\"price_change_percentage_30d\",\"price_change_percentage_30d\",\"price_change_percentage_30d\",\"price_change_percentage_30d\",\"price_change_percentage_30d\",\"price_change_percentage_30d\",\"price_change_percentage_30d\",\"price_change_percentage_30d\",\"price_change_percentage_30d\",\"price_change_percentage_30d\",\"price_change_percentage_30d\",\"price_change_percentage_30d\",\"price_change_percentage_30d\",\"price_change_percentage_30d\",\"price_change_percentage_30d\",\"price_change_percentage_30d\",\"price_change_percentage_30d\",\"price_change_percentage_30d\",\"price_change_percentage_30d\",\"price_change_percentage_30d\"],\"coin_id\":[\"bitcoin\",\"ethereum\",\"tether\",\"ripple\",\"bitcoin-cash\",\"binancecoin\",\"chainlink\",\"cardano\",\"litecoin\",\"bitcoin-cash-sv\",\"crypto-com-chain\",\"usd-coin\",\"eos\",\"monero\",\"tron\",\"tezos\",\"okb\",\"stellar\",\"cosmos\",\"cdai\",\"neo\",\"wrapped-bitcoin\",\"leo-token\",\"huobi-token\",\"nem\",\"binance-usd\",\"iota\",\"vechain\",\"zcash\",\"theta-token\",\"dash\",\"ethereum-classic\",\"ethlend\",\"maker\",\"havven\",\"omisego\",\"celsius-degree-token\",\"ontology\",\"ftx-token\",\"true-usd\",\"digibyte\"],\"value\":{\"__ndarray__\":\"VMa/z7iwHkAl6ZrJN9vAP/28qUiFsaW/L26jAbwFzj8dcjPcgH8vQPMf0m9fB64/5bhTOlhvJsBnfjUHCDYkQGWNeohGd/M/sCDNWDQdB0Cmft5UpHIxwJgvL8A+OsW/t0WZDTKJEsDeVKTC2HpDQEzD8BExNSnAjWK5pdVALMDjjcwjf+AkwIrIsIo3QiDAjliLTwFQEkAWpBmLpnMBwE3WqIdo9DXAVG8NbJWAHUAnMQisHJoIQGA8g4b+CQrACcTr+gU7DcCPpQ9dUN+SP80Bgjl6nBDA9S1zuixWLMBC7Eyh83odQEku/yH9bj9AtTf4wmQqH8Am/FI/byoHQNjYJaq3/j3A9GxWfa62MECdRloqb9c0wF4R/G8lOyLArK3YX3aZYUC1/SsrTVpBwP/PYb68ICXAFR3J5T+knz+ndLD+z4EqQA==\",\"dtype\":\"float64\",\"order\":\"little\",\"shape\":[41]}},\"selected\":{\"id\":\"4290\"},\"selection_policy\":{\"id\":\"4310\"}},\"id\":\"4289\",\"type\":\"ColumnDataSource\"},{\"attributes\":{\"label\":{\"value\":\"price_change_percentage_30d\"},\"renderers\":[{\"id\":\"4295\"}]},\"id\":\"4313\",\"type\":\"LegendItem\"},{\"attributes\":{},\"id\":\"4338\",\"type\":\"UnionRenderers\"},{\"attributes\":{\"bottom_units\":\"screen\",\"coordinates\":null,\"fill_alpha\":0.5,\"fill_color\":\"lightgrey\",\"group\":null,\"left_units\":\"screen\",\"level\":\"overlay\",\"line_alpha\":1.0,\"line_color\":\"black\",\"line_dash\":[4,4],\"line_width\":2,\"right_units\":\"screen\",\"syncable\":false,\"top_units\":\"screen\"},\"id\":\"4208\",\"type\":\"BoxAnnotation\"},{\"attributes\":{\"coordinates\":null,\"data_source\":{\"id\":\"4289\"},\"glyph\":{\"id\":\"4292\"},\"group\":null,\"hover_glyph\":null,\"muted_glyph\":{\"id\":\"4294\"},\"nonselection_glyph\":{\"id\":\"4293\"},\"selection_glyph\":{\"id\":\"4314\"},\"view\":{\"id\":\"4296\"}},\"id\":\"4295\",\"type\":\"GlyphRenderer\"},{\"attributes\":{\"line_alpha\":0.1,\"line_color\":\"#17becf\",\"line_width\":2,\"x\":{\"field\":\"coin_id\"},\"y\":{\"field\":\"value\"}},\"id\":\"4347\",\"type\":\"Line\"},{\"attributes\":{},\"id\":\"4368\",\"type\":\"UnionRenderers\"},{\"attributes\":{\"line_alpha\":0.2,\"line_color\":\"#17becf\",\"line_width\":2,\"x\":{\"field\":\"coin_id\"},\"y\":{\"field\":\"value\"}},\"id\":\"4348\",\"type\":\"Line\"},{\"attributes\":{\"active_drag\":{\"id\":\"4204\"},\"active_scroll\":{\"id\":\"4205\"},\"tools\":[{\"id\":\"4180\"},{\"id\":\"4203\"},{\"id\":\"4204\"},{\"id\":\"4205\"},{\"id\":\"4206\"},{\"id\":\"4207\"}]},\"id\":\"4209\",\"type\":\"Toolbar\"},{\"attributes\":{\"data\":{\"Variable\":[\"price_change_percentage_24h\",\"price_change_percentage_24h\",\"price_change_percentage_24h\",\"price_change_percentage_24h\",\"price_change_percentage_24h\",\"price_change_percentage_24h\",\"price_change_percentage_24h\",\"price_change_percentage_24h\",\"price_change_percentage_24h\",\"price_change_percentage_24h\",\"price_change_percentage_24h\",\"price_change_percentage_24h\",\"price_change_percentage_24h\",\"price_change_percentage_24h\",\"price_change_percentage_24h\",\"price_change_percentage_24h\",\"price_change_percentage_24h\",\"price_change_percentage_24h\",\"price_change_percentage_24h\",\"price_change_percentage_24h\",\"price_change_percentage_24h\",\"price_change_percentage_24h\",\"price_change_percentage_24h\",\"price_change_percentage_24h\",\"price_change_percentage_24h\",\"price_change_percentage_24h\",\"price_change_percentage_24h\",\"price_change_percentage_24h\",\"price_change_percentage_24h\",\"price_change_percentage_24h\",\"price_change_percentage_24h\",\"price_change_percentage_24h\",\"price_change_percentage_24h\",\"price_change_percentage_24h\",\"price_change_percentage_24h\",\"price_change_percentage_24h\",\"price_change_percentage_24h\",\"price_change_percentage_24h\",\"price_change_percentage_24h\",\"price_change_percentage_24h\",\"price_change_percentage_24h\"],\"coin_id\":[\"bitcoin\",\"ethereum\",\"tether\",\"ripple\",\"bitcoin-cash\",\"binancecoin\",\"chainlink\",\"cardano\",\"litecoin\",\"bitcoin-cash-sv\",\"crypto-com-chain\",\"usd-coin\",\"eos\",\"monero\",\"tron\",\"tezos\",\"okb\",\"stellar\",\"cosmos\",\"cdai\",\"neo\",\"wrapped-bitcoin\",\"leo-token\",\"huobi-token\",\"nem\",\"binance-usd\",\"iota\",\"vechain\",\"zcash\",\"theta-token\",\"dash\",\"ethereum-classic\",\"ethlend\",\"maker\",\"havven\",\"omisego\",\"celsius-degree-token\",\"ontology\",\"ftx-token\",\"true-usd\",\"digibyte\"],\"value\":{\"__ndarray__\":\"nZ0MjpJX8T8MzXUaaanMP5mByvj3Gcu/wCZr1EM02L8ep+hILj8HQL0Yyol21QBAwhcmUwWjzr//CS5W1GBqP7JGPUSjO7C/QKTfvg6c7T8urYbEPZbjPzeJQWDl0Ma/1pC4x9KHwj87NgLxun7bP90HILWJk7M/JjYf14aK5b83iUFg5dAFwG3i5H6HIvC/5nlwd9Zu7r9i83FtqBjLP+iHEcKjjd8/M9yAzw+j8T/fGtgqweLAv+RmuAGfH9q/UdobfGEy678D7KNTVz67v8YzaOif4No/teBFX0Ga9D8G2Eenrnzjvx+duvJZPhLAoMN8eQH28L+cxCCwcmjdv667eapDDivAX5hMFYxK479EUaBP5EkQwAZkr3d/XBNA0JuKVBgbBEDqBDQRNrz1vxo09E9wseo/tI6qJoi6r79qMA3DR8QHQA==\",\"dtype\":\"float64\",\"order\":\"little\",\"shape\":[41]}},\"selected\":{\"id\":\"4223\"},\"selection_policy\":{\"id\":\"4237\"}},\"id\":\"4222\",\"type\":\"ColumnDataSource\"},{\"attributes\":{\"source\":{\"id\":\"4289\"}},\"id\":\"4296\",\"type\":\"CDSView\"},{\"attributes\":{\"line_color\":\"#6d904f\",\"line_width\":2,\"x\":{\"field\":\"coin_id\"},\"y\":{\"field\":\"value\"}},\"id\":\"4292\",\"type\":\"Line\"},{\"attributes\":{\"line_alpha\":0.1,\"line_color\":\"#9467bd\",\"line_width\":2,\"x\":{\"field\":\"coin_id\"},\"y\":{\"field\":\"value\"}},\"id\":\"4377\",\"type\":\"Line\"},{\"attributes\":{},\"id\":\"4217\",\"type\":\"CategoricalTickFormatter\"},{\"attributes\":{\"label\":{\"value\":\"price_change_percentage_200d\"},\"renderers\":[{\"id\":\"4349\"}]},\"id\":\"4371\",\"type\":\"LegendItem\"},{\"attributes\":{\"line_color\":\"#9467bd\",\"line_width\":2,\"x\":{\"field\":\"coin_id\"},\"y\":{\"field\":\"value\"}},\"id\":\"4404\",\"type\":\"Line\"},{\"attributes\":{},\"id\":\"4344\",\"type\":\"Selection\"},{\"attributes\":{},\"id\":\"4220\",\"type\":\"BasicTickFormatter\"},{\"attributes\":{\"coordinates\":null,\"data_source\":{\"id\":\"4343\"},\"glyph\":{\"id\":\"4346\"},\"group\":null,\"hover_glyph\":null,\"muted_glyph\":{\"id\":\"4348\"},\"nonselection_glyph\":{\"id\":\"4347\"},\"selection_glyph\":{\"id\":\"4372\"},\"view\":{\"id\":\"4350\"}},\"id\":\"4349\",\"type\":\"GlyphRenderer\"},{\"attributes\":{\"below\":[{\"id\":\"4196\"}],\"center\":[{\"id\":\"4198\"},{\"id\":\"4202\"}],\"height\":400,\"left\":[{\"id\":\"4199\"}],\"margin\":[5,5,5,5],\"min_border_bottom\":10,\"min_border_left\":10,\"min_border_right\":10,\"min_border_top\":10,\"renderers\":[{\"id\":\"4228\"},{\"id\":\"4249\"},{\"id\":\"4271\"},{\"id\":\"4295\"},{\"id\":\"4321\"},{\"id\":\"4349\"},{\"id\":\"4379\"}],\"right\":[{\"id\":\"4240\"}],\"sizing_mode\":\"fixed\",\"title\":{\"id\":\"4188\"},\"toolbar\":{\"id\":\"4209\"},\"width\":800,\"x_range\":{\"id\":\"4178\"},\"x_scale\":{\"id\":\"4192\"},\"y_range\":{\"id\":\"4179\"},\"y_scale\":{\"id\":\"4194\"}},\"id\":\"4187\",\"subtype\":\"Figure\",\"type\":\"Plot\"},{\"attributes\":{\"line_alpha\":0.1,\"line_color\":\"#e5ae38\",\"line_width\":2,\"x\":{\"field\":\"coin_id\"},\"y\":{\"field\":\"value\"}},\"id\":\"4269\",\"type\":\"Line\"},{\"attributes\":{},\"id\":\"4221\",\"type\":\"AllLabels\"},{\"attributes\":{\"data\":{\"Variable\":[\"price_change_percentage_200d\",\"price_change_percentage_200d\",\"price_change_percentage_200d\",\"price_change_percentage_200d\",\"price_change_percentage_200d\",\"price_change_percentage_200d\",\"price_change_percentage_200d\",\"price_change_percentage_200d\",\"price_change_percentage_200d\",\"price_change_percentage_200d\",\"price_change_percentage_200d\",\"price_change_percentage_200d\",\"price_change_percentage_200d\",\"price_change_percentage_200d\",\"price_change_percentage_200d\",\"price_change_percentage_200d\",\"price_change_percentage_200d\",\"price_change_percentage_200d\",\"price_change_percentage_200d\",\"price_change_percentage_200d\",\"price_change_percentage_200d\",\"price_change_percentage_200d\",\"price_change_percentage_200d\",\"price_change_percentage_200d\",\"price_change_percentage_200d\",\"price_change_percentage_200d\",\"price_change_percentage_200d\",\"price_change_percentage_200d\",\"price_change_percentage_200d\",\"price_change_percentage_200d\",\"price_change_percentage_200d\",\"price_change_percentage_200d\",\"price_change_percentage_200d\",\"price_change_percentage_200d\",\"price_change_percentage_200d\",\"price_change_percentage_200d\",\"price_change_percentage_200d\",\"price_change_percentage_200d\",\"price_change_percentage_200d\",\"price_change_percentage_200d\",\"price_change_percentage_200d\"],\"coin_id\":[\"bitcoin\",\"ethereum\",\"tether\",\"ripple\",\"bitcoin-cash\",\"binancecoin\",\"chainlink\",\"cardano\",\"litecoin\",\"bitcoin-cash-sv\",\"crypto-com-chain\",\"usd-coin\",\"eos\",\"monero\",\"tron\",\"tezos\",\"okb\",\"stellar\",\"cosmos\",\"cdai\",\"neo\",\"wrapped-bitcoin\",\"leo-token\",\"huobi-token\",\"nem\",\"binance-usd\",\"iota\",\"vechain\",\"zcash\",\"theta-token\",\"dash\",\"ethereum-classic\",\"ethlend\",\"maker\",\"havven\",\"omisego\",\"celsius-degree-token\",\"ontology\",\"ftx-token\",\"true-usd\",\"digibyte\"],\"value\":{\"__ndarray__\":\"xY8xdy3hVED0piIVxlhnQBe86CtIM3a/9zsUBfrEQ0DTn/1IEak1QPTDCOHRc2NAl3MprqozeUAexM4UOohwQIB9dOrKfztAFhiyutWzHUCN7iB2plZsQIQqNXugFcS/ZHWr56QPMkALe9rhrzBlQH+8V61MnGBA5nlwd9a2RUARHm0csfpDQC+Lic3HJ1VAkj8YeO4/Z0AOvjCZKhjZv2vUQzS61GNAtRX7y+75VEC5GW7A52cwQAPso1NXHkVAKa4q+64Fa0A7NgLxun65P+TaUDHOwVdAyM1wAz7bcEAFwHgGDaNeQH3Qs1k1lYtAOUVHcvnvGEANGvonuMgkQCYZOQvbZ6FAGD4ipkSiVED5MeauZXeDQHi0ccQaSoJAC170FcTYmEB1PGagMmJLQC2yne+nvkxAndfYJaq3tr9R9wFIbSl+QA==\",\"dtype\":\"float64\",\"order\":\"little\",\"shape\":[41]}},\"selected\":{\"id\":\"4344\"},\"selection_policy\":{\"id\":\"4368\"}},\"id\":\"4343\",\"type\":\"ColumnDataSource\"},{\"attributes\":{\"line_color\":\"#fc4f30\",\"line_width\":2,\"x\":{\"field\":\"coin_id\"},\"y\":{\"field\":\"value\"}},\"id\":\"4264\",\"type\":\"Line\"},{\"attributes\":{\"label\":{\"value\":\"price_change_percentage_24h\"},\"renderers\":[{\"id\":\"4228\"}]},\"id\":\"4241\",\"type\":\"LegendItem\"}],\"root_ids\":[\"4177\"]},\"title\":\"Bokeh Application\",\"version\":\"2.4.3\"}};\n",
       "    var render_items = [{\"docid\":\"eff98db0-c737-4f82-a609-9ef53d7a5848\",\"root_ids\":[\"4177\"],\"roots\":{\"4177\":\"931dbf5a-e15c-4e2b-b0ad-2131527cfadc\"}}];\n",
       "    root.Bokeh.embed.embed_items_notebook(docs_json, render_items);\n",
       "    for (const render_item of render_items) {\n",
       "      for (const root_id of render_item.root_ids) {\n",
       "\tconst id_el = document.getElementById(root_id)\n",
       "\tif (id_el.children.length && (id_el.children[0].className === 'bk-root')) {\n",
       "\t  const root_el = id_el.children[0]\n",
       "\t  root_el.id = root_el.id + '-rendered'\n",
       "\t}\n",
       "      }\n",
       "    }\n",
       "  }\n",
       "  if (root.Bokeh !== undefined && root.Bokeh.Panel !== undefined) {\n",
       "    embed_document(root);\n",
       "  } else {\n",
       "    var attempts = 0;\n",
       "    var timer = setInterval(function(root) {\n",
       "      if (root.Bokeh !== undefined && root.Bokeh.Panel !== undefined) {\n",
       "        clearInterval(timer);\n",
       "        embed_document(root);\n",
       "      } else if (document.readyState == \"complete\") {\n",
       "        attempts++;\n",
       "        if (attempts > 200) {\n",
       "          clearInterval(timer);\n",
       "          console.log(\"Bokeh: ERROR: Unable to run BokehJS code because BokehJS library is missing\");\n",
       "        }\n",
       "      }\n",
       "    }, 25, root)\n",
       "  }\n",
       "})(window);</script>"
      ],
      "text/plain": [
       ":NdOverlay   [Variable]\n",
       "   :Curve   [coin_id]   (value)"
      ]
     },
     "execution_count": 137,
     "metadata": {
      "application/vnd.holoviews_exec.v0+json": {
       "id": "4177"
      }
     },
     "output_type": "execute_result"
    }
   ],
   "source": [
    "# Plot your data to see what's in your DataFrame\n",
    "df_market_data.hvplot.line(\n",
    "    width=800,\n",
    "    height=400,\n",
    "    rot=90\n",
    ")"
   ]
  },
  {
   "attachments": {},
   "cell_type": "markdown",
   "metadata": {},
   "source": [
    "---"
   ]
  },
  {
   "attachments": {},
   "cell_type": "markdown",
   "metadata": {},
   "source": [
    "### Prepare the Data"
   ]
  },
  {
   "cell_type": "code",
   "execution_count": 138,
   "metadata": {},
   "outputs": [],
   "source": [
    "# Use the `StandardScaler()` module from scikit-learn to normalize the data from the CSV file\n",
    "scaler = StandardScaler()\n",
    "df_market_data_scaled = scaler.fit_transform(df_market_data)\n",
    "\n"
   ]
  },
  {
   "cell_type": "code",
   "execution_count": 139,
   "metadata": {},
   "outputs": [
    {
     "name": "stdout",
     "output_type": "stream",
     "text": [
      "                 price_change_percentage_24h  price_change_percentage_7d  \\\n",
      "crypto_name                                                                \n",
      "bitcoin                             0.508529                    0.493193   \n",
      "ethereum                            0.185446                    0.934445   \n",
      "tether                              0.021774                   -0.706337   \n",
      "ripple                             -0.040764                   -0.810928   \n",
      "bitcoin-cash                        1.193036                    2.000959   \n",
      "binancecoin                         0.891871                    1.327295   \n",
      "chainlink                           0.011397                    2.572251   \n",
      "cardano                             0.102530                    1.508001   \n",
      "litecoin                            0.077497                    0.334297   \n",
      "bitcoin-cash-sv                     0.448952                   -0.190684   \n",
      "\n",
      "                 price_change_percentage_14d  price_change_percentage_30d  \\\n",
      "crypto_name                                                                 \n",
      "bitcoin                             0.772200                     0.235460   \n",
      "ethereum                            0.558692                    -0.054341   \n",
      "tether                             -0.021680                    -0.061030   \n",
      "ripple                              0.249458                    -0.050388   \n",
      "bitcoin-cash                        1.760610                     0.545842   \n",
      "binancecoin                         0.800214                    -0.057148   \n",
      "chainlink                           1.101647                    -0.490495   \n",
      "cardano                             0.648885                     0.328959   \n",
      "litecoin                            0.858520                    -0.012646   \n",
      "bitcoin-cash-sv                    -0.248043                     0.051634   \n",
      "\n",
      "                 price_change_percentage_60d  price_change_percentage_200d  \\\n",
      "crypto_name                                                                  \n",
      "bitcoin                            -0.067495                     -0.355953   \n",
      "ethereum                           -0.273483                     -0.115759   \n",
      "tether                              0.008005                     -0.550247   \n",
      "ripple                             -0.373164                     -0.458259   \n",
      "bitcoin-cash                       -0.291203                     -0.499848   \n",
      "binancecoin                         0.778653                     -0.188232   \n",
      "chainlink                          -0.931954                      0.387759   \n",
      "cardano                            -0.486349                      0.065080   \n",
      "litecoin                           -0.366477                     -0.486266   \n",
      "bitcoin-cash-sv                    -0.529666                     -0.532961   \n",
      "\n",
      "                 price_change_percentage_1y  \n",
      "crypto_name                                  \n",
      "bitcoin                           -0.251637  \n",
      "ethereum                          -0.199352  \n",
      "tether                            -0.282061  \n",
      "ripple                            -0.295546  \n",
      "bitcoin-cash                      -0.270317  \n",
      "binancecoin                       -0.225533  \n",
      "chainlink                         -0.018284  \n",
      "cardano                           -0.155428  \n",
      "litecoin                          -0.292351  \n",
      "bitcoin-cash-sv                   -0.206029  \n"
     ]
    }
   ],
   "source": [
    "# Create a DataFrame with the scaled data\n",
    "df_market_data_scaled = pd.DataFrame(df_market_data_scaled, columns=df_market_data.columns, index=df_market_data.index)\n",
    "\n",
    "# Copy the crypto names from the original data\n",
    "df_market_data_scaled[\"crypto_name\"] = df_market_data.index\n",
    "\n",
    "# Set the coinid column as index\n",
    "df_market_data_scaled.set_index(\"crypto_name\", inplace=True)\n",
    "\n",
    "# Display sample data\n",
    "print(df_market_data_scaled.head(10))"
   ]
  },
  {
   "attachments": {},
   "cell_type": "markdown",
   "metadata": {},
   "source": [
    "---"
   ]
  },
  {
   "attachments": {},
   "cell_type": "markdown",
   "metadata": {},
   "source": [
    "### Find the Best Value for k Using the Original Data."
   ]
  },
  {
   "cell_type": "code",
   "execution_count": 140,
   "metadata": {},
   "outputs": [],
   "source": [
    "# Create a list with the number of k-values from 1 to 11\n",
    "k_values = list(range(1, 12))"
   ]
  },
  {
   "cell_type": "code",
   "execution_count": 141,
   "metadata": {},
   "outputs": [
    {
     "name": "stderr",
     "output_type": "stream",
     "text": [
      "c:\\Users\\jeffi\\anaconda3\\envs\\dev\\lib\\site-packages\\sklearn\\cluster\\_kmeans.py:870: FutureWarning: The default value of `n_init` will change from 10 to 'auto' in 1.4. Set the value of `n_init` explicitly to suppress the warning\n",
      "  warnings.warn(\n",
      "c:\\Users\\jeffi\\anaconda3\\envs\\dev\\lib\\site-packages\\sklearn\\cluster\\_kmeans.py:1382: UserWarning: KMeans is known to have a memory leak on Windows with MKL, when there are less chunks than available threads. You can avoid it by setting the environment variable OMP_NUM_THREADS=1.\n",
      "  warnings.warn(\n",
      "c:\\Users\\jeffi\\anaconda3\\envs\\dev\\lib\\site-packages\\sklearn\\cluster\\_kmeans.py:870: FutureWarning: The default value of `n_init` will change from 10 to 'auto' in 1.4. Set the value of `n_init` explicitly to suppress the warning\n",
      "  warnings.warn(\n",
      "c:\\Users\\jeffi\\anaconda3\\envs\\dev\\lib\\site-packages\\sklearn\\cluster\\_kmeans.py:1382: UserWarning: KMeans is known to have a memory leak on Windows with MKL, when there are less chunks than available threads. You can avoid it by setting the environment variable OMP_NUM_THREADS=1.\n",
      "  warnings.warn(\n",
      "c:\\Users\\jeffi\\anaconda3\\envs\\dev\\lib\\site-packages\\sklearn\\cluster\\_kmeans.py:870: FutureWarning: The default value of `n_init` will change from 10 to 'auto' in 1.4. Set the value of `n_init` explicitly to suppress the warning\n",
      "  warnings.warn(\n",
      "c:\\Users\\jeffi\\anaconda3\\envs\\dev\\lib\\site-packages\\sklearn\\cluster\\_kmeans.py:1382: UserWarning: KMeans is known to have a memory leak on Windows with MKL, when there are less chunks than available threads. You can avoid it by setting the environment variable OMP_NUM_THREADS=1.\n",
      "  warnings.warn(\n",
      "c:\\Users\\jeffi\\anaconda3\\envs\\dev\\lib\\site-packages\\sklearn\\cluster\\_kmeans.py:870: FutureWarning: The default value of `n_init` will change from 10 to 'auto' in 1.4. Set the value of `n_init` explicitly to suppress the warning\n",
      "  warnings.warn(\n",
      "c:\\Users\\jeffi\\anaconda3\\envs\\dev\\lib\\site-packages\\sklearn\\cluster\\_kmeans.py:1382: UserWarning: KMeans is known to have a memory leak on Windows with MKL, when there are less chunks than available threads. You can avoid it by setting the environment variable OMP_NUM_THREADS=1.\n",
      "  warnings.warn(\n",
      "c:\\Users\\jeffi\\anaconda3\\envs\\dev\\lib\\site-packages\\sklearn\\cluster\\_kmeans.py:870: FutureWarning: The default value of `n_init` will change from 10 to 'auto' in 1.4. Set the value of `n_init` explicitly to suppress the warning\n",
      "  warnings.warn(\n",
      "c:\\Users\\jeffi\\anaconda3\\envs\\dev\\lib\\site-packages\\sklearn\\cluster\\_kmeans.py:1382: UserWarning: KMeans is known to have a memory leak on Windows with MKL, when there are less chunks than available threads. You can avoid it by setting the environment variable OMP_NUM_THREADS=1.\n",
      "  warnings.warn(\n",
      "c:\\Users\\jeffi\\anaconda3\\envs\\dev\\lib\\site-packages\\sklearn\\cluster\\_kmeans.py:870: FutureWarning: The default value of `n_init` will change from 10 to 'auto' in 1.4. Set the value of `n_init` explicitly to suppress the warning\n",
      "  warnings.warn(\n",
      "c:\\Users\\jeffi\\anaconda3\\envs\\dev\\lib\\site-packages\\sklearn\\cluster\\_kmeans.py:1382: UserWarning: KMeans is known to have a memory leak on Windows with MKL, when there are less chunks than available threads. You can avoid it by setting the environment variable OMP_NUM_THREADS=1.\n",
      "  warnings.warn(\n",
      "c:\\Users\\jeffi\\anaconda3\\envs\\dev\\lib\\site-packages\\sklearn\\cluster\\_kmeans.py:870: FutureWarning: The default value of `n_init` will change from 10 to 'auto' in 1.4. Set the value of `n_init` explicitly to suppress the warning\n",
      "  warnings.warn(\n",
      "c:\\Users\\jeffi\\anaconda3\\envs\\dev\\lib\\site-packages\\sklearn\\cluster\\_kmeans.py:1382: UserWarning: KMeans is known to have a memory leak on Windows with MKL, when there are less chunks than available threads. You can avoid it by setting the environment variable OMP_NUM_THREADS=1.\n",
      "  warnings.warn(\n",
      "c:\\Users\\jeffi\\anaconda3\\envs\\dev\\lib\\site-packages\\sklearn\\cluster\\_kmeans.py:870: FutureWarning: The default value of `n_init` will change from 10 to 'auto' in 1.4. Set the value of `n_init` explicitly to suppress the warning\n",
      "  warnings.warn(\n",
      "c:\\Users\\jeffi\\anaconda3\\envs\\dev\\lib\\site-packages\\sklearn\\cluster\\_kmeans.py:1382: UserWarning: KMeans is known to have a memory leak on Windows with MKL, when there are less chunks than available threads. You can avoid it by setting the environment variable OMP_NUM_THREADS=1.\n",
      "  warnings.warn(\n",
      "c:\\Users\\jeffi\\anaconda3\\envs\\dev\\lib\\site-packages\\sklearn\\cluster\\_kmeans.py:870: FutureWarning: The default value of `n_init` will change from 10 to 'auto' in 1.4. Set the value of `n_init` explicitly to suppress the warning\n",
      "  warnings.warn(\n",
      "c:\\Users\\jeffi\\anaconda3\\envs\\dev\\lib\\site-packages\\sklearn\\cluster\\_kmeans.py:1382: UserWarning: KMeans is known to have a memory leak on Windows with MKL, when there are less chunks than available threads. You can avoid it by setting the environment variable OMP_NUM_THREADS=1.\n",
      "  warnings.warn(\n",
      "c:\\Users\\jeffi\\anaconda3\\envs\\dev\\lib\\site-packages\\sklearn\\cluster\\_kmeans.py:870: FutureWarning: The default value of `n_init` will change from 10 to 'auto' in 1.4. Set the value of `n_init` explicitly to suppress the warning\n",
      "  warnings.warn(\n",
      "c:\\Users\\jeffi\\anaconda3\\envs\\dev\\lib\\site-packages\\sklearn\\cluster\\_kmeans.py:1382: UserWarning: KMeans is known to have a memory leak on Windows with MKL, when there are less chunks than available threads. You can avoid it by setting the environment variable OMP_NUM_THREADS=1.\n",
      "  warnings.warn(\n",
      "c:\\Users\\jeffi\\anaconda3\\envs\\dev\\lib\\site-packages\\sklearn\\cluster\\_kmeans.py:870: FutureWarning: The default value of `n_init` will change from 10 to 'auto' in 1.4. Set the value of `n_init` explicitly to suppress the warning\n",
      "  warnings.warn(\n",
      "c:\\Users\\jeffi\\anaconda3\\envs\\dev\\lib\\site-packages\\sklearn\\cluster\\_kmeans.py:1382: UserWarning: KMeans is known to have a memory leak on Windows with MKL, when there are less chunks than available threads. You can avoid it by setting the environment variable OMP_NUM_THREADS=1.\n",
      "  warnings.warn(\n"
     ]
    }
   ],
   "source": [
    "# Create an empty list to store the inertia values\n",
    "inertia_values = []\n",
    "\n",
    "# Create a for loop to compute the inertia with each possible value of k\n",
    "# Inside the loop:\n",
    "# 1. Create a KMeans model using the loop counter for the n_clusters\n",
    "# 2. Fit the model to the data using `df_market_data_scaled`\n",
    "# 3. Append the model.inertia_ to the inertia list\n",
    "for k in k_values:\n",
    "    kmeans = KMeans(n_clusters=k, random_state=42)\n",
    "    kmeans.fit(df_market_data_scaled)\n",
    "    inertia_values.append(kmeans.inertia_)"
   ]
  },
  {
   "cell_type": "code",
   "execution_count": 142,
   "metadata": {},
   "outputs": [
    {
     "name": "stderr",
     "output_type": "stream",
     "text": [
      "c:\\Users\\jeffi\\anaconda3\\envs\\dev\\lib\\site-packages\\sklearn\\cluster\\_kmeans.py:870: FutureWarning: The default value of `n_init` will change from 10 to 'auto' in 1.4. Set the value of `n_init` explicitly to suppress the warning\n",
      "  warnings.warn(\n",
      "c:\\Users\\jeffi\\anaconda3\\envs\\dev\\lib\\site-packages\\sklearn\\cluster\\_kmeans.py:1382: UserWarning: KMeans is known to have a memory leak on Windows with MKL, when there are less chunks than available threads. You can avoid it by setting the environment variable OMP_NUM_THREADS=1.\n",
      "  warnings.warn(\n",
      "c:\\Users\\jeffi\\anaconda3\\envs\\dev\\lib\\site-packages\\sklearn\\cluster\\_kmeans.py:870: FutureWarning: The default value of `n_init` will change from 10 to 'auto' in 1.4. Set the value of `n_init` explicitly to suppress the warning\n",
      "  warnings.warn(\n",
      "c:\\Users\\jeffi\\anaconda3\\envs\\dev\\lib\\site-packages\\sklearn\\cluster\\_kmeans.py:1382: UserWarning: KMeans is known to have a memory leak on Windows with MKL, when there are less chunks than available threads. You can avoid it by setting the environment variable OMP_NUM_THREADS=1.\n",
      "  warnings.warn(\n",
      "c:\\Users\\jeffi\\anaconda3\\envs\\dev\\lib\\site-packages\\sklearn\\cluster\\_kmeans.py:870: FutureWarning: The default value of `n_init` will change from 10 to 'auto' in 1.4. Set the value of `n_init` explicitly to suppress the warning\n",
      "  warnings.warn(\n",
      "c:\\Users\\jeffi\\anaconda3\\envs\\dev\\lib\\site-packages\\sklearn\\cluster\\_kmeans.py:1382: UserWarning: KMeans is known to have a memory leak on Windows with MKL, when there are less chunks than available threads. You can avoid it by setting the environment variable OMP_NUM_THREADS=1.\n",
      "  warnings.warn(\n",
      "c:\\Users\\jeffi\\anaconda3\\envs\\dev\\lib\\site-packages\\sklearn\\cluster\\_kmeans.py:870: FutureWarning: The default value of `n_init` will change from 10 to 'auto' in 1.4. Set the value of `n_init` explicitly to suppress the warning\n",
      "  warnings.warn(\n",
      "c:\\Users\\jeffi\\anaconda3\\envs\\dev\\lib\\site-packages\\sklearn\\cluster\\_kmeans.py:1382: UserWarning: KMeans is known to have a memory leak on Windows with MKL, when there are less chunks than available threads. You can avoid it by setting the environment variable OMP_NUM_THREADS=1.\n",
      "  warnings.warn(\n",
      "c:\\Users\\jeffi\\anaconda3\\envs\\dev\\lib\\site-packages\\sklearn\\cluster\\_kmeans.py:870: FutureWarning: The default value of `n_init` will change from 10 to 'auto' in 1.4. Set the value of `n_init` explicitly to suppress the warning\n",
      "  warnings.warn(\n",
      "c:\\Users\\jeffi\\anaconda3\\envs\\dev\\lib\\site-packages\\sklearn\\cluster\\_kmeans.py:1382: UserWarning: KMeans is known to have a memory leak on Windows with MKL, when there are less chunks than available threads. You can avoid it by setting the environment variable OMP_NUM_THREADS=1.\n",
      "  warnings.warn(\n",
      "c:\\Users\\jeffi\\anaconda3\\envs\\dev\\lib\\site-packages\\sklearn\\cluster\\_kmeans.py:870: FutureWarning: The default value of `n_init` will change from 10 to 'auto' in 1.4. Set the value of `n_init` explicitly to suppress the warning\n",
      "  warnings.warn(\n",
      "c:\\Users\\jeffi\\anaconda3\\envs\\dev\\lib\\site-packages\\sklearn\\cluster\\_kmeans.py:1382: UserWarning: KMeans is known to have a memory leak on Windows with MKL, when there are less chunks than available threads. You can avoid it by setting the environment variable OMP_NUM_THREADS=1.\n",
      "  warnings.warn(\n",
      "c:\\Users\\jeffi\\anaconda3\\envs\\dev\\lib\\site-packages\\sklearn\\cluster\\_kmeans.py:870: FutureWarning: The default value of `n_init` will change from 10 to 'auto' in 1.4. Set the value of `n_init` explicitly to suppress the warning\n",
      "  warnings.warn(\n",
      "c:\\Users\\jeffi\\anaconda3\\envs\\dev\\lib\\site-packages\\sklearn\\cluster\\_kmeans.py:1382: UserWarning: KMeans is known to have a memory leak on Windows with MKL, when there are less chunks than available threads. You can avoid it by setting the environment variable OMP_NUM_THREADS=1.\n",
      "  warnings.warn(\n",
      "c:\\Users\\jeffi\\anaconda3\\envs\\dev\\lib\\site-packages\\sklearn\\cluster\\_kmeans.py:870: FutureWarning: The default value of `n_init` will change from 10 to 'auto' in 1.4. Set the value of `n_init` explicitly to suppress the warning\n",
      "  warnings.warn(\n",
      "c:\\Users\\jeffi\\anaconda3\\envs\\dev\\lib\\site-packages\\sklearn\\cluster\\_kmeans.py:1382: UserWarning: KMeans is known to have a memory leak on Windows with MKL, when there are less chunks than available threads. You can avoid it by setting the environment variable OMP_NUM_THREADS=1.\n",
      "  warnings.warn(\n",
      "c:\\Users\\jeffi\\anaconda3\\envs\\dev\\lib\\site-packages\\sklearn\\cluster\\_kmeans.py:870: FutureWarning: The default value of `n_init` will change from 10 to 'auto' in 1.4. Set the value of `n_init` explicitly to suppress the warning\n",
      "  warnings.warn(\n",
      "c:\\Users\\jeffi\\anaconda3\\envs\\dev\\lib\\site-packages\\sklearn\\cluster\\_kmeans.py:1382: UserWarning: KMeans is known to have a memory leak on Windows with MKL, when there are less chunks than available threads. You can avoid it by setting the environment variable OMP_NUM_THREADS=1.\n",
      "  warnings.warn(\n",
      "c:\\Users\\jeffi\\anaconda3\\envs\\dev\\lib\\site-packages\\sklearn\\cluster\\_kmeans.py:870: FutureWarning: The default value of `n_init` will change from 10 to 'auto' in 1.4. Set the value of `n_init` explicitly to suppress the warning\n",
      "  warnings.warn(\n",
      "c:\\Users\\jeffi\\anaconda3\\envs\\dev\\lib\\site-packages\\sklearn\\cluster\\_kmeans.py:1382: UserWarning: KMeans is known to have a memory leak on Windows with MKL, when there are less chunks than available threads. You can avoid it by setting the environment variable OMP_NUM_THREADS=1.\n",
      "  warnings.warn(\n",
      "c:\\Users\\jeffi\\anaconda3\\envs\\dev\\lib\\site-packages\\sklearn\\cluster\\_kmeans.py:870: FutureWarning: The default value of `n_init` will change from 10 to 'auto' in 1.4. Set the value of `n_init` explicitly to suppress the warning\n",
      "  warnings.warn(\n",
      "c:\\Users\\jeffi\\anaconda3\\envs\\dev\\lib\\site-packages\\sklearn\\cluster\\_kmeans.py:1382: UserWarning: KMeans is known to have a memory leak on Windows with MKL, when there are less chunks than available threads. You can avoid it by setting the environment variable OMP_NUM_THREADS=1.\n",
      "  warnings.warn(\n"
     ]
    }
   ],
   "source": [
    "# Create a dictionary with the data to plot the Elbow curve\n",
    "elbow_data = {}\n",
    "for k in k_values:\n",
    "    kmeans = KMeans(n_clusters=k, random_state=42)\n",
    "    kmeans.fit(df_market_data_scaled)\n",
    "    elbow_data[k] = kmeans.inertia_\n",
    "\n",
    "# Create a DataFrame with the data to plot the Elbow curve\n",
    "elbow_df = pd.DataFrame(list(elbow_data.items()), columns=['k', 'inertia'])"
   ]
  },
  {
   "cell_type": "code",
   "execution_count": 143,
   "metadata": {},
   "outputs": [
    {
     "data": {
      "image/png": "[encoded data removed]",
      "text/plain": [
       "<Figure size 800x600 with 1 Axes>"
      ]
     },
     "metadata": {},
     "output_type": "display_data"
    }
   ],
   "source": [
    "# Plot a line chart with all the inertia values computed with \n",
    "# the different values of k to visually identify the optimal value for k.\n",
    "plt.figure(figsize=(8, 6))\n",
    "plt.plot(elbow_df['k'], elbow_df['inertia'], marker='o', linestyle='-', color='b')\n",
    "plt.xlabel('Number of Clusters (k)')\n",
    "plt.ylabel('Inertia')\n",
    "plt.title('Elbow Curve')\n",
    "plt.grid(True)\n",
    "plt.show()"
   ]
  },
  {
   "attachments": {},
   "cell_type": "markdown",
   "metadata": {},
   "source": [
    "#### Answer the following question: \n",
    "\n",
    "**Question:** What is the best value for `k`?\n",
    "\n",
    "**Answer:** 4"
   ]
  },
  {
   "attachments": {},
   "cell_type": "markdown",
   "metadata": {},
   "source": [
    "---"
   ]
  },
  {
   "attachments": {},
   "cell_type": "markdown",
   "metadata": {},
   "source": [
    "### Cluster Cryptocurrencies with K-means Using the Original Data"
   ]
  },
  {
   "cell_type": "code",
   "execution_count": 144,
   "metadata": {},
   "outputs": [],
   "source": [
    "# Initialize the K-Means model using the best value for k\n",
    "best_k = 4\n",
    "kmeans = KMeans(n_clusters=best_k, random_state=42)"
   ]
  },
  {
   "cell_type": "code",
   "execution_count": 145,
   "metadata": {},
   "outputs": [
    {
     "name": "stderr",
     "output_type": "stream",
     "text": [
      "c:\\Users\\jeffi\\anaconda3\\envs\\dev\\lib\\site-packages\\sklearn\\cluster\\_kmeans.py:870: FutureWarning: The default value of `n_init` will change from 10 to 'auto' in 1.4. Set the value of `n_init` explicitly to suppress the warning\n",
      "  warnings.warn(\n",
      "c:\\Users\\jeffi\\anaconda3\\envs\\dev\\lib\\site-packages\\sklearn\\cluster\\_kmeans.py:1382: UserWarning: KMeans is known to have a memory leak on Windows with MKL, when there are less chunks than available threads. You can avoid it by setting the environment variable OMP_NUM_THREADS=1.\n",
      "  warnings.warn(\n"
     ]
    },
    {
     "data": {
      "text/html": [
       "<style>#sk-container-id-7 {color: black;background-color: white;}#sk-container-id-7 pre{padding: 0;}#sk-container-id-7 div.sk-toggleable {background-color: white;}#sk-container-id-7 label.sk-toggleable__label {cursor: pointer;display: block;width: 100%;margin-bottom: 0;padding: 0.3em;box-sizing: border-box;text-align: center;}#sk-container-id-7 label.sk-toggleable__label-arrow:before {content: \"▸\";float: left;margin-right: 0.25em;color: #696969;}#sk-container-id-7 label.sk-toggleable__label-arrow:hover:before {color: black;}#sk-container-id-7 div.sk-estimator:hover label.sk-toggleable__label-arrow:before {color: black;}#sk-container-id-7 div.sk-toggleable__content {max-height: 0;max-width: 0;overflow: hidden;text-align: left;background-color: #f0f8ff;}#sk-container-id-7 div.sk-toggleable__content pre {margin: 0.2em;color: black;border-radius: 0.25em;background-color: #f0f8ff;}#sk-container-id-7 input.sk-toggleable__control:checked~div.sk-toggleable__content {max-height: 200px;max-width: 100%;overflow: auto;}#sk-container-id-7 input.sk-toggleable__control:checked~label.sk-toggleable__label-arrow:before {content: \"▾\";}#sk-container-id-7 div.sk-estimator input.sk-toggleable__control:checked~label.sk-toggleable__label {background-color: #d4ebff;}#sk-container-id-7 div.sk-label input.sk-toggleable__control:checked~label.sk-toggleable__label {background-color: #d4ebff;}#sk-container-id-7 input.sk-hidden--visually {border: 0;clip: rect(1px 1px 1px 1px);clip: rect(1px, 1px, 1px, 1px);height: 1px;margin: -1px;overflow: hidden;padding: 0;position: absolute;width: 1px;}#sk-container-id-7 div.sk-estimator {font-family: monospace;background-color: #f0f8ff;border: 1px dotted black;border-radius: 0.25em;box-sizing: border-box;margin-bottom: 0.5em;}#sk-container-id-7 div.sk-estimator:hover {background-color: #d4ebff;}#sk-container-id-7 div.sk-parallel-item::after {content: \"\";width: 100%;border-bottom: 1px solid gray;flex-grow: 1;}#sk-container-id-7 div.sk-label:hover label.sk-toggleable__label {background-color: #d4ebff;}#sk-container-id-7 div.sk-serial::before {content: \"\";position: absolute;border-left: 1px solid gray;box-sizing: border-box;top: 0;bottom: 0;left: 50%;z-index: 0;}#sk-container-id-7 div.sk-serial {display: flex;flex-direction: column;align-items: center;background-color: white;padding-right: 0.2em;padding-left: 0.2em;position: relative;}#sk-container-id-7 div.sk-item {position: relative;z-index: 1;}#sk-container-id-7 div.sk-parallel {display: flex;align-items: stretch;justify-content: center;background-color: white;position: relative;}#sk-container-id-7 div.sk-item::before, #sk-container-id-7 div.sk-parallel-item::before {content: \"\";position: absolute;border-left: 1px solid gray;box-sizing: border-box;top: 0;bottom: 0;left: 50%;z-index: -1;}#sk-container-id-7 div.sk-parallel-item {display: flex;flex-direction: column;z-index: 1;position: relative;background-color: white;}#sk-container-id-7 div.sk-parallel-item:first-child::after {align-self: flex-end;width: 50%;}#sk-container-id-7 div.sk-parallel-item:last-child::after {align-self: flex-start;width: 50%;}#sk-container-id-7 div.sk-parallel-item:only-child::after {width: 0;}#sk-container-id-7 div.sk-dashed-wrapped {border: 1px dashed gray;margin: 0 0.4em 0.5em 0.4em;box-sizing: border-box;padding-bottom: 0.4em;background-color: white;}#sk-container-id-7 div.sk-label label {font-family: monospace;font-weight: bold;display: inline-block;line-height: 1.2em;}#sk-container-id-7 div.sk-label-container {text-align: center;}#sk-container-id-7 div.sk-container {/* jupyter's `normalize.less` sets `[hidden] { display: none; }` but bootstrap.min.css set `[hidden] { display: none !important; }` so we also need the `!important` here to be able to override the default hidden behavior on the sphinx rendered scikit-learn.org. See: https://github.com/scikit-learn/scikit-learn/issues/21755 */display: inline-block !important;position: relative;}#sk-container-id-7 div.sk-text-repr-fallback {display: none;}</style><div id=\"sk-container-id-7\" class=\"sk-top-container\"><div class=\"sk-text-repr-fallback\"><pre>KMeans(n_clusters=4, random_state=42)</pre><b>In a Jupyter environment, please rerun this cell to show the HTML representation or trust the notebook. <br />On GitHub, the HTML representation is unable to render, please try loading this page with nbviewer.org.</b></div><div class=\"sk-container\" hidden><div class=\"sk-item\"><div class=\"sk-estimator sk-toggleable\"><input class=\"sk-toggleable__control sk-hidden--visually\" id=\"sk-estimator-id-7\" type=\"checkbox\" checked><label for=\"sk-estimator-id-7\" class=\"sk-toggleable__label sk-toggleable__label-arrow\">KMeans</label><div class=\"sk-toggleable__content\"><pre>KMeans(n_clusters=4, random_state=42)</pre></div></div></div></div></div>"
      ],
      "text/plain": [
       "KMeans(n_clusters=4, random_state=42)"
      ]
     },
     "execution_count": 145,
     "metadata": {},
     "output_type": "execute_result"
    }
   ],
   "source": [
    "# Fit the K-Means model using the scaled data\n",
    "kmeans.fit(df_market_data_scaled)"
   ]
  },
  {
   "cell_type": "code",
   "execution_count": 146,
   "metadata": {},
   "outputs": [
    {
     "name": "stdout",
     "output_type": "stream",
     "text": [
      "              price_change_percentage_24h  price_change_percentage_7d  \\\n",
      "coin_id                                                                 \n",
      "bitcoin                           1.08388                     7.60278   \n",
      "ethereum                          0.22392                    10.38134   \n",
      "tether                           -0.21173                     0.04935   \n",
      "ripple                           -0.37819                    -0.60926   \n",
      "bitcoin-cash                      2.90585                    17.09717   \n",
      "\n",
      "              price_change_percentage_14d  price_change_percentage_30d  \\\n",
      "coin_id                                                                  \n",
      "bitcoin                           6.57509                      7.67258   \n",
      "ethereum                          4.80849                      0.13169   \n",
      "tether                            0.00640                     -0.04237   \n",
      "ripple                            2.24984                      0.23455   \n",
      "bitcoin-cash                     14.75334                     15.74903   \n",
      "\n",
      "              price_change_percentage_60d  price_change_percentage_200d  \\\n",
      "coin_id                                                                   \n",
      "bitcoin                          -3.25185                      83.51840   \n",
      "ethereum                        -12.88890                     186.77418   \n",
      "tether                            0.28037                      -0.00542   \n",
      "ripple                          -17.55245                      39.53888   \n",
      "bitcoin-cash                    -13.71793                      21.66042   \n",
      "\n",
      "              price_change_percentage_1y  cluster  \n",
      "coin_id                                            \n",
      "bitcoin                         37.51761        2  \n",
      "ethereum                       101.96023        2  \n",
      "tether                           0.01954        0  \n",
      "ripple                         -16.60193        0  \n",
      "bitcoin-cash                    14.49384        2  \n"
     ]
    }
   ],
   "source": [
    "# Predict the clusters to group the cryptocurrencies using the scaled data\n",
    "cluster_labels = kmeans.labels_\n",
    "df_market_data[\"cluster\"] = cluster_labels\n",
    "\n",
    "# Print the resulting array of cluster values.\n",
    "print(df_market_data.head())"
   ]
  },
  {
   "cell_type": "code",
   "execution_count": 147,
   "metadata": {},
   "outputs": [
    {
     "name": "stdout",
     "output_type": "stream",
     "text": [
      "[2 2 0 0 2 2 2 2 2 0 0 0 0 2 0 2 0 0 2 0 0 2 0 0 0 0 0 0 2 0 0 0 3 2 0 0 1\n",
      " 0 0 0 0]\n"
     ]
    }
   ],
   "source": [
    "# Create a copy of the DataFrame\n",
    "df_market_data_copy = df_market_data.copy()\n",
    "print(cluster_labels)"
   ]
  },
  {
   "cell_type": "code",
   "execution_count": 148,
   "metadata": {},
   "outputs": [
    {
     "name": "stdout",
     "output_type": "stream",
     "text": [
      "              price_change_percentage_24h  price_change_percentage_7d  \\\n",
      "coin_id                                                                 \n",
      "bitcoin                           1.08388                     7.60278   \n",
      "ethereum                          0.22392                    10.38134   \n",
      "tether                           -0.21173                     0.04935   \n",
      "ripple                           -0.37819                    -0.60926   \n",
      "bitcoin-cash                      2.90585                    17.09717   \n",
      "\n",
      "              price_change_percentage_14d  price_change_percentage_30d  \\\n",
      "coin_id                                                                  \n",
      "bitcoin                           6.57509                      7.67258   \n",
      "ethereum                          4.80849                      0.13169   \n",
      "tether                            0.00640                     -0.04237   \n",
      "ripple                            2.24984                      0.23455   \n",
      "bitcoin-cash                     14.75334                     15.74903   \n",
      "\n",
      "              price_change_percentage_60d  price_change_percentage_200d  \\\n",
      "coin_id                                                                   \n",
      "bitcoin                          -3.25185                      83.51840   \n",
      "ethereum                        -12.88890                     186.77418   \n",
      "tether                            0.28037                      -0.00542   \n",
      "ripple                          -17.55245                      39.53888   \n",
      "bitcoin-cash                    -13.71793                      21.66042   \n",
      "\n",
      "              price_change_percentage_1y  cluster  \n",
      "coin_id                                            \n",
      "bitcoin                         37.51761        2  \n",
      "ethereum                       101.96023        2  \n",
      "tether                           0.01954        0  \n",
      "ripple                         -16.60193        0  \n",
      "bitcoin-cash                    14.49384        2  \n"
     ]
    }
   ],
   "source": [
    "# Add a new column to the DataFrame with the predicted clusters\n",
    "df_market_data_copy[\"cluster\"] = cluster_labels\n",
    "\n",
    "# Display sample data\n",
    "print(df_market_data_copy.head())\n"
   ]
  },
  {
   "cell_type": "code",
   "execution_count": 149,
   "metadata": {},
   "outputs": [
    {
     "data": {},
     "metadata": {},
     "output_type": "display_data"
    },
    {
     "data": {
      "application/vnd.holoviews_exec.v0+json": "",
      "text/html": [
       "<div id='4542'>\n",
       "  <div class=\"bk-root\" id=\"a487e6b2-5848-4295-b806-cd723aeb83fa\" data-root-id=\"4542\"></div>\n",
       "</div>\n",
       "<script type=\"application/javascript\">(function(root) {\n",
       "  function embed_document(root) {\n",
       "    var docs_json = {\"7d865a3d-15ed-4dcb-952f-9e54d59a271a\":{\"defs\":[{\"extends\":null,\"module\":null,\"name\":\"ReactiveHTML1\",\"overrides\":[],\"properties\":[]},{\"extends\":null,\"module\":null,\"name\":\"FlexBox1\",\"overrides\":[],\"properties\":[{\"default\":\"flex-start\",\"kind\":null,\"name\":\"align_content\"},{\"default\":\"flex-start\",\"kind\":null,\"name\":\"align_items\"},{\"default\":\"row\",\"kind\":null,\"name\":\"flex_direction\"},{\"default\":\"wrap\",\"kind\":null,\"name\":\"flex_wrap\"},{\"default\":\"flex-start\",\"kind\":null,\"name\":\"justify_content\"}]},{\"extends\":null,\"module\":null,\"name\":\"GridStack1\",\"overrides\":[],\"properties\":[{\"default\":\"warn\",\"kind\":null,\"name\":\"mode\"},{\"default\":null,\"kind\":null,\"name\":\"ncols\"},{\"default\":null,\"kind\":null,\"name\":\"nrows\"},{\"default\":true,\"kind\":null,\"name\":\"allow_resize\"},{\"default\":true,\"kind\":null,\"name\":\"allow_drag\"},{\"default\":[],\"kind\":null,\"name\":\"state\"}]},{\"extends\":null,\"module\":null,\"name\":\"click1\",\"overrides\":[],\"properties\":[{\"default\":\"\",\"kind\":null,\"name\":\"terminal_output\"},{\"default\":\"\",\"kind\":null,\"name\":\"debug_name\"},{\"default\":0,\"kind\":null,\"name\":\"clears\"}]},{\"extends\":null,\"module\":null,\"name\":\"NotificationAreaBase1\",\"overrides\":[],\"properties\":[{\"default\":\"bottom-right\",\"kind\":null,\"name\":\"position\"},{\"default\":0,\"kind\":null,\"name\":\"_clear\"}]},{\"extends\":null,\"module\":null,\"name\":\"NotificationArea1\",\"overrides\":[],\"properties\":[{\"default\":[],\"kind\":null,\"name\":\"notifications\"},{\"default\":\"bottom-right\",\"kind\":null,\"name\":\"position\"},{\"default\":0,\"kind\":null,\"name\":\"_clear\"},{\"default\":[{\"background\":\"#ffc107\",\"icon\":{\"className\":\"fas fa-exclamation-triangle\",\"color\":\"white\",\"tagName\":\"i\"},\"type\":\"warning\"},{\"background\":\"#007bff\",\"icon\":{\"className\":\"fas fa-info-circle\",\"color\":\"white\",\"tagName\":\"i\"},\"type\":\"info\"}],\"kind\":null,\"name\":\"types\"}]},{\"extends\":null,\"module\":null,\"name\":\"Notification\",\"overrides\":[],\"properties\":[{\"default\":null,\"kind\":null,\"name\":\"background\"},{\"default\":3000,\"kind\":null,\"name\":\"duration\"},{\"default\":null,\"kind\":null,\"name\":\"icon\"},{\"default\":\"\",\"kind\":null,\"name\":\"message\"},{\"default\":null,\"kind\":null,\"name\":\"notification_type\"},{\"default\":false,\"kind\":null,\"name\":\"_destroyed\"}]},{\"extends\":null,\"module\":null,\"name\":\"TemplateActions1\",\"overrides\":[],\"properties\":[{\"default\":0,\"kind\":null,\"name\":\"open_modal\"},{\"default\":0,\"kind\":null,\"name\":\"close_modal\"}]},{\"extends\":null,\"module\":null,\"name\":\"MaterialTemplateActions1\",\"overrides\":[],\"properties\":[{\"default\":0,\"kind\":null,\"name\":\"open_modal\"},{\"default\":0,\"kind\":null,\"name\":\"close_modal\"}]}],\"roots\":{\"references\":[{\"attributes\":{},\"id\":\"4556\",\"type\":\"BasicTicker\"},{\"attributes\":{\"end\":23.373505,\"reset_end\":23.373505,\"reset_start\":-8.773475000000001,\"start\":-8.773475000000001,\"tags\":[[[\"price_change_percentage_7d\",\"price_change_percentage_7d\",null]]]},\"id\":\"4544\",\"type\":\"Range1d\"},{\"attributes\":{},\"id\":\"4591\",\"type\":\"AllLabels\"},{\"attributes\":{\"axis_label\":\"Price Change % (7d)\",\"coordinates\":null,\"formatter\":{\"id\":\"4593\"},\"group\":null,\"major_label_policy\":{\"id\":\"4594\"},\"ticker\":{\"id\":\"4560\"}},\"id\":\"4559\",\"type\":\"LinearAxis\"},{\"attributes\":{},\"id\":\"4607\",\"type\":\"UnionRenderers\"},{\"attributes\":{\"axis\":{\"id\":\"4559\"},\"coordinates\":null,\"dimension\":1,\"grid_line_color\":null,\"group\":null,\"ticker\":null},\"id\":\"4562\",\"type\":\"Grid\"},{\"attributes\":{\"source\":{\"id\":\"4577\"}},\"id\":\"4586\",\"type\":\"CDSView\"},{\"attributes\":{},\"id\":\"4560\",\"type\":\"BasicTicker\"},{\"attributes\":{},\"id\":\"4565\",\"type\":\"WheelZoomTool\"},{\"attributes\":{},\"id\":\"4551\",\"type\":\"LinearScale\"},{\"attributes\":{\"bar_line_color\":\"black\",\"color_mapper\":{\"id\":\"4576\"},\"coordinates\":null,\"group\":null,\"label_standoff\":8,\"location\":[0,0],\"major_label_policy\":{\"id\":\"4603\"},\"major_tick_line_color\":\"black\",\"ticker\":{\"id\":\"4587\"}},\"id\":\"4588\",\"type\":\"ColorBar\"},{\"attributes\":{},\"id\":\"4590\",\"type\":\"BasicTickFormatter\"},{\"attributes\":{},\"id\":\"4563\",\"type\":\"SaveTool\"},{\"attributes\":{},\"id\":\"4587\",\"type\":\"BasicTicker\"},{\"attributes\":{\"overlay\":{\"id\":\"4568\"}},\"id\":\"4566\",\"type\":\"BoxZoomTool\"},{\"attributes\":{},\"id\":\"4567\",\"type\":\"ResetTool\"},{\"attributes\":{\"bottom_units\":\"screen\",\"coordinates\":null,\"fill_alpha\":0.5,\"fill_color\":\"lightgrey\",\"group\":null,\"left_units\":\"screen\",\"level\":\"overlay\",\"line_alpha\":1.0,\"line_color\":\"black\",\"line_dash\":[4,4],\"line_width\":2,\"right_units\":\"screen\",\"syncable\":false,\"top_units\":\"screen\"},\"id\":\"4568\",\"type\":\"BoxAnnotation\"},{\"attributes\":{\"high\":3,\"low\":0,\"palette\":[\"#440154\",\"#440255\",\"#440357\",\"#450558\",\"#45065a\",\"#45085b\",\"#46095c\",\"#460b5e\",\"#460c5f\",\"#460e61\",\"#470f62\",\"#471163\",\"#471265\",\"#471466\",\"#471567\",\"#471669\",\"#47186a\",\"#48196b\",\"#481a6c\",\"#481c6e\",\"#481d6f\",\"#481e70\",\"#482071\",\"#482172\",\"#482273\",\"#482374\",\"#472575\",\"#472676\",\"#472777\",\"#472878\",\"#472a79\",\"#472b7a\",\"#472c7b\",\"#462d7c\",\"#462f7c\",\"#46307d\",\"#46317e\",\"#45327f\",\"#45347f\",\"#453580\",\"#453681\",\"#443781\",\"#443982\",\"#433a83\",\"#433b83\",\"#433c84\",\"#423d84\",\"#423e85\",\"#424085\",\"#414186\",\"#414286\",\"#404387\",\"#404487\",\"#3f4587\",\"#3f4788\",\"#3e4888\",\"#3e4989\",\"#3d4a89\",\"#3d4b89\",\"#3d4c89\",\"#3c4d8a\",\"#3c4e8a\",\"#3b508a\",\"#3b518a\",\"#3a528b\",\"#3a538b\",\"#39548b\",\"#39558b\",\"#38568b\",\"#38578c\",\"#37588c\",\"#37598c\",\"#365a8c\",\"#365b8c\",\"#355c8c\",\"#355d8c\",\"#345e8d\",\"#345f8d\",\"#33608d\",\"#33618d\",\"#32628d\",\"#32638d\",\"#31648d\",\"#31658d\",\"#31668d\",\"#30678d\",\"#30688d\",\"#2f698d\",\"#2f6a8d\",\"#2e6b8e\",\"#2e6c8e\",\"#2e6d8e\",\"#2d6e8e\",\"#2d6f8e\",\"#2c708e\",\"#2c718e\",\"#2c728e\",\"#2b738e\",\"#2b748e\",\"#2a758e\",\"#2a768e\",\"#2a778e\",\"#29788e\",\"#29798e\",\"#287a8e\",\"#287a8e\",\"#287b8e\",\"#277c8e\",\"#277d8e\",\"#277e8e\",\"#267f8e\",\"#26808e\",\"#26818e\",\"#25828e\",\"#25838d\",\"#24848d\",\"#24858d\",\"#24868d\",\"#23878d\",\"#23888d\",\"#23898d\",\"#22898d\",\"#228a8d\",\"#228b8d\",\"#218c8d\",\"#218d8c\",\"#218e8c\",\"#208f8c\",\"#20908c\",\"#20918c\",\"#1f928c\",\"#1f938b\",\"#1f948b\",\"#1f958b\",\"#1f968b\",\"#1e978a\",\"#1e988a\",\"#1e998a\",\"#1e998a\",\"#1e9a89\",\"#1e9b89\",\"#1e9c89\",\"#1e9d88\",\"#1e9e88\",\"#1e9f88\",\"#1ea087\",\"#1fa187\",\"#1fa286\",\"#1fa386\",\"#20a485\",\"#20a585\",\"#21a685\",\"#21a784\",\"#22a784\",\"#23a883\",\"#23a982\",\"#24aa82\",\"#25ab81\",\"#26ac81\",\"#27ad80\",\"#28ae7f\",\"#29af7f\",\"#2ab07e\",\"#2bb17d\",\"#2cb17d\",\"#2eb27c\",\"#2fb37b\",\"#30b47a\",\"#32b57a\",\"#33b679\",\"#35b778\",\"#36b877\",\"#38b976\",\"#39b976\",\"#3bba75\",\"#3dbb74\",\"#3ebc73\",\"#40bd72\",\"#42be71\",\"#44be70\",\"#45bf6f\",\"#47c06e\",\"#49c16d\",\"#4bc26c\",\"#4dc26b\",\"#4fc369\",\"#51c468\",\"#53c567\",\"#55c666\",\"#57c665\",\"#59c764\",\"#5bc862\",\"#5ec961\",\"#60c960\",\"#62ca5f\",\"#64cb5d\",\"#67cc5c\",\"#69cc5b\",\"#6bcd59\",\"#6dce58\",\"#70ce56\",\"#72cf55\",\"#74d054\",\"#77d052\",\"#79d151\",\"#7cd24f\",\"#7ed24e\",\"#81d34c\",\"#83d34b\",\"#86d449\",\"#88d547\",\"#8bd546\",\"#8dd644\",\"#90d643\",\"#92d741\",\"#95d73f\",\"#97d83e\",\"#9ad83c\",\"#9dd93a\",\"#9fd938\",\"#a2da37\",\"#a5da35\",\"#a7db33\",\"#aadb32\",\"#addc30\",\"#afdc2e\",\"#b2dd2c\",\"#b5dd2b\",\"#b7dd29\",\"#bade27\",\"#bdde26\",\"#bfdf24\",\"#c2df22\",\"#c5df21\",\"#c7e01f\",\"#cae01e\",\"#cde01d\",\"#cfe11c\",\"#d2e11b\",\"#d4e11a\",\"#d7e219\",\"#dae218\",\"#dce218\",\"#dfe318\",\"#e1e318\",\"#e4e318\",\"#e7e419\",\"#e9e419\",\"#ece41a\",\"#eee51b\",\"#f1e51c\",\"#f3e51e\",\"#f6e61f\",\"#f8e621\",\"#fae622\",\"#fde724\"]},\"id\":\"4576\",\"type\":\"LinearColorMapper\"},{\"attributes\":{\"active_drag\":{\"id\":\"4564\"},\"active_scroll\":{\"id\":\"4565\"},\"tools\":[{\"id\":\"4545\"},{\"id\":\"4563\"},{\"id\":\"4564\"},{\"id\":\"4565\"},{\"id\":\"4566\"},{\"id\":\"4567\"}]},\"id\":\"4569\",\"type\":\"Toolbar\"},{\"attributes\":{},\"id\":\"4553\",\"type\":\"LinearScale\"},{\"attributes\":{\"fill_color\":{\"field\":\"color\",\"transform\":{\"id\":\"4576\"}},\"hatch_color\":{\"field\":\"color\",\"transform\":{\"id\":\"4576\"}},\"line_color\":{\"field\":\"color\",\"transform\":{\"id\":\"4576\"}},\"size\":{\"value\":5.477225575051661},\"x\":{\"field\":\"price_change_percentage_24h\"},\"y\":{\"field\":\"price_change_percentage_7d\"}},\"id\":\"4580\",\"type\":\"Scatter\"},{\"attributes\":{},\"id\":\"4578\",\"type\":\"Selection\"},{\"attributes\":{\"fill_color\":{\"field\":\"color\",\"transform\":{\"id\":\"4576\"}},\"hatch_color\":{\"field\":\"color\",\"transform\":{\"id\":\"4576\"}},\"line_color\":{\"field\":\"color\",\"transform\":{\"id\":\"4576\"}},\"size\":{\"value\":5.477225575051661},\"x\":{\"field\":\"price_change_percentage_24h\"},\"y\":{\"field\":\"price_change_percentage_7d\"}},\"id\":\"4582\",\"type\":\"Scatter\"},{\"attributes\":{\"fill_alpha\":{\"value\":0.1},\"fill_color\":{\"field\":\"color\",\"transform\":{\"id\":\"4576\"}},\"hatch_alpha\":{\"value\":0.1},\"hatch_color\":{\"field\":\"color\",\"transform\":{\"id\":\"4576\"}},\"line_alpha\":{\"value\":0.1},\"line_color\":{\"field\":\"color\",\"transform\":{\"id\":\"4576\"}},\"size\":{\"value\":5.477225575051661},\"x\":{\"field\":\"price_change_percentage_24h\"},\"y\":{\"field\":\"price_change_percentage_7d\"}},\"id\":\"4581\",\"type\":\"Scatter\"},{\"attributes\":{\"end\":5.6275381428571425,\"reset_end\":5.6275381428571425,\"reset_start\":-14.315068142857143,\"start\":-14.315068142857143,\"tags\":[[[\"price_change_percentage_24h\",\"price_change_percentage_24h\",null]]]},\"id\":\"4543\",\"type\":\"Range1d\"},{\"attributes\":{},\"id\":\"4593\",\"type\":\"BasicTickFormatter\"},{\"attributes\":{\"callback\":null,\"renderers\":[{\"id\":\"4585\"}],\"tags\":[\"hv_created\"],\"tooltips\":[[\"price_change_percentage_24h\",\"@{price_change_percentage_24h}\"],[\"price_change_percentage_7d\",\"@{price_change_percentage_7d}\"],[\"cluster\",\"@{cluster}\"]]},\"id\":\"4545\",\"type\":\"HoverTool\"},{\"attributes\":{\"fill_alpha\":{\"value\":0.2},\"fill_color\":{\"field\":\"color\",\"transform\":{\"id\":\"4576\"}},\"hatch_alpha\":{\"value\":0.2},\"hatch_color\":{\"field\":\"color\",\"transform\":{\"id\":\"4576\"}},\"line_alpha\":{\"value\":0.2},\"line_color\":{\"field\":\"color\",\"transform\":{\"id\":\"4576\"}},\"size\":{\"value\":5.477225575051661},\"x\":{\"field\":\"price_change_percentage_24h\"},\"y\":{\"field\":\"price_change_percentage_7d\"}},\"id\":\"4584\",\"type\":\"Scatter\"},{\"attributes\":{\"coordinates\":null,\"data_source\":{\"id\":\"4577\"},\"glyph\":{\"id\":\"4580\"},\"group\":null,\"hover_glyph\":{\"id\":\"4583\"},\"muted_glyph\":{\"id\":\"4584\"},\"nonselection_glyph\":{\"id\":\"4581\"},\"selection_glyph\":{\"id\":\"4582\"},\"view\":{\"id\":\"4586\"}},\"id\":\"4585\",\"type\":\"GlyphRenderer\"},{\"attributes\":{\"children\":[{\"id\":\"4546\"}],\"height\":300,\"margin\":[0,0,0,0],\"name\":\"Row05333\",\"sizing_mode\":\"fixed\",\"tags\":[\"embedded\"],\"width\":700},\"id\":\"4542\",\"type\":\"Row\"},{\"attributes\":{\"fill_color\":{\"field\":\"color\",\"transform\":{\"id\":\"4576\"}},\"hatch_color\":{\"field\":\"color\",\"transform\":{\"id\":\"4576\"}},\"line_color\":{\"field\":\"color\",\"transform\":{\"id\":\"4576\"}},\"size\":{\"value\":5.477225575051661},\"x\":{\"field\":\"price_change_percentage_24h\"},\"y\":{\"field\":\"price_change_percentage_7d\"}},\"id\":\"4583\",\"type\":\"Scatter\"},{\"attributes\":{\"coordinates\":null,\"group\":null,\"text\":\"Cryptocurrency Price Change\",\"text_color\":\"black\",\"text_font_size\":\"12pt\"},\"id\":\"4547\",\"type\":\"Title\"},{\"attributes\":{},\"id\":\"4603\",\"type\":\"NoOverlap\"},{\"attributes\":{\"below\":[{\"id\":\"4555\"}],\"center\":[{\"id\":\"4558\"},{\"id\":\"4562\"}],\"height\":300,\"left\":[{\"id\":\"4559\"}],\"margin\":[5,5,5,5],\"min_border_bottom\":10,\"min_border_left\":10,\"min_border_right\":10,\"min_border_top\":10,\"renderers\":[{\"id\":\"4585\"}],\"right\":[{\"id\":\"4588\"}],\"sizing_mode\":\"fixed\",\"title\":{\"id\":\"4547\"},\"toolbar\":{\"id\":\"4569\"},\"width\":700,\"x_range\":{\"id\":\"4543\"},\"x_scale\":{\"id\":\"4551\"},\"y_range\":{\"id\":\"4544\"},\"y_scale\":{\"id\":\"4553\"}},\"id\":\"4546\",\"subtype\":\"Figure\",\"type\":\"Plot\"},{\"attributes\":{\"axis_label\":\"Price Change % (24h)\",\"coordinates\":null,\"formatter\":{\"id\":\"4590\"},\"group\":null,\"major_label_policy\":{\"id\":\"4591\"},\"ticker\":{\"id\":\"4556\"}},\"id\":\"4555\",\"type\":\"LinearAxis\"},{\"attributes\":{\"data\":{\"cluster\":{\"__ndarray__\":\"AgAAAAIAAAAAAAAAAAAAAAIAAAACAAAAAgAAAAIAAAACAAAAAAAAAAAAAAAAAAAAAAAAAAIAAAAAAAAAAgAAAAAAAAAAAAAAAgAAAAAAAAAAAAAAAgAAAAAAAAAAAAAAAAAAAAAAAAAAAAAAAAAAAAIAAAAAAAAAAAAAAAAAAAADAAAAAgAAAAAAAAAAAAAAAQAAAAAAAAAAAAAAAAAAAAAAAAA=\",\"dtype\":\"int32\",\"order\":\"little\",\"shape\":[41]},\"color\":{\"__ndarray__\":\"AgAAAAIAAAAAAAAAAAAAAAIAAAACAAAAAgAAAAIAAAACAAAAAAAAAAAAAAAAAAAAAAAAAAIAAAAAAAAAAgAAAAAAAAAAAAAAAgAAAAAAAAAAAAAAAgAAAAAAAAAAAAAAAAAAAAAAAAAAAAAAAAAAAAIAAAAAAAAAAAAAAAAAAAADAAAAAgAAAAAAAAAAAAAAAQAAAAAAAAAAAAAAAAAAAAAAAAA=\",\"dtype\":\"int32\",\"order\":\"little\",\"shape\":[41]},\"price_change_percentage_24h\":{\"__ndarray__\":\"nZ0MjpJX8T8MzXUaaanMP5mByvj3Gcu/wCZr1EM02L8ep+hILj8HQL0Yyol21QBAwhcmUwWjzr//CS5W1GBqP7JGPUSjO7C/QKTfvg6c7T8urYbEPZbjPzeJQWDl0Ma/1pC4x9KHwj87NgLxun7bP90HILWJk7M/JjYf14aK5b83iUFg5dAFwG3i5H6HIvC/5nlwd9Zu7r9i83FtqBjLP+iHEcKjjd8/M9yAzw+j8T/fGtgqweLAv+RmuAGfH9q/UdobfGEy678D7KNTVz67v8YzaOif4No/teBFX0Ga9D8G2Eenrnzjvx+duvJZPhLAoMN8eQH28L+cxCCwcmjdv667eapDDivAX5hMFYxK479EUaBP5EkQwAZkr3d/XBNA0JuKVBgbBEDqBDQRNrz1vxo09E9wseo/tI6qJoi6r79qMA3DR8QHQA==\",\"dtype\":\"float64\",\"order\":\"little\",\"shape\":[41]},\"price_change_percentage_7d\":{\"__ndarray__\":\"RbsKKT9pHkAzUBn/PsMkQL99HThnRKk/yVnY0w5/47/+JhQi4BgxQBL3WPrQtSlA7yB2ptCxNEA/jBAebfwrQPFL/bypaBpArKjBNAxfCkByv0NRoK8WwPlJtU/HY76/lPsdigL99L+n6Egu/5EvQE1KQbeX9BBA0m9fB87pIUBlU67wLjcSwKbtX1lpkgBAZwqd19gVMEBcIEHxY8ytP3wnZr0YigNAOh4zUBmfHUD3Hi457pT1vzNQGf8+4/k/kQ96Nqs+6781Y9F0djKoP2dEaW/wRRhAgXhdv2A3/L/8GHPXErIkQP8JLlbUYBjAVU0QdR9gFEDRlnMprmoIQGCrBIvD2RBAAiuHFtlOIECbG9MTllgRQKhXyjLEURtAqn06HjNQ4z+UvDrHgGzzvwltOZfiahxAsD2zJEBNxT8yj/zBwHPlPw==\",\"dtype\":\"float64\",\"order\":\"little\",\"shape\":[41]}},\"selected\":{\"id\":\"4578\"},\"selection_policy\":{\"id\":\"4607\"}},\"id\":\"4577\",\"type\":\"ColumnDataSource\"},{\"attributes\":{},\"id\":\"4594\",\"type\":\"AllLabels\"},{\"attributes\":{},\"id\":\"4564\",\"type\":\"PanTool\"},{\"attributes\":{\"axis\":{\"id\":\"4555\"},\"coordinates\":null,\"grid_line_color\":null,\"group\":null,\"ticker\":null},\"id\":\"4558\",\"type\":\"Grid\"}],\"root_ids\":[\"4542\"]},\"title\":\"Bokeh Application\",\"version\":\"2.4.3\"}};\n",
       "    var render_items = [{\"docid\":\"7d865a3d-15ed-4dcb-952f-9e54d59a271a\",\"root_ids\":[\"4542\"],\"roots\":{\"4542\":\"a487e6b2-5848-4295-b806-cd723aeb83fa\"}}];\n",
       "    root.Bokeh.embed.embed_items_notebook(docs_json, render_items);\n",
       "    for (const render_item of render_items) {\n",
       "      for (const root_id of render_item.root_ids) {\n",
       "\tconst id_el = document.getElementById(root_id)\n",
       "\tif (id_el.children.length && (id_el.children[0].className === 'bk-root')) {\n",
       "\t  const root_el = id_el.children[0]\n",
       "\t  root_el.id = root_el.id + '-rendered'\n",
       "\t}\n",
       "      }\n",
       "    }\n",
       "  }\n",
       "  if (root.Bokeh !== undefined && root.Bokeh.Panel !== undefined) {\n",
       "    embed_document(root);\n",
       "  } else {\n",
       "    var attempts = 0;\n",
       "    var timer = setInterval(function(root) {\n",
       "      if (root.Bokeh !== undefined && root.Bokeh.Panel !== undefined) {\n",
       "        clearInterval(timer);\n",
       "        embed_document(root);\n",
       "      } else if (document.readyState == \"complete\") {\n",
       "        attempts++;\n",
       "        if (attempts > 200) {\n",
       "          clearInterval(timer);\n",
       "          console.log(\"Bokeh: ERROR: Unable to run BokehJS code because BokehJS library is missing\");\n",
       "        }\n",
       "      }\n",
       "    }, 25, root)\n",
       "  }\n",
       "})(window);</script>"
      ],
      "text/plain": [
       ":Scatter   [price_change_percentage_24h]   (price_change_percentage_7d,cluster)"
      ]
     },
     "metadata": {
      "application/vnd.holoviews_exec.v0+json": {
       "id": "4542"
      }
     },
     "output_type": "display_data"
    }
   ],
   "source": [
    "# Create a scatter plot using hvPlot by setting \n",
    "# `x=\"price_change_percentage_24h\"` and `y=\"price_change_percentage_7d\"`. \n",
    "# Color the graph points with the labels found using K-Means and \n",
    "# add the crypto name in the `hover_cols` parameter to identify \n",
    "# the cryptocurrency represented by each data point.\n",
    "scatter_plot = df_market_data_copy.hvplot.scatter(\n",
    "    x=\"price_change_percentage_24h\",\n",
    "    y=\"price_change_percentage_7d\",\n",
    "    c=\"cluster\",\n",
    "    cmap=\"viridis\",\n",
    "    title=\"Cryptocurrency Price Change\",\n",
    "    xlabel=\"Price Change % (24h)\",\n",
    "    ylabel=\"Price Change % (7d)\",\n",
    "    hover_cols=[\"name\"]\n",
    ")\n",
    "\n",
    "\n",
    "display(scatter_plot)"
   ]
  },
  {
   "attachments": {},
   "cell_type": "markdown",
   "metadata": {},
   "source": [
    "---"
   ]
  },
  {
   "attachments": {},
   "cell_type": "markdown",
   "metadata": {},
   "source": [
    "### Optimize Clusters with Principal Component Analysis."
   ]
  },
  {
   "cell_type": "code",
   "execution_count": 150,
   "metadata": {},
   "outputs": [],
   "source": [
    "# Create a PCA model instance and set `n_components=3`.\n",
    "pca = PCA(n_components=3)"
   ]
  },
  {
   "cell_type": "code",
   "execution_count": 151,
   "metadata": {},
   "outputs": [
    {
     "name": "stdout",
     "output_type": "stream",
     "text": [
      "              price_change_percentage_24h  price_change_percentage_7d  \\\n",
      "coin_id                                                                 \n",
      "bitcoin                           1.08388                     7.60278   \n",
      "ethereum                          0.22392                    10.38134   \n",
      "tether                           -0.21173                     0.04935   \n",
      "ripple                           -0.37819                    -0.60926   \n",
      "bitcoin-cash                      2.90585                    17.09717   \n",
      "\n",
      "              price_change_percentage_14d  price_change_percentage_30d  \\\n",
      "coin_id                                                                  \n",
      "bitcoin                           6.57509                      7.67258   \n",
      "ethereum                          4.80849                      0.13169   \n",
      "tether                            0.00640                     -0.04237   \n",
      "ripple                            2.24984                      0.23455   \n",
      "bitcoin-cash                     14.75334                     15.74903   \n",
      "\n",
      "              price_change_percentage_60d  price_change_percentage_200d  \\\n",
      "coin_id                                                                   \n",
      "bitcoin                          -3.25185                      83.51840   \n",
      "ethereum                        -12.88890                     186.77418   \n",
      "tether                            0.28037                      -0.00542   \n",
      "ripple                          -17.55245                      39.53888   \n",
      "bitcoin-cash                    -13.71793                      21.66042   \n",
      "\n",
      "              price_change_percentage_1y  cluster  \n",
      "coin_id                                            \n",
      "bitcoin                         37.51761        2  \n",
      "ethereum                       101.96023        2  \n",
      "tether                           0.01954        0  \n",
      "ripple                         -16.60193        0  \n",
      "bitcoin-cash                    14.49384        2  \n"
     ]
    }
   ],
   "source": [
    "# Use the PCA model with `fit_transform` to reduce to \n",
    "# three principal components.\n",
    "pca_components = pca.fit_transform(df_market_data_scaled)\n",
    "# View the first five rows of the DataFrame. \n",
    "print(df_market_data_copy.head())"
   ]
  },
  {
   "cell_type": "code",
   "execution_count": 152,
   "metadata": {},
   "outputs": [
    {
     "name": "stdout",
     "output_type": "stream",
     "text": [
      "Explained Variance for Each Principal Component:\n",
      "[0.3719856  0.34700813 0.17603793]\n",
      "0.8950316570309841\n"
     ]
    }
   ],
   "source": [
    "# Retrieve the explained variance to determine how much information \n",
    "# can be attributed to each principal component.\n",
    "explained_variance = pca.explained_variance_ratio_\n",
    "\n",
    "print(\"Explained Variance for Each Principal Component:\")\n",
    "print(explained_variance)\n",
    "\n",
    "total_explained_variance = sum(explained_variance)\n",
    "print(total_explained_variance)\n"
   ]
  },
  {
   "attachments": {},
   "cell_type": "markdown",
   "metadata": {},
   "source": [
    "#### Answer the following question: \n",
    "\n",
    "**Question:** What is the total explained variance of the three principal components?\n",
    "\n",
    "**Answer:** 0.8950316570309841"
   ]
  },
  {
   "cell_type": "code",
   "execution_count": 153,
   "metadata": {},
   "outputs": [
    {
     "name": "stdout",
     "output_type": "stream",
     "text": [
      "                     PC1       PC2       PC3\n",
      "Cryptocurrency                              \n",
      "bitcoin        -0.600667  0.842760  0.461595\n",
      "ethereum       -0.458261  0.458466  0.952877\n",
      "tether         -0.433070 -0.168126 -0.641752\n",
      "ripple         -0.471835 -0.222660 -0.479053\n",
      "bitcoin-cash   -1.157800  2.041209  1.859715\n"
     ]
    }
   ],
   "source": [
    "# Create a new DataFrame with the PCA data.\n",
    "pca_df = pd.DataFrame(data=pca_components, columns=[\"PC1\", \"PC2\", \"PC3\"])\n",
    "\n",
    "# Creating a DataFrame with the PCA data\n",
    "\n",
    "# Copy the crypto names from the original data\n",
    "pca_df[\"Cryptocurrency\"] = df_market_data.index\n",
    "\n",
    "# Set the coinid column as index\n",
    "pca_df.set_index(\"Cryptocurrency\", inplace=True)\n",
    "\n",
    "# Display sample data\n",
    "print(pca_df.head())"
   ]
  },
  {
   "attachments": {},
   "cell_type": "markdown",
   "metadata": {},
   "source": [
    "---"
   ]
  },
  {
   "attachments": {},
   "cell_type": "markdown",
   "metadata": {},
   "source": [
    "### Find the Best Value for k Using the PCA Data"
   ]
  },
  {
   "cell_type": "code",
   "execution_count": 154,
   "metadata": {},
   "outputs": [],
   "source": [
    "# Create a list with the number of k-values from 1 to 11\n",
    "k_values = list(range(1, 12))"
   ]
  },
  {
   "cell_type": "code",
   "execution_count": 155,
   "metadata": {},
   "outputs": [
    {
     "name": "stderr",
     "output_type": "stream",
     "text": [
      "c:\\Users\\jeffi\\anaconda3\\envs\\dev\\lib\\site-packages\\sklearn\\cluster\\_kmeans.py:870: FutureWarning: The default value of `n_init` will change from 10 to 'auto' in 1.4. Set the value of `n_init` explicitly to suppress the warning\n",
      "  warnings.warn(\n",
      "c:\\Users\\jeffi\\anaconda3\\envs\\dev\\lib\\site-packages\\sklearn\\cluster\\_kmeans.py:1382: UserWarning: KMeans is known to have a memory leak on Windows with MKL, when there are less chunks than available threads. You can avoid it by setting the environment variable OMP_NUM_THREADS=1.\n",
      "  warnings.warn(\n",
      "c:\\Users\\jeffi\\anaconda3\\envs\\dev\\lib\\site-packages\\sklearn\\cluster\\_kmeans.py:870: FutureWarning: The default value of `n_init` will change from 10 to 'auto' in 1.4. Set the value of `n_init` explicitly to suppress the warning\n",
      "  warnings.warn(\n",
      "c:\\Users\\jeffi\\anaconda3\\envs\\dev\\lib\\site-packages\\sklearn\\cluster\\_kmeans.py:1382: UserWarning: KMeans is known to have a memory leak on Windows with MKL, when there are less chunks than available threads. You can avoid it by setting the environment variable OMP_NUM_THREADS=1.\n",
      "  warnings.warn(\n",
      "c:\\Users\\jeffi\\anaconda3\\envs\\dev\\lib\\site-packages\\sklearn\\cluster\\_kmeans.py:870: FutureWarning: The default value of `n_init` will change from 10 to 'auto' in 1.4. Set the value of `n_init` explicitly to suppress the warning\n",
      "  warnings.warn(\n",
      "c:\\Users\\jeffi\\anaconda3\\envs\\dev\\lib\\site-packages\\sklearn\\cluster\\_kmeans.py:1382: UserWarning: KMeans is known to have a memory leak on Windows with MKL, when there are less chunks than available threads. You can avoid it by setting the environment variable OMP_NUM_THREADS=1.\n",
      "  warnings.warn(\n",
      "c:\\Users\\jeffi\\anaconda3\\envs\\dev\\lib\\site-packages\\sklearn\\cluster\\_kmeans.py:870: FutureWarning: The default value of `n_init` will change from 10 to 'auto' in 1.4. Set the value of `n_init` explicitly to suppress the warning\n",
      "  warnings.warn(\n",
      "c:\\Users\\jeffi\\anaconda3\\envs\\dev\\lib\\site-packages\\sklearn\\cluster\\_kmeans.py:1382: UserWarning: KMeans is known to have a memory leak on Windows with MKL, when there are less chunks than available threads. You can avoid it by setting the environment variable OMP_NUM_THREADS=1.\n",
      "  warnings.warn(\n",
      "c:\\Users\\jeffi\\anaconda3\\envs\\dev\\lib\\site-packages\\sklearn\\cluster\\_kmeans.py:870: FutureWarning: The default value of `n_init` will change from 10 to 'auto' in 1.4. Set the value of `n_init` explicitly to suppress the warning\n",
      "  warnings.warn(\n",
      "c:\\Users\\jeffi\\anaconda3\\envs\\dev\\lib\\site-packages\\sklearn\\cluster\\_kmeans.py:1382: UserWarning: KMeans is known to have a memory leak on Windows with MKL, when there are less chunks than available threads. You can avoid it by setting the environment variable OMP_NUM_THREADS=1.\n",
      "  warnings.warn(\n",
      "c:\\Users\\jeffi\\anaconda3\\envs\\dev\\lib\\site-packages\\sklearn\\cluster\\_kmeans.py:870: FutureWarning: The default value of `n_init` will change from 10 to 'auto' in 1.4. Set the value of `n_init` explicitly to suppress the warning\n",
      "  warnings.warn(\n",
      "c:\\Users\\jeffi\\anaconda3\\envs\\dev\\lib\\site-packages\\sklearn\\cluster\\_kmeans.py:1382: UserWarning: KMeans is known to have a memory leak on Windows with MKL, when there are less chunks than available threads. You can avoid it by setting the environment variable OMP_NUM_THREADS=1.\n",
      "  warnings.warn(\n",
      "c:\\Users\\jeffi\\anaconda3\\envs\\dev\\lib\\site-packages\\sklearn\\cluster\\_kmeans.py:870: FutureWarning: The default value of `n_init` will change from 10 to 'auto' in 1.4. Set the value of `n_init` explicitly to suppress the warning\n",
      "  warnings.warn(\n",
      "c:\\Users\\jeffi\\anaconda3\\envs\\dev\\lib\\site-packages\\sklearn\\cluster\\_kmeans.py:1382: UserWarning: KMeans is known to have a memory leak on Windows with MKL, when there are less chunks than available threads. You can avoid it by setting the environment variable OMP_NUM_THREADS=1.\n",
      "  warnings.warn(\n",
      "c:\\Users\\jeffi\\anaconda3\\envs\\dev\\lib\\site-packages\\sklearn\\cluster\\_kmeans.py:870: FutureWarning: The default value of `n_init` will change from 10 to 'auto' in 1.4. Set the value of `n_init` explicitly to suppress the warning\n",
      "  warnings.warn(\n",
      "c:\\Users\\jeffi\\anaconda3\\envs\\dev\\lib\\site-packages\\sklearn\\cluster\\_kmeans.py:1382: UserWarning: KMeans is known to have a memory leak on Windows with MKL, when there are less chunks than available threads. You can avoid it by setting the environment variable OMP_NUM_THREADS=1.\n",
      "  warnings.warn(\n",
      "c:\\Users\\jeffi\\anaconda3\\envs\\dev\\lib\\site-packages\\sklearn\\cluster\\_kmeans.py:870: FutureWarning: The default value of `n_init` will change from 10 to 'auto' in 1.4. Set the value of `n_init` explicitly to suppress the warning\n",
      "  warnings.warn(\n",
      "c:\\Users\\jeffi\\anaconda3\\envs\\dev\\lib\\site-packages\\sklearn\\cluster\\_kmeans.py:1382: UserWarning: KMeans is known to have a memory leak on Windows with MKL, when there are less chunks than available threads. You can avoid it by setting the environment variable OMP_NUM_THREADS=1.\n",
      "  warnings.warn(\n",
      "c:\\Users\\jeffi\\anaconda3\\envs\\dev\\lib\\site-packages\\sklearn\\cluster\\_kmeans.py:870: FutureWarning: The default value of `n_init` will change from 10 to 'auto' in 1.4. Set the value of `n_init` explicitly to suppress the warning\n",
      "  warnings.warn(\n",
      "c:\\Users\\jeffi\\anaconda3\\envs\\dev\\lib\\site-packages\\sklearn\\cluster\\_kmeans.py:1382: UserWarning: KMeans is known to have a memory leak on Windows with MKL, when there are less chunks than available threads. You can avoid it by setting the environment variable OMP_NUM_THREADS=1.\n",
      "  warnings.warn(\n",
      "c:\\Users\\jeffi\\anaconda3\\envs\\dev\\lib\\site-packages\\sklearn\\cluster\\_kmeans.py:870: FutureWarning: The default value of `n_init` will change from 10 to 'auto' in 1.4. Set the value of `n_init` explicitly to suppress the warning\n",
      "  warnings.warn(\n",
      "c:\\Users\\jeffi\\anaconda3\\envs\\dev\\lib\\site-packages\\sklearn\\cluster\\_kmeans.py:1382: UserWarning: KMeans is known to have a memory leak on Windows with MKL, when there are less chunks than available threads. You can avoid it by setting the environment variable OMP_NUM_THREADS=1.\n",
      "  warnings.warn(\n"
     ]
    },
    {
     "name": "stdout",
     "output_type": "stream",
     "text": [
      "[256.8740855678926, 168.8118963068523, 93.77462568057305, 49.66549665179739, 38.07279215014322, 27.618971787957452, 21.13405603747362, 17.016962140077435, 13.755814196780083, 10.48489048597693, 8.153175154624645]\n"
     ]
    }
   ],
   "source": [
    "# Create an empty list to store the inertia values\n",
    "inertia_values = []\n",
    "\n",
    "# Create a for loop to compute the inertia with each possible value of k\n",
    "# Inside the loop:\n",
    "# 1. Create a KMeans model using the loop counter for the n_clusters\n",
    "# 2. Fit the model to the data using `df_market_data_pca`\n",
    "# 3. Append the model.inertia_ to the inertia list\n",
    "for k in k_values:\n",
    "    kmeans = KMeans(n_clusters=k)\n",
    "    kmeans.fit(pca_df)\n",
    "    inertia_values.append(kmeans.inertia_)\n",
    "\n",
    "# View the list of inertia values\n",
    "print(inertia_values)"
   ]
  },
  {
   "cell_type": "code",
   "execution_count": 156,
   "metadata": {},
   "outputs": [
    {
     "name": "stdout",
     "output_type": "stream",
     "text": [
      "     k     inertia\n",
      "0    1  256.874086\n",
      "1    2  168.811896\n",
      "2    3   93.774626\n",
      "3    4   49.665497\n",
      "4    5   38.072792\n",
      "5    6   27.618972\n",
      "6    7   21.134056\n",
      "7    8   17.016962\n",
      "8    9   13.755814\n",
      "9   10   10.484890\n",
      "10  11    8.153175\n"
     ]
    }
   ],
   "source": [
    "# Create a dictionary with the data to plot the Elbow curve\n",
    "elbow_data = {\n",
    "    'k': k_values,\n",
    "    'inertia': inertia_values\n",
    "}\n",
    "# Create a DataFrame with the data to plot the Elbow curve\n",
    "elbow_df = pd.DataFrame(elbow_data)\n",
    "print(elbow_df)"
   ]
  },
  {
   "cell_type": "code",
   "execution_count": 157,
   "metadata": {},
   "outputs": [
    {
     "data": {},
     "metadata": {},
     "output_type": "display_data"
    },
    {
     "data": {
      "application/vnd.holoviews_exec.v0+json": "",
      "text/html": [
       "<div id='4666'>\n",
       "  <div class=\"bk-root\" id=\"15f6080d-2c51-4851-8f8f-8673cba5c0d7\" data-root-id=\"4666\"></div>\n",
       "</div>\n",
       "<script type=\"application/javascript\">(function(root) {\n",
       "  function embed_document(root) {\n",
       "    var docs_json = {\"fb82dc51-b8de-4fd5-9e8b-9996babf380c\":{\"defs\":[{\"extends\":null,\"module\":null,\"name\":\"ReactiveHTML1\",\"overrides\":[],\"properties\":[]},{\"extends\":null,\"module\":null,\"name\":\"FlexBox1\",\"overrides\":[],\"properties\":[{\"default\":\"flex-start\",\"kind\":null,\"name\":\"align_content\"},{\"default\":\"flex-start\",\"kind\":null,\"name\":\"align_items\"},{\"default\":\"row\",\"kind\":null,\"name\":\"flex_direction\"},{\"default\":\"wrap\",\"kind\":null,\"name\":\"flex_wrap\"},{\"default\":\"flex-start\",\"kind\":null,\"name\":\"justify_content\"}]},{\"extends\":null,\"module\":null,\"name\":\"GridStack1\",\"overrides\":[],\"properties\":[{\"default\":\"warn\",\"kind\":null,\"name\":\"mode\"},{\"default\":null,\"kind\":null,\"name\":\"ncols\"},{\"default\":null,\"kind\":null,\"name\":\"nrows\"},{\"default\":true,\"kind\":null,\"name\":\"allow_resize\"},{\"default\":true,\"kind\":null,\"name\":\"allow_drag\"},{\"default\":[],\"kind\":null,\"name\":\"state\"}]},{\"extends\":null,\"module\":null,\"name\":\"click1\",\"overrides\":[],\"properties\":[{\"default\":\"\",\"kind\":null,\"name\":\"terminal_output\"},{\"default\":\"\",\"kind\":null,\"name\":\"debug_name\"},{\"default\":0,\"kind\":null,\"name\":\"clears\"}]},{\"extends\":null,\"module\":null,\"name\":\"NotificationAreaBase1\",\"overrides\":[],\"properties\":[{\"default\":\"bottom-right\",\"kind\":null,\"name\":\"position\"},{\"default\":0,\"kind\":null,\"name\":\"_clear\"}]},{\"extends\":null,\"module\":null,\"name\":\"NotificationArea1\",\"overrides\":[],\"properties\":[{\"default\":[],\"kind\":null,\"name\":\"notifications\"},{\"default\":\"bottom-right\",\"kind\":null,\"name\":\"position\"},{\"default\":0,\"kind\":null,\"name\":\"_clear\"},{\"default\":[{\"background\":\"#ffc107\",\"icon\":{\"className\":\"fas fa-exclamation-triangle\",\"color\":\"white\",\"tagName\":\"i\"},\"type\":\"warning\"},{\"background\":\"#007bff\",\"icon\":{\"className\":\"fas fa-info-circle\",\"color\":\"white\",\"tagName\":\"i\"},\"type\":\"info\"}],\"kind\":null,\"name\":\"types\"}]},{\"extends\":null,\"module\":null,\"name\":\"Notification\",\"overrides\":[],\"properties\":[{\"default\":null,\"kind\":null,\"name\":\"background\"},{\"default\":3000,\"kind\":null,\"name\":\"duration\"},{\"default\":null,\"kind\":null,\"name\":\"icon\"},{\"default\":\"\",\"kind\":null,\"name\":\"message\"},{\"default\":null,\"kind\":null,\"name\":\"notification_type\"},{\"default\":false,\"kind\":null,\"name\":\"_destroyed\"}]},{\"extends\":null,\"module\":null,\"name\":\"TemplateActions1\",\"overrides\":[],\"properties\":[{\"default\":0,\"kind\":null,\"name\":\"open_modal\"},{\"default\":0,\"kind\":null,\"name\":\"close_modal\"}]},{\"extends\":null,\"module\":null,\"name\":\"MaterialTemplateActions1\",\"overrides\":[],\"properties\":[{\"default\":0,\"kind\":null,\"name\":\"open_modal\"},{\"default\":0,\"kind\":null,\"name\":\"close_modal\"}]}],\"roots\":{\"references\":[{\"attributes\":{\"axis_label\":\"Inertia\",\"coordinates\":null,\"formatter\":{\"id\":\"4713\"},\"group\":null,\"major_label_policy\":{\"id\":\"4714\"},\"ticker\":{\"id\":\"4684\"}},\"id\":\"4683\",\"type\":\"LinearAxis\"},{\"attributes\":{},\"id\":\"4677\",\"type\":\"LinearScale\"},{\"attributes\":{},\"id\":\"4675\",\"type\":\"LinearScale\"},{\"attributes\":{\"coordinates\":null,\"data_source\":{\"id\":\"4700\"},\"glyph\":{\"id\":\"4703\"},\"group\":null,\"hover_glyph\":null,\"muted_glyph\":{\"id\":\"4705\"},\"nonselection_glyph\":{\"id\":\"4704\"},\"selection_glyph\":{\"id\":\"4708\"},\"view\":{\"id\":\"4707\"}},\"id\":\"4706\",\"type\":\"GlyphRenderer\"},{\"attributes\":{},\"id\":\"4726\",\"type\":\"UnionRenderers\"},{\"attributes\":{\"coordinates\":null,\"group\":null,\"text\":\"Elbow Curve for K-Means Clustering\",\"text_color\":\"black\",\"text_font_size\":\"12pt\"},\"id\":\"4671\",\"type\":\"Title\"},{\"attributes\":{\"data\":{\"inertia\":{\"__ndarray__\":\"EgAmQfwNcECQtfYN+xllQP4sl3eTcVdAnYiJ/i7VSEClItBAUQlDQIVsYu90njtA0scYf1EiNUAb53yhVwQxQMILEhT6gitALtPWkEP4JEBeWE/5bE4gQA==\",\"dtype\":\"float64\",\"order\":\"little\",\"shape\":[11]},\"k\":[1,2,3,4,5,6,7,8,9,10,11]},\"selected\":{\"id\":\"4701\"},\"selection_policy\":{\"id\":\"4726\"}},\"id\":\"4700\",\"type\":\"ColumnDataSource\"},{\"attributes\":{},\"id\":\"4689\",\"type\":\"WheelZoomTool\"},{\"attributes\":{\"active_drag\":{\"id\":\"4688\"},\"active_scroll\":{\"id\":\"4689\"},\"tools\":[{\"id\":\"4669\"},{\"id\":\"4687\"},{\"id\":\"4688\"},{\"id\":\"4689\"},{\"id\":\"4690\"},{\"id\":\"4691\"}]},\"id\":\"4693\",\"type\":\"Toolbar\"},{\"attributes\":{\"axis\":{\"id\":\"4683\"},\"coordinates\":null,\"dimension\":1,\"grid_line_color\":null,\"group\":null,\"ticker\":null},\"id\":\"4686\",\"type\":\"Grid\"},{\"attributes\":{\"line_color\":\"blue\",\"line_width\":2,\"x\":{\"field\":\"k\"},\"y\":{\"field\":\"inertia\"}},\"id\":\"4708\",\"type\":\"Line\"},{\"attributes\":{\"children\":[{\"id\":\"4670\"}],\"height\":400,\"margin\":[0,0,0,0],\"name\":\"Row05439\",\"sizing_mode\":\"fixed\",\"tags\":[\"embedded\"],\"width\":800},\"id\":\"4666\",\"type\":\"Row\"},{\"attributes\":{},\"id\":\"4684\",\"type\":\"BasicTicker\"},{\"attributes\":{\"end\":11.0,\"reset_end\":11.0,\"reset_start\":1.0,\"start\":1.0,\"tags\":[[[\"k\",\"k\",null]]]},\"id\":\"4667\",\"type\":\"Range1d\"},{\"attributes\":{\"line_color\":\"blue\",\"line_width\":2,\"x\":{\"field\":\"k\"},\"y\":{\"field\":\"inertia\"}},\"id\":\"4703\",\"type\":\"Line\"},{\"attributes\":{},\"id\":\"4691\",\"type\":\"ResetTool\"},{\"attributes\":{\"line_alpha\":0.2,\"line_color\":\"blue\",\"line_width\":2,\"x\":{\"field\":\"k\"},\"y\":{\"field\":\"inertia\"}},\"id\":\"4705\",\"type\":\"Line\"},{\"attributes\":{},\"id\":\"4710\",\"type\":\"BasicTickFormatter\"},{\"attributes\":{\"overlay\":{\"id\":\"4692\"}},\"id\":\"4690\",\"type\":\"BoxZoomTool\"},{\"attributes\":{},\"id\":\"4711\",\"type\":\"AllLabels\"},{\"attributes\":{\"end\":281.74617660921945,\"reset_end\":281.74617660921945,\"reset_start\":-16.718915886702153,\"start\":-16.718915886702153,\"tags\":[[[\"inertia\",\"inertia\",null]]]},\"id\":\"4668\",\"type\":\"Range1d\"},{\"attributes\":{\"line_alpha\":0.1,\"line_color\":\"blue\",\"line_width\":2,\"x\":{\"field\":\"k\"},\"y\":{\"field\":\"inertia\"}},\"id\":\"4704\",\"type\":\"Line\"},{\"attributes\":{\"axis\":{\"id\":\"4679\"},\"coordinates\":null,\"grid_line_color\":null,\"group\":null,\"ticker\":null},\"id\":\"4682\",\"type\":\"Grid\"},{\"attributes\":{\"axis_label\":\"Number of Clusters (k)\",\"coordinates\":null,\"formatter\":{\"id\":\"4710\"},\"group\":null,\"major_label_policy\":{\"id\":\"4711\"},\"ticker\":{\"id\":\"4680\"}},\"id\":\"4679\",\"type\":\"LinearAxis\"},{\"attributes\":{},\"id\":\"4713\",\"type\":\"BasicTickFormatter\"},{\"attributes\":{\"source\":{\"id\":\"4700\"}},\"id\":\"4707\",\"type\":\"CDSView\"},{\"attributes\":{\"callback\":null,\"renderers\":[{\"id\":\"4706\"}],\"tags\":[\"hv_created\"],\"tooltips\":[[\"k\",\"@{k}\"],[\"inertia\",\"@{inertia}\"]]},\"id\":\"4669\",\"type\":\"HoverTool\"},{\"attributes\":{},\"id\":\"4701\",\"type\":\"Selection\"},{\"attributes\":{\"bottom_units\":\"screen\",\"coordinates\":null,\"fill_alpha\":0.5,\"fill_color\":\"lightgrey\",\"group\":null,\"left_units\":\"screen\",\"level\":\"overlay\",\"line_alpha\":1.0,\"line_color\":\"black\",\"line_dash\":[4,4],\"line_width\":2,\"right_units\":\"screen\",\"syncable\":false,\"top_units\":\"screen\"},\"id\":\"4692\",\"type\":\"BoxAnnotation\"},{\"attributes\":{},\"id\":\"4714\",\"type\":\"AllLabels\"},{\"attributes\":{},\"id\":\"4680\",\"type\":\"BasicTicker\"},{\"attributes\":{},\"id\":\"4687\",\"type\":\"SaveTool\"},{\"attributes\":{\"below\":[{\"id\":\"4679\"}],\"center\":[{\"id\":\"4682\"},{\"id\":\"4686\"}],\"height\":400,\"left\":[{\"id\":\"4683\"}],\"margin\":[5,5,5,5],\"min_border_bottom\":10,\"min_border_left\":10,\"min_border_right\":10,\"min_border_top\":10,\"renderers\":[{\"id\":\"4706\"}],\"sizing_mode\":\"fixed\",\"title\":{\"id\":\"4671\"},\"toolbar\":{\"id\":\"4693\"},\"width\":800,\"x_range\":{\"id\":\"4667\"},\"x_scale\":{\"id\":\"4675\"},\"y_range\":{\"id\":\"4668\"},\"y_scale\":{\"id\":\"4677\"}},\"id\":\"4670\",\"subtype\":\"Figure\",\"type\":\"Plot\"},{\"attributes\":{},\"id\":\"4688\",\"type\":\"PanTool\"}],\"root_ids\":[\"4666\"]},\"title\":\"Bokeh Application\",\"version\":\"2.4.3\"}};\n",
       "    var render_items = [{\"docid\":\"fb82dc51-b8de-4fd5-9e8b-9996babf380c\",\"root_ids\":[\"4666\"],\"roots\":{\"4666\":\"15f6080d-2c51-4851-8f8f-8673cba5c0d7\"}}];\n",
       "    root.Bokeh.embed.embed_items_notebook(docs_json, render_items);\n",
       "    for (const render_item of render_items) {\n",
       "      for (const root_id of render_item.root_ids) {\n",
       "\tconst id_el = document.getElementById(root_id)\n",
       "\tif (id_el.children.length && (id_el.children[0].className === 'bk-root')) {\n",
       "\t  const root_el = id_el.children[0]\n",
       "\t  root_el.id = root_el.id + '-rendered'\n",
       "\t}\n",
       "      }\n",
       "    }\n",
       "  }\n",
       "  if (root.Bokeh !== undefined && root.Bokeh.Panel !== undefined) {\n",
       "    embed_document(root);\n",
       "  } else {\n",
       "    var attempts = 0;\n",
       "    var timer = setInterval(function(root) {\n",
       "      if (root.Bokeh !== undefined && root.Bokeh.Panel !== undefined) {\n",
       "        clearInterval(timer);\n",
       "        embed_document(root);\n",
       "      } else if (document.readyState == \"complete\") {\n",
       "        attempts++;\n",
       "        if (attempts > 200) {\n",
       "          clearInterval(timer);\n",
       "          console.log(\"Bokeh: ERROR: Unable to run BokehJS code because BokehJS library is missing\");\n",
       "        }\n",
       "      }\n",
       "    }, 25, root)\n",
       "  }\n",
       "})(window);</script>"
      ],
      "text/plain": [
       ":Curve   [k]   (inertia)"
      ]
     },
     "execution_count": 157,
     "metadata": {
      "application/vnd.holoviews_exec.v0+json": {
       "id": "4666"
      }
     },
     "output_type": "execute_result"
    }
   ],
   "source": [
    "# Plot a line chart with all the inertia values computed with \n",
    "# the different values of k to visually identify the optimal value for k.\n",
    "elbow_df.hvplot.line(\n",
    "    x='k',\n",
    "    y='inertia',\n",
    "    title='Elbow Curve for K-Means Clustering',\n",
    "    xlabel='Number of Clusters (k)',\n",
    "    ylabel='Inertia',\n",
    "    width=800,\n",
    "    height=400,\n",
    "    line_color='blue'\n",
    ")"
   ]
  },
  {
   "attachments": {},
   "cell_type": "markdown",
   "metadata": {},
   "source": [
    "#### Answer the following questions: \n",
    "\n",
    "* **Question:** What is the best value for `k` when using the PCA data?\n",
    "\n",
    "  * **Answer:** 4\n",
    "\n",
    "\n",
    "* **Question:** Does it differ from the best k value found using the original data?\n",
    "\n",
    "  * **Answer:** no"
   ]
  },
  {
   "attachments": {},
   "cell_type": "markdown",
   "metadata": {},
   "source": [
    "### Cluster Cryptocurrencies with K-means Using the PCA Data"
   ]
  },
  {
   "cell_type": "code",
   "execution_count": 158,
   "metadata": {},
   "outputs": [],
   "source": [
    "# Initialize the K-Means model using the best value for k\n",
    "best_k = 4\n",
    "kmeans = KMeans(n_clusters=best_k)"
   ]
  },
  {
   "cell_type": "code",
   "execution_count": 159,
   "metadata": {},
   "outputs": [
    {
     "name": "stderr",
     "output_type": "stream",
     "text": [
      "c:\\Users\\jeffi\\anaconda3\\envs\\dev\\lib\\site-packages\\sklearn\\cluster\\_kmeans.py:870: FutureWarning: The default value of `n_init` will change from 10 to 'auto' in 1.4. Set the value of `n_init` explicitly to suppress the warning\n",
      "  warnings.warn(\n",
      "c:\\Users\\jeffi\\anaconda3\\envs\\dev\\lib\\site-packages\\sklearn\\cluster\\_kmeans.py:1382: UserWarning: KMeans is known to have a memory leak on Windows with MKL, when there are less chunks than available threads. You can avoid it by setting the environment variable OMP_NUM_THREADS=1.\n",
      "  warnings.warn(\n"
     ]
    },
    {
     "data": {
      "text/html": [
       "<style>#sk-container-id-8 {color: black;background-color: white;}#sk-container-id-8 pre{padding: 0;}#sk-container-id-8 div.sk-toggleable {background-color: white;}#sk-container-id-8 label.sk-toggleable__label {cursor: pointer;display: block;width: 100%;margin-bottom: 0;padding: 0.3em;box-sizing: border-box;text-align: center;}#sk-container-id-8 label.sk-toggleable__label-arrow:before {content: \"▸\";float: left;margin-right: 0.25em;color: #696969;}#sk-container-id-8 label.sk-toggleable__label-arrow:hover:before {color: black;}#sk-container-id-8 div.sk-estimator:hover label.sk-toggleable__label-arrow:before {color: black;}#sk-container-id-8 div.sk-toggleable__content {max-height: 0;max-width: 0;overflow: hidden;text-align: left;background-color: #f0f8ff;}#sk-container-id-8 div.sk-toggleable__content pre {margin: 0.2em;color: black;border-radius: 0.25em;background-color: #f0f8ff;}#sk-container-id-8 input.sk-toggleable__control:checked~div.sk-toggleable__content {max-height: 200px;max-width: 100%;overflow: auto;}#sk-container-id-8 input.sk-toggleable__control:checked~label.sk-toggleable__label-arrow:before {content: \"▾\";}#sk-container-id-8 div.sk-estimator input.sk-toggleable__control:checked~label.sk-toggleable__label {background-color: #d4ebff;}#sk-container-id-8 div.sk-label input.sk-toggleable__control:checked~label.sk-toggleable__label {background-color: #d4ebff;}#sk-container-id-8 input.sk-hidden--visually {border: 0;clip: rect(1px 1px 1px 1px);clip: rect(1px, 1px, 1px, 1px);height: 1px;margin: -1px;overflow: hidden;padding: 0;position: absolute;width: 1px;}#sk-container-id-8 div.sk-estimator {font-family: monospace;background-color: #f0f8ff;border: 1px dotted black;border-radius: 0.25em;box-sizing: border-box;margin-bottom: 0.5em;}#sk-container-id-8 div.sk-estimator:hover {background-color: #d4ebff;}#sk-container-id-8 div.sk-parallel-item::after {content: \"\";width: 100%;border-bottom: 1px solid gray;flex-grow: 1;}#sk-container-id-8 div.sk-label:hover label.sk-toggleable__label {background-color: #d4ebff;}#sk-container-id-8 div.sk-serial::before {content: \"\";position: absolute;border-left: 1px solid gray;box-sizing: border-box;top: 0;bottom: 0;left: 50%;z-index: 0;}#sk-container-id-8 div.sk-serial {display: flex;flex-direction: column;align-items: center;background-color: white;padding-right: 0.2em;padding-left: 0.2em;position: relative;}#sk-container-id-8 div.sk-item {position: relative;z-index: 1;}#sk-container-id-8 div.sk-parallel {display: flex;align-items: stretch;justify-content: center;background-color: white;position: relative;}#sk-container-id-8 div.sk-item::before, #sk-container-id-8 div.sk-parallel-item::before {content: \"\";position: absolute;border-left: 1px solid gray;box-sizing: border-box;top: 0;bottom: 0;left: 50%;z-index: -1;}#sk-container-id-8 div.sk-parallel-item {display: flex;flex-direction: column;z-index: 1;position: relative;background-color: white;}#sk-container-id-8 div.sk-parallel-item:first-child::after {align-self: flex-end;width: 50%;}#sk-container-id-8 div.sk-parallel-item:last-child::after {align-self: flex-start;width: 50%;}#sk-container-id-8 div.sk-parallel-item:only-child::after {width: 0;}#sk-container-id-8 div.sk-dashed-wrapped {border: 1px dashed gray;margin: 0 0.4em 0.5em 0.4em;box-sizing: border-box;padding-bottom: 0.4em;background-color: white;}#sk-container-id-8 div.sk-label label {font-family: monospace;font-weight: bold;display: inline-block;line-height: 1.2em;}#sk-container-id-8 div.sk-label-container {text-align: center;}#sk-container-id-8 div.sk-container {/* jupyter's `normalize.less` sets `[hidden] { display: none; }` but bootstrap.min.css set `[hidden] { display: none !important; }` so we also need the `!important` here to be able to override the default hidden behavior on the sphinx rendered scikit-learn.org. See: https://github.com/scikit-learn/scikit-learn/issues/21755 */display: inline-block !important;position: relative;}#sk-container-id-8 div.sk-text-repr-fallback {display: none;}</style><div id=\"sk-container-id-8\" class=\"sk-top-container\"><div class=\"sk-text-repr-fallback\"><pre>KMeans(n_clusters=4)</pre><b>In a Jupyter environment, please rerun this cell to show the HTML representation or trust the notebook. <br />On GitHub, the HTML representation is unable to render, please try loading this page with nbviewer.org.</b></div><div class=\"sk-container\" hidden><div class=\"sk-item\"><div class=\"sk-estimator sk-toggleable\"><input class=\"sk-toggleable__control sk-hidden--visually\" id=\"sk-estimator-id-8\" type=\"checkbox\" checked><label for=\"sk-estimator-id-8\" class=\"sk-toggleable__label sk-toggleable__label-arrow\">KMeans</label><div class=\"sk-toggleable__content\"><pre>KMeans(n_clusters=4)</pre></div></div></div></div></div>"
      ],
      "text/plain": [
       "KMeans(n_clusters=4)"
      ]
     },
     "execution_count": 159,
     "metadata": {},
     "output_type": "execute_result"
    }
   ],
   "source": [
    "# Fit the K-Means model using the PCA data\n",
    "kmeans.fit(pca_df)"
   ]
  },
  {
   "cell_type": "code",
   "execution_count": 160,
   "metadata": {},
   "outputs": [
    {
     "name": "stdout",
     "output_type": "stream",
     "text": [
      "[3 3 0 0 3 3 3 3 3 0 0 0 0 3 0 3 0 0 3 0 0 3 0 0 0 0 0 0 3 0 0 0 2 3 0 0 1\n",
      " 0 0 0 0]\n"
     ]
    }
   ],
   "source": [
    "# Predict the clusters to group the cryptocurrencies using the PCA data\n",
    "new_data_points = pca_df  \n",
    "predicted_clusters = kmeans.predict(new_data_points)\n",
    "# Print the resulting array of cluster values.\n",
    "print(predicted_clusters)"
   ]
  },
  {
   "cell_type": "code",
   "execution_count": 161,
   "metadata": {},
   "outputs": [
    {
     "name": "stdout",
     "output_type": "stream",
     "text": [
      "                     PC1       PC2       PC3  Predicted_Cluster\n",
      "Cryptocurrency                                                 \n",
      "bitcoin        -0.600667  0.842760  0.461595                  3\n",
      "ethereum       -0.458261  0.458466  0.952877                  3\n",
      "tether         -0.433070 -0.168126 -0.641752                  0\n",
      "ripple         -0.471835 -0.222660 -0.479053                  0\n",
      "bitcoin-cash   -1.157800  2.041209  1.859715                  3\n"
     ]
    }
   ],
   "source": [
    "# Create a copy of the DataFrame with the PCA data\n",
    "pca_df_copy = pca_df.copy()\n",
    "\n",
    "# Add a new column to the DataFrame with the predicted clusters\n",
    "pca_df_copy['Predicted_Cluster'] = predicted_clusters\n",
    "\n",
    "# Display sample data\n",
    "print(pca_df_copy.head())"
   ]
  },
  {
   "cell_type": "code",
   "execution_count": 162,
   "metadata": {},
   "outputs": [
    {
     "data": {},
     "metadata": {},
     "output_type": "display_data"
    },
    {
     "data": {
      "application/vnd.holoviews_exec.v0+json": "",
      "text/html": [
       "<div id='4780'>\n",
       "  <div class=\"bk-root\" id=\"96620b65-ff70-49e2-9cd9-d0735b51631c\" data-root-id=\"4780\"></div>\n",
       "</div>\n",
       "<script type=\"application/javascript\">(function(root) {\n",
       "  function embed_document(root) {\n",
       "    var docs_json = {\"46f8a067-3430-4352-b4de-a0bb960dd9cf\":{\"defs\":[{\"extends\":null,\"module\":null,\"name\":\"ReactiveHTML1\",\"overrides\":[],\"properties\":[]},{\"extends\":null,\"module\":null,\"name\":\"FlexBox1\",\"overrides\":[],\"properties\":[{\"default\":\"flex-start\",\"kind\":null,\"name\":\"align_content\"},{\"default\":\"flex-start\",\"kind\":null,\"name\":\"align_items\"},{\"default\":\"row\",\"kind\":null,\"name\":\"flex_direction\"},{\"default\":\"wrap\",\"kind\":null,\"name\":\"flex_wrap\"},{\"default\":\"flex-start\",\"kind\":null,\"name\":\"justify_content\"}]},{\"extends\":null,\"module\":null,\"name\":\"GridStack1\",\"overrides\":[],\"properties\":[{\"default\":\"warn\",\"kind\":null,\"name\":\"mode\"},{\"default\":null,\"kind\":null,\"name\":\"ncols\"},{\"default\":null,\"kind\":null,\"name\":\"nrows\"},{\"default\":true,\"kind\":null,\"name\":\"allow_resize\"},{\"default\":true,\"kind\":null,\"name\":\"allow_drag\"},{\"default\":[],\"kind\":null,\"name\":\"state\"}]},{\"extends\":null,\"module\":null,\"name\":\"click1\",\"overrides\":[],\"properties\":[{\"default\":\"\",\"kind\":null,\"name\":\"terminal_output\"},{\"default\":\"\",\"kind\":null,\"name\":\"debug_name\"},{\"default\":0,\"kind\":null,\"name\":\"clears\"}]},{\"extends\":null,\"module\":null,\"name\":\"NotificationAreaBase1\",\"overrides\":[],\"properties\":[{\"default\":\"bottom-right\",\"kind\":null,\"name\":\"position\"},{\"default\":0,\"kind\":null,\"name\":\"_clear\"}]},{\"extends\":null,\"module\":null,\"name\":\"NotificationArea1\",\"overrides\":[],\"properties\":[{\"default\":[],\"kind\":null,\"name\":\"notifications\"},{\"default\":\"bottom-right\",\"kind\":null,\"name\":\"position\"},{\"default\":0,\"kind\":null,\"name\":\"_clear\"},{\"default\":[{\"background\":\"#ffc107\",\"icon\":{\"className\":\"fas fa-exclamation-triangle\",\"color\":\"white\",\"tagName\":\"i\"},\"type\":\"warning\"},{\"background\":\"#007bff\",\"icon\":{\"className\":\"fas fa-info-circle\",\"color\":\"white\",\"tagName\":\"i\"},\"type\":\"info\"}],\"kind\":null,\"name\":\"types\"}]},{\"extends\":null,\"module\":null,\"name\":\"Notification\",\"overrides\":[],\"properties\":[{\"default\":null,\"kind\":null,\"name\":\"background\"},{\"default\":3000,\"kind\":null,\"name\":\"duration\"},{\"default\":null,\"kind\":null,\"name\":\"icon\"},{\"default\":\"\",\"kind\":null,\"name\":\"message\"},{\"default\":null,\"kind\":null,\"name\":\"notification_type\"},{\"default\":false,\"kind\":null,\"name\":\"_destroyed\"}]},{\"extends\":null,\"module\":null,\"name\":\"TemplateActions1\",\"overrides\":[],\"properties\":[{\"default\":0,\"kind\":null,\"name\":\"open_modal\"},{\"default\":0,\"kind\":null,\"name\":\"close_modal\"}]},{\"extends\":null,\"module\":null,\"name\":\"MaterialTemplateActions1\",\"overrides\":[],\"properties\":[{\"default\":0,\"kind\":null,\"name\":\"open_modal\"},{\"default\":0,\"kind\":null,\"name\":\"close_modal\"}]}],\"roots\":{\"references\":[{\"attributes\":{},\"id\":\"4829\",\"type\":\"AllLabels\"},{\"attributes\":{\"end\":7.83413559633714,\"reset_end\":7.83413559633714,\"reset_start\":-4.963347456561368,\"start\":-4.963347456561368,\"tags\":[[[\"PC2\",\"PC2\",null]]]},\"id\":\"4782\",\"type\":\"Range1d\"},{\"attributes\":{\"below\":[{\"id\":\"4793\"}],\"center\":[{\"id\":\"4796\"},{\"id\":\"4800\"}],\"height\":300,\"left\":[{\"id\":\"4797\"}],\"margin\":[5,5,5,5],\"min_border_bottom\":10,\"min_border_left\":10,\"min_border_right\":10,\"min_border_top\":10,\"renderers\":[{\"id\":\"4823\"}],\"right\":[{\"id\":\"4826\"}],\"sizing_mode\":\"fixed\",\"title\":{\"id\":\"4785\"},\"toolbar\":{\"id\":\"4807\"},\"width\":700,\"x_range\":{\"id\":\"4781\"},\"x_scale\":{\"id\":\"4789\"},\"y_range\":{\"id\":\"4782\"},\"y_scale\":{\"id\":\"4791\"}},\"id\":\"4784\",\"subtype\":\"Figure\",\"type\":\"Plot\"},{\"attributes\":{\"active_drag\":{\"id\":\"4802\"},\"active_scroll\":{\"id\":\"4803\"},\"tools\":[{\"id\":\"4783\"},{\"id\":\"4801\"},{\"id\":\"4802\"},{\"id\":\"4803\"},{\"id\":\"4804\"},{\"id\":\"4805\"}]},\"id\":\"4807\",\"type\":\"Toolbar\"},{\"attributes\":{\"axis_label\":\"Principal Component 1\",\"coordinates\":null,\"formatter\":{\"id\":\"4828\"},\"group\":null,\"major_label_policy\":{\"id\":\"4829\"},\"ticker\":{\"id\":\"4794\"}},\"id\":\"4793\",\"type\":\"LinearAxis\"},{\"attributes\":{},\"id\":\"4789\",\"type\":\"LinearScale\"},{\"attributes\":{},\"id\":\"4831\",\"type\":\"BasicTickFormatter\"},{\"attributes\":{\"overlay\":{\"id\":\"4806\"}},\"id\":\"4804\",\"type\":\"BoxZoomTool\"},{\"attributes\":{\"data\":{\"Cryptocurrency\":[\"bitcoin\",\"ethereum\",\"tether\",\"ripple\",\"bitcoin-cash\",\"binancecoin\",\"chainlink\",\"cardano\",\"litecoin\",\"bitcoin-cash-sv\",\"crypto-com-chain\",\"usd-coin\",\"eos\",\"monero\",\"tron\",\"tezos\",\"okb\",\"stellar\",\"cosmos\",\"cdai\",\"neo\",\"wrapped-bitcoin\",\"leo-token\",\"huobi-token\",\"nem\",\"binance-usd\",\"iota\",\"vechain\",\"zcash\",\"theta-token\",\"dash\",\"ethereum-classic\",\"ethlend\",\"maker\",\"havven\",\"omisego\",\"celsius-degree-token\",\"ontology\",\"ftx-token\",\"true-usd\",\"digibyte\"],\"PC1\":{\"__ndarray__\":\"S/XQrqo447/f0e2+JFTdv0yWfGpqt9u/FGF8Nosy3r9gE49DWYbyvyLTCdRxh+C/9FpHYHTY3L8J/sd7Th7Wv5ZtTPNwyOS/2PJrm9dJ6L9L+3Og98TPv4GH9NfeDty/ihkZU4ow5r/osk+KvvmuP4JMI6evLNm/mTHFU0V66b/0BLsJMGewP7SyldMFTN+/186LH/eZ078N6SrB0W7gv9sWiTH7LNe/291vxyJW47+TEjtnb3Pav8cRKLozFNq/eGXZqrZ84z/oTdZjQtDcv4rYvTIjeOi/5LHvblTN4b9h8+bQmjXbv+hGFZE5agVAmSC8UEGl47+1vuS6vI7iv05VosuTLSBAvEmjFh7m2L90CisnUrTrP3CSuv+8lrw/RxQ7s2krE0BvXMBgQDzkv5YbmkYF++K/Dr1JmQJS3b/84a/49hDTvw==\",\"dtype\":\"float64\",\"order\":\"little\",\"shape\":[41]},\"PC2\":{\"__ndarray__\":\"tQJY8+P36j9hP81egFfdP5TRe08qhcW/r49VGiCAzL+iRDd7ZVQAQG2kcU7LNvY/s2TwvP2Q4D9/xP1IkVfnP1ktO/eXqNs/o+HMJurAyb/LOhRjIAX2v7xmxoRtcca/R8kgkvpS3r+X9tOGdUYHQH8rtCB4sru/cKSem2Sk379tgFApNFH0vwWhJl5vcue/aENue2CC5j/UkppKWUfCv7qIS4bNlO+/VgsYmwp66j9q+cMuWpLlv7Td4x5qM8u/rBdkhXQI4j9pLiH9mlTDvzTrhbGEkuC/WW24gOcC/7/TdLLu64zfPxN2Joz3k4y/jY8PRXSt3r8M37YoLM7WvyEN8PHULA/AT0ntLg0gxT9l/tbKVRgCwOQhKIaGads/JVrQWxoSG0BDqFKDbN0AwPUO7msnAJY/VfWtmbtfwb9ISPDBzXbIvw==\",\"dtype\":\"float64\",\"order\":\"little\",\"shape\":[41]},\"Predicted_Cluster\":{\"__ndarray__\":\"AwAAAAMAAAAAAAAAAAAAAAMAAAADAAAAAwAAAAMAAAADAAAAAAAAAAAAAAAAAAAAAAAAAAMAAAAAAAAAAwAAAAAAAAAAAAAAAwAAAAAAAAAAAAAAAwAAAAAAAAAAAAAAAAAAAAAAAAAAAAAAAAAAAAMAAAAAAAAAAAAAAAAAAAACAAAAAwAAAAAAAAAAAAAAAQAAAAAAAAAAAAAAAAAAAAAAAAA=\",\"dtype\":\"int32\",\"order\":\"little\",\"shape\":[41]},\"color\":{\"__ndarray__\":\"AwAAAAMAAAAAAAAAAAAAAAMAAAADAAAAAwAAAAMAAAADAAAAAAAAAAAAAAAAAAAAAAAAAAMAAAAAAAAAAwAAAAAAAAAAAAAAAwAAAAAAAAAAAAAAAwAAAAAAAAAAAAAAAAAAAAAAAAAAAAAAAAAAAAMAAAAAAAAAAAAAAAAAAAACAAAAAwAAAAAAAAAAAAAAAQAAAAAAAAAAAAAAAAAAAAAAAAA=\",\"dtype\":\"int32\",\"order\":\"little\",\"shape\":[41]}},\"selected\":{\"id\":\"4816\"},\"selection_policy\":{\"id\":\"4845\"}},\"id\":\"4815\",\"type\":\"ColumnDataSource\"},{\"attributes\":{},\"id\":\"4845\",\"type\":\"UnionRenderers\"},{\"attributes\":{\"children\":[{\"id\":\"4784\"}],\"height\":300,\"margin\":[0,0,0,0],\"name\":\"Row05549\",\"sizing_mode\":\"fixed\",\"tags\":[\"embedded\"],\"width\":700},\"id\":\"4780\",\"type\":\"Row\"},{\"attributes\":{},\"id\":\"4825\",\"type\":\"BasicTicker\"},{\"attributes\":{\"end\":8.485310422788737,\"reset_end\":8.485310422788737,\"reset_start\":-1.5540921804637602,\"start\":-1.5540921804637602,\"tags\":[[[\"PC1\",\"PC1\",null]]]},\"id\":\"4781\",\"type\":\"Range1d\"},{\"attributes\":{\"axis\":{\"id\":\"4797\"},\"coordinates\":null,\"dimension\":1,\"grid_line_color\":null,\"group\":null,\"ticker\":null},\"id\":\"4800\",\"type\":\"Grid\"},{\"attributes\":{\"bar_line_color\":\"black\",\"color_mapper\":{\"id\":\"4814\"},\"coordinates\":null,\"group\":null,\"label_standoff\":8,\"location\":[0,0],\"major_label_policy\":{\"id\":\"4841\"},\"major_tick_line_color\":\"black\",\"ticker\":{\"id\":\"4825\"}},\"id\":\"4826\",\"type\":\"ColorBar\"},{\"attributes\":{\"source\":{\"id\":\"4815\"}},\"id\":\"4824\",\"type\":\"CDSView\"},{\"attributes\":{},\"id\":\"4802\",\"type\":\"PanTool\"},{\"attributes\":{},\"id\":\"4832\",\"type\":\"AllLabels\"},{\"attributes\":{\"fill_color\":{\"field\":\"color\",\"transform\":{\"id\":\"4814\"}},\"hatch_color\":{\"field\":\"color\",\"transform\":{\"id\":\"4814\"}},\"line_color\":{\"field\":\"color\",\"transform\":{\"id\":\"4814\"}},\"size\":{\"value\":5.477225575051661},\"x\":{\"field\":\"PC1\"},\"y\":{\"field\":\"PC2\"}},\"id\":\"4820\",\"type\":\"Scatter\"},{\"attributes\":{},\"id\":\"4816\",\"type\":\"Selection\"},{\"attributes\":{\"fill_color\":{\"field\":\"color\",\"transform\":{\"id\":\"4814\"}},\"hatch_color\":{\"field\":\"color\",\"transform\":{\"id\":\"4814\"}},\"line_color\":{\"field\":\"color\",\"transform\":{\"id\":\"4814\"}},\"size\":{\"value\":5.477225575051661},\"x\":{\"field\":\"PC1\"},\"y\":{\"field\":\"PC2\"}},\"id\":\"4821\",\"type\":\"Scatter\"},{\"attributes\":{},\"id\":\"4798\",\"type\":\"BasicTicker\"},{\"attributes\":{\"fill_alpha\":{\"value\":0.2},\"fill_color\":{\"field\":\"color\",\"transform\":{\"id\":\"4814\"}},\"hatch_alpha\":{\"value\":0.2},\"hatch_color\":{\"field\":\"color\",\"transform\":{\"id\":\"4814\"}},\"line_alpha\":{\"value\":0.2},\"line_color\":{\"field\":\"color\",\"transform\":{\"id\":\"4814\"}},\"size\":{\"value\":5.477225575051661},\"x\":{\"field\":\"PC1\"},\"y\":{\"field\":\"PC2\"}},\"id\":\"4822\",\"type\":\"Scatter\"},{\"attributes\":{\"coordinates\":null,\"group\":null,\"text\":\"PCA Scatter Plot with Cluster Labels\",\"text_color\":\"black\",\"text_font_size\":\"12pt\"},\"id\":\"4785\",\"type\":\"Title\"},{\"attributes\":{\"axis_label\":\"Principal Component 2\",\"coordinates\":null,\"formatter\":{\"id\":\"4831\"},\"group\":null,\"major_label_policy\":{\"id\":\"4832\"},\"ticker\":{\"id\":\"4798\"}},\"id\":\"4797\",\"type\":\"LinearAxis\"},{\"attributes\":{\"coordinates\":null,\"data_source\":{\"id\":\"4815\"},\"glyph\":{\"id\":\"4818\"},\"group\":null,\"hover_glyph\":{\"id\":\"4821\"},\"muted_glyph\":{\"id\":\"4822\"},\"nonselection_glyph\":{\"id\":\"4819\"},\"selection_glyph\":{\"id\":\"4820\"},\"view\":{\"id\":\"4824\"}},\"id\":\"4823\",\"type\":\"GlyphRenderer\"},{\"attributes\":{\"axis\":{\"id\":\"4793\"},\"coordinates\":null,\"grid_line_color\":null,\"group\":null,\"ticker\":null},\"id\":\"4796\",\"type\":\"Grid\"},{\"attributes\":{\"bottom_units\":\"screen\",\"coordinates\":null,\"fill_alpha\":0.5,\"fill_color\":\"lightgrey\",\"group\":null,\"left_units\":\"screen\",\"level\":\"overlay\",\"line_alpha\":1.0,\"line_color\":\"black\",\"line_dash\":[4,4],\"line_width\":2,\"right_units\":\"screen\",\"syncable\":false,\"top_units\":\"screen\"},\"id\":\"4806\",\"type\":\"BoxAnnotation\"},{\"attributes\":{},\"id\":\"4791\",\"type\":\"LinearScale\"},{\"attributes\":{\"high\":3,\"low\":0,\"palette\":[\"#440154\",\"#440255\",\"#440357\",\"#450558\",\"#45065a\",\"#45085b\",\"#46095c\",\"#460b5e\",\"#460c5f\",\"#460e61\",\"#470f62\",\"#471163\",\"#471265\",\"#471466\",\"#471567\",\"#471669\",\"#47186a\",\"#48196b\",\"#481a6c\",\"#481c6e\",\"#481d6f\",\"#481e70\",\"#482071\",\"#482172\",\"#482273\",\"#482374\",\"#472575\",\"#472676\",\"#472777\",\"#472878\",\"#472a79\",\"#472b7a\",\"#472c7b\",\"#462d7c\",\"#462f7c\",\"#46307d\",\"#46317e\",\"#45327f\",\"#45347f\",\"#453580\",\"#453681\",\"#443781\",\"#443982\",\"#433a83\",\"#433b83\",\"#433c84\",\"#423d84\",\"#423e85\",\"#424085\",\"#414186\",\"#414286\",\"#404387\",\"#404487\",\"#3f4587\",\"#3f4788\",\"#3e4888\",\"#3e4989\",\"#3d4a89\",\"#3d4b89\",\"#3d4c89\",\"#3c4d8a\",\"#3c4e8a\",\"#3b508a\",\"#3b518a\",\"#3a528b\",\"#3a538b\",\"#39548b\",\"#39558b\",\"#38568b\",\"#38578c\",\"#37588c\",\"#37598c\",\"#365a8c\",\"#365b8c\",\"#355c8c\",\"#355d8c\",\"#345e8d\",\"#345f8d\",\"#33608d\",\"#33618d\",\"#32628d\",\"#32638d\",\"#31648d\",\"#31658d\",\"#31668d\",\"#30678d\",\"#30688d\",\"#2f698d\",\"#2f6a8d\",\"#2e6b8e\",\"#2e6c8e\",\"#2e6d8e\",\"#2d6e8e\",\"#2d6f8e\",\"#2c708e\",\"#2c718e\",\"#2c728e\",\"#2b738e\",\"#2b748e\",\"#2a758e\",\"#2a768e\",\"#2a778e\",\"#29788e\",\"#29798e\",\"#287a8e\",\"#287a8e\",\"#287b8e\",\"#277c8e\",\"#277d8e\",\"#277e8e\",\"#267f8e\",\"#26808e\",\"#26818e\",\"#25828e\",\"#25838d\",\"#24848d\",\"#24858d\",\"#24868d\",\"#23878d\",\"#23888d\",\"#23898d\",\"#22898d\",\"#228a8d\",\"#228b8d\",\"#218c8d\",\"#218d8c\",\"#218e8c\",\"#208f8c\",\"#20908c\",\"#20918c\",\"#1f928c\",\"#1f938b\",\"#1f948b\",\"#1f958b\",\"#1f968b\",\"#1e978a\",\"#1e988a\",\"#1e998a\",\"#1e998a\",\"#1e9a89\",\"#1e9b89\",\"#1e9c89\",\"#1e9d88\",\"#1e9e88\",\"#1e9f88\",\"#1ea087\",\"#1fa187\",\"#1fa286\",\"#1fa386\",\"#20a485\",\"#20a585\",\"#21a685\",\"#21a784\",\"#22a784\",\"#23a883\",\"#23a982\",\"#24aa82\",\"#25ab81\",\"#26ac81\",\"#27ad80\",\"#28ae7f\",\"#29af7f\",\"#2ab07e\",\"#2bb17d\",\"#2cb17d\",\"#2eb27c\",\"#2fb37b\",\"#30b47a\",\"#32b57a\",\"#33b679\",\"#35b778\",\"#36b877\",\"#38b976\",\"#39b976\",\"#3bba75\",\"#3dbb74\",\"#3ebc73\",\"#40bd72\",\"#42be71\",\"#44be70\",\"#45bf6f\",\"#47c06e\",\"#49c16d\",\"#4bc26c\",\"#4dc26b\",\"#4fc369\",\"#51c468\",\"#53c567\",\"#55c666\",\"#57c665\",\"#59c764\",\"#5bc862\",\"#5ec961\",\"#60c960\",\"#62ca5f\",\"#64cb5d\",\"#67cc5c\",\"#69cc5b\",\"#6bcd59\",\"#6dce58\",\"#70ce56\",\"#72cf55\",\"#74d054\",\"#77d052\",\"#79d151\",\"#7cd24f\",\"#7ed24e\",\"#81d34c\",\"#83d34b\",\"#86d449\",\"#88d547\",\"#8bd546\",\"#8dd644\",\"#90d643\",\"#92d741\",\"#95d73f\",\"#97d83e\",\"#9ad83c\",\"#9dd93a\",\"#9fd938\",\"#a2da37\",\"#a5da35\",\"#a7db33\",\"#aadb32\",\"#addc30\",\"#afdc2e\",\"#b2dd2c\",\"#b5dd2b\",\"#b7dd29\",\"#bade27\",\"#bdde26\",\"#bfdf24\",\"#c2df22\",\"#c5df21\",\"#c7e01f\",\"#cae01e\",\"#cde01d\",\"#cfe11c\",\"#d2e11b\",\"#d4e11a\",\"#d7e219\",\"#dae218\",\"#dce218\",\"#dfe318\",\"#e1e318\",\"#e4e318\",\"#e7e419\",\"#e9e419\",\"#ece41a\",\"#eee51b\",\"#f1e51c\",\"#f3e51e\",\"#f6e61f\",\"#f8e621\",\"#fae622\",\"#fde724\"]},\"id\":\"4814\",\"type\":\"LinearColorMapper\"},{\"attributes\":{},\"id\":\"4828\",\"type\":\"BasicTickFormatter\"},{\"attributes\":{\"fill_color\":{\"field\":\"color\",\"transform\":{\"id\":\"4814\"}},\"hatch_color\":{\"field\":\"color\",\"transform\":{\"id\":\"4814\"}},\"line_color\":{\"field\":\"color\",\"transform\":{\"id\":\"4814\"}},\"size\":{\"value\":5.477225575051661},\"x\":{\"field\":\"PC1\"},\"y\":{\"field\":\"PC2\"}},\"id\":\"4818\",\"type\":\"Scatter\"},{\"attributes\":{},\"id\":\"4805\",\"type\":\"ResetTool\"},{\"attributes\":{},\"id\":\"4841\",\"type\":\"NoOverlap\"},{\"attributes\":{\"callback\":null,\"renderers\":[{\"id\":\"4823\"}],\"tags\":[\"hv_created\"],\"tooltips\":[[\"PC1\",\"@{PC1}\"],[\"PC2\",\"@{PC2}\"],[\"Predicted_Cluster\",\"@{Predicted_Cluster}\"],[\"Cryptocurrency\",\"@{Cryptocurrency}\"]]},\"id\":\"4783\",\"type\":\"HoverTool\"},{\"attributes\":{},\"id\":\"4794\",\"type\":\"BasicTicker\"},{\"attributes\":{\"fill_alpha\":{\"value\":0.1},\"fill_color\":{\"field\":\"color\",\"transform\":{\"id\":\"4814\"}},\"hatch_alpha\":{\"value\":0.1},\"hatch_color\":{\"field\":\"color\",\"transform\":{\"id\":\"4814\"}},\"line_alpha\":{\"value\":0.1},\"line_color\":{\"field\":\"color\",\"transform\":{\"id\":\"4814\"}},\"size\":{\"value\":5.477225575051661},\"x\":{\"field\":\"PC1\"},\"y\":{\"field\":\"PC2\"}},\"id\":\"4819\",\"type\":\"Scatter\"},{\"attributes\":{},\"id\":\"4803\",\"type\":\"WheelZoomTool\"},{\"attributes\":{},\"id\":\"4801\",\"type\":\"SaveTool\"}],\"root_ids\":[\"4780\"]},\"title\":\"Bokeh Application\",\"version\":\"2.4.3\"}};\n",
       "    var render_items = [{\"docid\":\"46f8a067-3430-4352-b4de-a0bb960dd9cf\",\"root_ids\":[\"4780\"],\"roots\":{\"4780\":\"96620b65-ff70-49e2-9cd9-d0735b51631c\"}}];\n",
       "    root.Bokeh.embed.embed_items_notebook(docs_json, render_items);\n",
       "    for (const render_item of render_items) {\n",
       "      for (const root_id of render_item.root_ids) {\n",
       "\tconst id_el = document.getElementById(root_id)\n",
       "\tif (id_el.children.length && (id_el.children[0].className === 'bk-root')) {\n",
       "\t  const root_el = id_el.children[0]\n",
       "\t  root_el.id = root_el.id + '-rendered'\n",
       "\t}\n",
       "      }\n",
       "    }\n",
       "  }\n",
       "  if (root.Bokeh !== undefined && root.Bokeh.Panel !== undefined) {\n",
       "    embed_document(root);\n",
       "  } else {\n",
       "    var attempts = 0;\n",
       "    var timer = setInterval(function(root) {\n",
       "      if (root.Bokeh !== undefined && root.Bokeh.Panel !== undefined) {\n",
       "        clearInterval(timer);\n",
       "        embed_document(root);\n",
       "      } else if (document.readyState == \"complete\") {\n",
       "        attempts++;\n",
       "        if (attempts > 200) {\n",
       "          clearInterval(timer);\n",
       "          console.log(\"Bokeh: ERROR: Unable to run BokehJS code because BokehJS library is missing\");\n",
       "        }\n",
       "      }\n",
       "    }, 25, root)\n",
       "  }\n",
       "})(window);</script>"
      ],
      "text/plain": [
       ":Scatter   [PC1]   (PC2,Predicted_Cluster,Cryptocurrency)"
      ]
     },
     "execution_count": 162,
     "metadata": {
      "application/vnd.holoviews_exec.v0+json": {
       "id": "4780"
      }
     },
     "output_type": "execute_result"
    }
   ],
   "source": [
    "# Create a scatter plot using hvPlot by setting \n",
    "# `x=\"PC1\"` and `y=\"PC2\"`. \n",
    "# Color the graph points with the labels found using K-Means and \n",
    "# add the crypto name in the `hover_cols` parameter to identify \n",
    "# the cryptocurrency represented by each data point.\n",
    "scatter_plot = pca_df_copy.hvplot.scatter(\n",
    "    x=\"PC1\", \n",
    "    y=\"PC2\", \n",
    "    c=\"Predicted_Cluster\", \n",
    "    colormap='viridis', \n",
    "    hover_cols=[\"Cryptocurrency\"], \n",
    "    title=\"PCA Scatter Plot with Cluster Labels\", \n",
    "    xlabel=\"Principal Component 1\", \n",
    "    ylabel=\"Principal Component 2\")\n",
    "\n",
    "scatter_plot"
   ]
  },
  {
   "attachments": {},
   "cell_type": "markdown",
   "metadata": {},
   "source": [
    "### Visualize and Compare the Results\n",
    "\n",
    "In this section, you will visually analyze the cluster analysis results by contrasting the outcome with and without using the optimization techniques."
   ]
  },
  {
   "cell_type": "code",
   "execution_count": 163,
   "metadata": {},
   "outputs": [
    {
     "name": "stderr",
     "output_type": "stream",
     "text": [
      "c:\\Users\\jeffi\\anaconda3\\envs\\dev\\lib\\site-packages\\sklearn\\cluster\\_kmeans.py:870: FutureWarning: The default value of `n_init` will change from 10 to 'auto' in 1.4. Set the value of `n_init` explicitly to suppress the warning\n",
      "  warnings.warn(\n",
      "c:\\Users\\jeffi\\anaconda3\\envs\\dev\\lib\\site-packages\\sklearn\\cluster\\_kmeans.py:1382: UserWarning: KMeans is known to have a memory leak on Windows with MKL, when there are less chunks than available threads. You can avoid it by setting the environment variable OMP_NUM_THREADS=1.\n",
      "  warnings.warn(\n",
      "c:\\Users\\jeffi\\anaconda3\\envs\\dev\\lib\\site-packages\\sklearn\\cluster\\_kmeans.py:870: FutureWarning: The default value of `n_init` will change from 10 to 'auto' in 1.4. Set the value of `n_init` explicitly to suppress the warning\n",
      "  warnings.warn(\n",
      "c:\\Users\\jeffi\\anaconda3\\envs\\dev\\lib\\site-packages\\sklearn\\cluster\\_kmeans.py:1382: UserWarning: KMeans is known to have a memory leak on Windows with MKL, when there are less chunks than available threads. You can avoid it by setting the environment variable OMP_NUM_THREADS=1.\n",
      "  warnings.warn(\n",
      "c:\\Users\\jeffi\\anaconda3\\envs\\dev\\lib\\site-packages\\sklearn\\cluster\\_kmeans.py:870: FutureWarning: The default value of `n_init` will change from 10 to 'auto' in 1.4. Set the value of `n_init` explicitly to suppress the warning\n",
      "  warnings.warn(\n",
      "c:\\Users\\jeffi\\anaconda3\\envs\\dev\\lib\\site-packages\\sklearn\\cluster\\_kmeans.py:1382: UserWarning: KMeans is known to have a memory leak on Windows with MKL, when there are less chunks than available threads. You can avoid it by setting the environment variable OMP_NUM_THREADS=1.\n",
      "  warnings.warn(\n",
      "c:\\Users\\jeffi\\anaconda3\\envs\\dev\\lib\\site-packages\\sklearn\\cluster\\_kmeans.py:870: FutureWarning: The default value of `n_init` will change from 10 to 'auto' in 1.4. Set the value of `n_init` explicitly to suppress the warning\n",
      "  warnings.warn(\n",
      "c:\\Users\\jeffi\\anaconda3\\envs\\dev\\lib\\site-packages\\sklearn\\cluster\\_kmeans.py:1382: UserWarning: KMeans is known to have a memory leak on Windows with MKL, when there are less chunks than available threads. You can avoid it by setting the environment variable OMP_NUM_THREADS=1.\n",
      "  warnings.warn(\n",
      "c:\\Users\\jeffi\\anaconda3\\envs\\dev\\lib\\site-packages\\sklearn\\cluster\\_kmeans.py:870: FutureWarning: The default value of `n_init` will change from 10 to 'auto' in 1.4. Set the value of `n_init` explicitly to suppress the warning\n",
      "  warnings.warn(\n",
      "c:\\Users\\jeffi\\anaconda3\\envs\\dev\\lib\\site-packages\\sklearn\\cluster\\_kmeans.py:1382: UserWarning: KMeans is known to have a memory leak on Windows with MKL, when there are less chunks than available threads. You can avoid it by setting the environment variable OMP_NUM_THREADS=1.\n",
      "  warnings.warn(\n",
      "c:\\Users\\jeffi\\anaconda3\\envs\\dev\\lib\\site-packages\\sklearn\\cluster\\_kmeans.py:870: FutureWarning: The default value of `n_init` will change from 10 to 'auto' in 1.4. Set the value of `n_init` explicitly to suppress the warning\n",
      "  warnings.warn(\n",
      "c:\\Users\\jeffi\\anaconda3\\envs\\dev\\lib\\site-packages\\sklearn\\cluster\\_kmeans.py:1382: UserWarning: KMeans is known to have a memory leak on Windows with MKL, when there are less chunks than available threads. You can avoid it by setting the environment variable OMP_NUM_THREADS=1.\n",
      "  warnings.warn(\n",
      "c:\\Users\\jeffi\\anaconda3\\envs\\dev\\lib\\site-packages\\sklearn\\cluster\\_kmeans.py:870: FutureWarning: The default value of `n_init` will change from 10 to 'auto' in 1.4. Set the value of `n_init` explicitly to suppress the warning\n",
      "  warnings.warn(\n",
      "c:\\Users\\jeffi\\anaconda3\\envs\\dev\\lib\\site-packages\\sklearn\\cluster\\_kmeans.py:1382: UserWarning: KMeans is known to have a memory leak on Windows with MKL, when there are less chunks than available threads. You can avoid it by setting the environment variable OMP_NUM_THREADS=1.\n",
      "  warnings.warn(\n",
      "c:\\Users\\jeffi\\anaconda3\\envs\\dev\\lib\\site-packages\\sklearn\\cluster\\_kmeans.py:870: FutureWarning: The default value of `n_init` will change from 10 to 'auto' in 1.4. Set the value of `n_init` explicitly to suppress the warning\n",
      "  warnings.warn(\n",
      "c:\\Users\\jeffi\\anaconda3\\envs\\dev\\lib\\site-packages\\sklearn\\cluster\\_kmeans.py:1382: UserWarning: KMeans is known to have a memory leak on Windows with MKL, when there are less chunks than available threads. You can avoid it by setting the environment variable OMP_NUM_THREADS=1.\n",
      "  warnings.warn(\n",
      "c:\\Users\\jeffi\\anaconda3\\envs\\dev\\lib\\site-packages\\sklearn\\cluster\\_kmeans.py:870: FutureWarning: The default value of `n_init` will change from 10 to 'auto' in 1.4. Set the value of `n_init` explicitly to suppress the warning\n",
      "  warnings.warn(\n",
      "c:\\Users\\jeffi\\anaconda3\\envs\\dev\\lib\\site-packages\\sklearn\\cluster\\_kmeans.py:1382: UserWarning: KMeans is known to have a memory leak on Windows with MKL, when there are less chunks than available threads. You can avoid it by setting the environment variable OMP_NUM_THREADS=1.\n",
      "  warnings.warn(\n",
      "c:\\Users\\jeffi\\anaconda3\\envs\\dev\\lib\\site-packages\\sklearn\\cluster\\_kmeans.py:870: FutureWarning: The default value of `n_init` will change from 10 to 'auto' in 1.4. Set the value of `n_init` explicitly to suppress the warning\n",
      "  warnings.warn(\n",
      "c:\\Users\\jeffi\\anaconda3\\envs\\dev\\lib\\site-packages\\sklearn\\cluster\\_kmeans.py:1382: UserWarning: KMeans is known to have a memory leak on Windows with MKL, when there are less chunks than available threads. You can avoid it by setting the environment variable OMP_NUM_THREADS=1.\n",
      "  warnings.warn(\n",
      "c:\\Users\\jeffi\\anaconda3\\envs\\dev\\lib\\site-packages\\sklearn\\cluster\\_kmeans.py:870: FutureWarning: The default value of `n_init` will change from 10 to 'auto' in 1.4. Set the value of `n_init` explicitly to suppress the warning\n",
      "  warnings.warn(\n",
      "c:\\Users\\jeffi\\anaconda3\\envs\\dev\\lib\\site-packages\\sklearn\\cluster\\_kmeans.py:1382: UserWarning: KMeans is known to have a memory leak on Windows with MKL, when there are less chunks than available threads. You can avoid it by setting the environment variable OMP_NUM_THREADS=1.\n",
      "  warnings.warn(\n",
      "c:\\Users\\jeffi\\anaconda3\\envs\\dev\\lib\\site-packages\\sklearn\\cluster\\_kmeans.py:870: FutureWarning: The default value of `n_init` will change from 10 to 'auto' in 1.4. Set the value of `n_init` explicitly to suppress the warning\n",
      "  warnings.warn(\n",
      "c:\\Users\\jeffi\\anaconda3\\envs\\dev\\lib\\site-packages\\sklearn\\cluster\\_kmeans.py:1382: UserWarning: KMeans is known to have a memory leak on Windows with MKL, when there are less chunks than available threads. You can avoid it by setting the environment variable OMP_NUM_THREADS=1.\n",
      "  warnings.warn(\n",
      "c:\\Users\\jeffi\\anaconda3\\envs\\dev\\lib\\site-packages\\sklearn\\cluster\\_kmeans.py:870: FutureWarning: The default value of `n_init` will change from 10 to 'auto' in 1.4. Set the value of `n_init` explicitly to suppress the warning\n",
      "  warnings.warn(\n",
      "c:\\Users\\jeffi\\anaconda3\\envs\\dev\\lib\\site-packages\\sklearn\\cluster\\_kmeans.py:1382: UserWarning: KMeans is known to have a memory leak on Windows with MKL, when there are less chunks than available threads. You can avoid it by setting the environment variable OMP_NUM_THREADS=1.\n",
      "  warnings.warn(\n",
      "c:\\Users\\jeffi\\anaconda3\\envs\\dev\\lib\\site-packages\\sklearn\\cluster\\_kmeans.py:870: FutureWarning: The default value of `n_init` will change from 10 to 'auto' in 1.4. Set the value of `n_init` explicitly to suppress the warning\n",
      "  warnings.warn(\n",
      "c:\\Users\\jeffi\\anaconda3\\envs\\dev\\lib\\site-packages\\sklearn\\cluster\\_kmeans.py:1382: UserWarning: KMeans is known to have a memory leak on Windows with MKL, when there are less chunks than available threads. You can avoid it by setting the environment variable OMP_NUM_THREADS=1.\n",
      "  warnings.warn(\n",
      "c:\\Users\\jeffi\\anaconda3\\envs\\dev\\lib\\site-packages\\sklearn\\cluster\\_kmeans.py:870: FutureWarning: The default value of `n_init` will change from 10 to 'auto' in 1.4. Set the value of `n_init` explicitly to suppress the warning\n",
      "  warnings.warn(\n",
      "c:\\Users\\jeffi\\anaconda3\\envs\\dev\\lib\\site-packages\\sklearn\\cluster\\_kmeans.py:1382: UserWarning: KMeans is known to have a memory leak on Windows with MKL, when there are less chunks than available threads. You can avoid it by setting the environment variable OMP_NUM_THREADS=1.\n",
      "  warnings.warn(\n",
      "c:\\Users\\jeffi\\anaconda3\\envs\\dev\\lib\\site-packages\\sklearn\\cluster\\_kmeans.py:870: FutureWarning: The default value of `n_init` will change from 10 to 'auto' in 1.4. Set the value of `n_init` explicitly to suppress the warning\n",
      "  warnings.warn(\n",
      "c:\\Users\\jeffi\\anaconda3\\envs\\dev\\lib\\site-packages\\sklearn\\cluster\\_kmeans.py:1382: UserWarning: KMeans is known to have a memory leak on Windows with MKL, when there are less chunks than available threads. You can avoid it by setting the environment variable OMP_NUM_THREADS=1.\n",
      "  warnings.warn(\n",
      "c:\\Users\\jeffi\\anaconda3\\envs\\dev\\lib\\site-packages\\sklearn\\cluster\\_kmeans.py:870: FutureWarning: The default value of `n_init` will change from 10 to 'auto' in 1.4. Set the value of `n_init` explicitly to suppress the warning\n",
      "  warnings.warn(\n",
      "c:\\Users\\jeffi\\anaconda3\\envs\\dev\\lib\\site-packages\\sklearn\\cluster\\_kmeans.py:1382: UserWarning: KMeans is known to have a memory leak on Windows with MKL, when there are less chunks than available threads. You can avoid it by setting the environment variable OMP_NUM_THREADS=1.\n",
      "  warnings.warn(\n",
      "c:\\Users\\jeffi\\anaconda3\\envs\\dev\\lib\\site-packages\\sklearn\\cluster\\_kmeans.py:870: FutureWarning: The default value of `n_init` will change from 10 to 'auto' in 1.4. Set the value of `n_init` explicitly to suppress the warning\n",
      "  warnings.warn(\n",
      "c:\\Users\\jeffi\\anaconda3\\envs\\dev\\lib\\site-packages\\sklearn\\cluster\\_kmeans.py:1382: UserWarning: KMeans is known to have a memory leak on Windows with MKL, when there are less chunks than available threads. You can avoid it by setting the environment variable OMP_NUM_THREADS=1.\n",
      "  warnings.warn(\n",
      "c:\\Users\\jeffi\\anaconda3\\envs\\dev\\lib\\site-packages\\sklearn\\cluster\\_kmeans.py:870: FutureWarning: The default value of `n_init` will change from 10 to 'auto' in 1.4. Set the value of `n_init` explicitly to suppress the warning\n",
      "  warnings.warn(\n",
      "c:\\Users\\jeffi\\anaconda3\\envs\\dev\\lib\\site-packages\\sklearn\\cluster\\_kmeans.py:1382: UserWarning: KMeans is known to have a memory leak on Windows with MKL, when there are less chunks than available threads. You can avoid it by setting the environment variable OMP_NUM_THREADS=1.\n",
      "  warnings.warn(\n",
      "c:\\Users\\jeffi\\anaconda3\\envs\\dev\\lib\\site-packages\\sklearn\\cluster\\_kmeans.py:870: FutureWarning: The default value of `n_init` will change from 10 to 'auto' in 1.4. Set the value of `n_init` explicitly to suppress the warning\n",
      "  warnings.warn(\n",
      "c:\\Users\\jeffi\\anaconda3\\envs\\dev\\lib\\site-packages\\sklearn\\cluster\\_kmeans.py:1382: UserWarning: KMeans is known to have a memory leak on Windows with MKL, when there are less chunks than available threads. You can avoid it by setting the environment variable OMP_NUM_THREADS=1.\n",
      "  warnings.warn(\n",
      "c:\\Users\\jeffi\\anaconda3\\envs\\dev\\lib\\site-packages\\sklearn\\cluster\\_kmeans.py:870: FutureWarning: The default value of `n_init` will change from 10 to 'auto' in 1.4. Set the value of `n_init` explicitly to suppress the warning\n",
      "  warnings.warn(\n",
      "c:\\Users\\jeffi\\anaconda3\\envs\\dev\\lib\\site-packages\\sklearn\\cluster\\_kmeans.py:1382: UserWarning: KMeans is known to have a memory leak on Windows with MKL, when there are less chunks than available threads. You can avoid it by setting the environment variable OMP_NUM_THREADS=1.\n",
      "  warnings.warn(\n",
      "c:\\Users\\jeffi\\anaconda3\\envs\\dev\\lib\\site-packages\\sklearn\\cluster\\_kmeans.py:870: FutureWarning: The default value of `n_init` will change from 10 to 'auto' in 1.4. Set the value of `n_init` explicitly to suppress the warning\n",
      "  warnings.warn(\n",
      "c:\\Users\\jeffi\\anaconda3\\envs\\dev\\lib\\site-packages\\sklearn\\cluster\\_kmeans.py:1382: UserWarning: KMeans is known to have a memory leak on Windows with MKL, when there are less chunks than available threads. You can avoid it by setting the environment variable OMP_NUM_THREADS=1.\n",
      "  warnings.warn(\n"
     ]
    },
    {
     "data": {},
     "metadata": {},
     "output_type": "display_data"
    },
    {
     "data": {
      "application/vnd.holoviews_exec.v0+json": "",
      "text/html": [
       "<div id='4904'>\n",
       "  <div class=\"bk-root\" id=\"5c398502-90c2-42cd-a3de-ef8818019bf4\" data-root-id=\"4904\"></div>\n",
       "</div>\n",
       "<script type=\"application/javascript\">(function(root) {\n",
       "  function embed_document(root) {\n",
       "    var docs_json = {\"2b28a216-6777-4a2d-90c6-5276bd70823e\":{\"defs\":[{\"extends\":null,\"module\":null,\"name\":\"ReactiveHTML1\",\"overrides\":[],\"properties\":[]},{\"extends\":null,\"module\":null,\"name\":\"FlexBox1\",\"overrides\":[],\"properties\":[{\"default\":\"flex-start\",\"kind\":null,\"name\":\"align_content\"},{\"default\":\"flex-start\",\"kind\":null,\"name\":\"align_items\"},{\"default\":\"row\",\"kind\":null,\"name\":\"flex_direction\"},{\"default\":\"wrap\",\"kind\":null,\"name\":\"flex_wrap\"},{\"default\":\"flex-start\",\"kind\":null,\"name\":\"justify_content\"}]},{\"extends\":null,\"module\":null,\"name\":\"GridStack1\",\"overrides\":[],\"properties\":[{\"default\":\"warn\",\"kind\":null,\"name\":\"mode\"},{\"default\":null,\"kind\":null,\"name\":\"ncols\"},{\"default\":null,\"kind\":null,\"name\":\"nrows\"},{\"default\":true,\"kind\":null,\"name\":\"allow_resize\"},{\"default\":true,\"kind\":null,\"name\":\"allow_drag\"},{\"default\":[],\"kind\":null,\"name\":\"state\"}]},{\"extends\":null,\"module\":null,\"name\":\"click1\",\"overrides\":[],\"properties\":[{\"default\":\"\",\"kind\":null,\"name\":\"terminal_output\"},{\"default\":\"\",\"kind\":null,\"name\":\"debug_name\"},{\"default\":0,\"kind\":null,\"name\":\"clears\"}]},{\"extends\":null,\"module\":null,\"name\":\"NotificationAreaBase1\",\"overrides\":[],\"properties\":[{\"default\":\"bottom-right\",\"kind\":null,\"name\":\"position\"},{\"default\":0,\"kind\":null,\"name\":\"_clear\"}]},{\"extends\":null,\"module\":null,\"name\":\"NotificationArea1\",\"overrides\":[],\"properties\":[{\"default\":[],\"kind\":null,\"name\":\"notifications\"},{\"default\":\"bottom-right\",\"kind\":null,\"name\":\"position\"},{\"default\":0,\"kind\":null,\"name\":\"_clear\"},{\"default\":[{\"background\":\"#ffc107\",\"icon\":{\"className\":\"fas fa-exclamation-triangle\",\"color\":\"white\",\"tagName\":\"i\"},\"type\":\"warning\"},{\"background\":\"#007bff\",\"icon\":{\"className\":\"fas fa-info-circle\",\"color\":\"white\",\"tagName\":\"i\"},\"type\":\"info\"}],\"kind\":null,\"name\":\"types\"}]},{\"extends\":null,\"module\":null,\"name\":\"Notification\",\"overrides\":[],\"properties\":[{\"default\":null,\"kind\":null,\"name\":\"background\"},{\"default\":3000,\"kind\":null,\"name\":\"duration\"},{\"default\":null,\"kind\":null,\"name\":\"icon\"},{\"default\":\"\",\"kind\":null,\"name\":\"message\"},{\"default\":null,\"kind\":null,\"name\":\"notification_type\"},{\"default\":false,\"kind\":null,\"name\":\"_destroyed\"}]},{\"extends\":null,\"module\":null,\"name\":\"TemplateActions1\",\"overrides\":[],\"properties\":[{\"default\":0,\"kind\":null,\"name\":\"open_modal\"},{\"default\":0,\"kind\":null,\"name\":\"close_modal\"}]},{\"extends\":null,\"module\":null,\"name\":\"MaterialTemplateActions1\",\"overrides\":[],\"properties\":[{\"default\":0,\"kind\":null,\"name\":\"open_modal\"},{\"default\":0,\"kind\":null,\"name\":\"close_modal\"}]}],\"roots\":{\"references\":[{\"attributes\":{\"source\":{\"id\":\"4988\"}},\"id\":\"4995\",\"type\":\"CDSView\"},{\"attributes\":{\"coordinates\":null,\"group\":null,\"text\":\"Elbow Curve for Original Data\",\"text_color\":\"black\",\"text_font_size\":\"12pt\"},\"id\":\"4909\",\"type\":\"Title\"},{\"attributes\":{},\"id\":\"4915\",\"type\":\"LinearScale\"},{\"attributes\":{\"line_alpha\":0.2,\"line_color\":\"#30a2da\",\"line_width\":2,\"x\":{\"field\":\"k\"},\"y\":{\"field\":\"inertia\"}},\"id\":\"4943\",\"type\":\"Line\"},{\"attributes\":{},\"id\":\"4926\",\"type\":\"PanTool\"},{\"attributes\":{\"source\":{\"id\":\"4938\"}},\"id\":\"4945\",\"type\":\"CDSView\"},{\"attributes\":{\"axis\":{\"id\":\"4917\"},\"coordinates\":null,\"grid_line_color\":null,\"group\":null,\"ticker\":null},\"id\":\"4920\",\"type\":\"Grid\"},{\"attributes\":{},\"id\":\"4975\",\"type\":\"SaveTool\"},{\"attributes\":{\"axis_label\":\"Number of Clusters (k)\",\"coordinates\":null,\"formatter\":{\"id\":\"4948\"},\"group\":null,\"major_label_policy\":{\"id\":\"4949\"},\"ticker\":{\"id\":\"4918\"}},\"id\":\"4917\",\"type\":\"LinearAxis\"},{\"attributes\":{},\"id\":\"4918\",\"type\":\"BasicTicker\"},{\"attributes\":{\"coordinates\":null,\"data_source\":{\"id\":\"4938\"},\"glyph\":{\"id\":\"4941\"},\"group\":null,\"hover_glyph\":null,\"muted_glyph\":{\"id\":\"4943\"},\"nonselection_glyph\":{\"id\":\"4942\"},\"selection_glyph\":{\"id\":\"4946\"},\"view\":{\"id\":\"4945\"}},\"id\":\"4944\",\"type\":\"GlyphRenderer\"},{\"attributes\":{\"axis_label\":\"Inertia\",\"coordinates\":null,\"formatter\":{\"id\":\"4951\"},\"group\":null,\"major_label_policy\":{\"id\":\"4952\"},\"ticker\":{\"id\":\"4922\"}},\"id\":\"4921\",\"type\":\"LinearAxis\"},{\"attributes\":{},\"id\":\"4977\",\"type\":\"WheelZoomTool\"},{\"attributes\":{\"axis\":{\"id\":\"4921\"},\"coordinates\":null,\"dimension\":1,\"grid_line_color\":null,\"group\":null,\"ticker\":null},\"id\":\"4924\",\"type\":\"Grid\"},{\"attributes\":{},\"id\":\"4972\",\"type\":\"BasicTicker\"},{\"attributes\":{},\"id\":\"4922\",\"type\":\"BasicTicker\"},{\"attributes\":{\"axis\":{\"id\":\"4971\"},\"coordinates\":null,\"dimension\":1,\"grid_line_color\":null,\"group\":null,\"ticker\":null},\"id\":\"4974\",\"type\":\"Grid\"},{\"attributes\":{},\"id\":\"4927\",\"type\":\"WheelZoomTool\"},{\"attributes\":{\"axis_label\":\"Inertia\",\"coordinates\":null,\"formatter\":{\"id\":\"5001\"},\"group\":null,\"major_label_policy\":{\"id\":\"5002\"},\"ticker\":{\"id\":\"4972\"}},\"id\":\"4971\",\"type\":\"LinearAxis\"},{\"attributes\":{},\"id\":\"4925\",\"type\":\"SaveTool\"},{\"attributes\":{},\"id\":\"4998\",\"type\":\"BasicTickFormatter\"},{\"attributes\":{},\"id\":\"4968\",\"type\":\"BasicTicker\"},{\"attributes\":{\"overlay\":{\"id\":\"4930\"}},\"id\":\"4928\",\"type\":\"BoxZoomTool\"},{\"attributes\":{\"children\":[{\"id\":\"5032\"}],\"margin\":[0,0,0,0],\"name\":\"Row05743\",\"tags\":[\"embedded\"]},\"id\":\"4904\",\"type\":\"Row\"},{\"attributes\":{},\"id\":\"4929\",\"type\":\"ResetTool\"},{\"attributes\":{\"axis\":{\"id\":\"4967\"},\"coordinates\":null,\"grid_line_color\":null,\"group\":null,\"ticker\":null},\"id\":\"4970\",\"type\":\"Grid\"},{\"attributes\":{\"coordinates\":null,\"group\":null,\"text\":\"Elbow Curve for PCA Data\",\"text_color\":\"black\",\"text_font_size\":\"12pt\"},\"id\":\"4959\",\"type\":\"Title\"},{\"attributes\":{},\"id\":\"5025\",\"type\":\"UnionRenderers\"},{\"attributes\":{\"axis_label\":\"Number of Clusters (k)\",\"coordinates\":null,\"formatter\":{\"id\":\"4998\"},\"group\":null,\"major_label_policy\":{\"id\":\"4999\"},\"ticker\":{\"id\":\"4968\"}},\"id\":\"4967\",\"type\":\"LinearAxis\"},{\"attributes\":{\"bottom_units\":\"screen\",\"coordinates\":null,\"fill_alpha\":0.5,\"fill_color\":\"lightgrey\",\"group\":null,\"left_units\":\"screen\",\"level\":\"overlay\",\"line_alpha\":1.0,\"line_color\":\"black\",\"line_dash\":[4,4],\"line_width\":2,\"right_units\":\"screen\",\"syncable\":false,\"top_units\":\"screen\"},\"id\":\"4930\",\"type\":\"BoxAnnotation\"},{\"attributes\":{\"line_color\":\"#30a2da\",\"line_width\":2,\"x\":{\"field\":\"k\"},\"y\":{\"field\":\"inertia\"}},\"id\":\"4946\",\"type\":\"Line\"},{\"attributes\":{\"line_alpha\":0.1,\"line_color\":\"#30a2da\",\"line_width\":2,\"x\":{\"field\":\"k\"},\"y\":{\"field\":\"inertia\"}},\"id\":\"4992\",\"type\":\"Line\"},{\"attributes\":{\"active_drag\":{\"id\":\"4926\"},\"active_scroll\":{\"id\":\"4927\"},\"tools\":[{\"id\":\"4907\"},{\"id\":\"4925\"},{\"id\":\"4926\"},{\"id\":\"4927\"},{\"id\":\"4928\"},{\"id\":\"4929\"}]},\"id\":\"4931\",\"type\":\"Toolbar\"},{\"attributes\":{},\"id\":\"4939\",\"type\":\"Selection\"},{\"attributes\":{},\"id\":\"4948\",\"type\":\"BasicTickFormatter\"},{\"attributes\":{\"line_color\":\"#30a2da\",\"line_width\":2,\"x\":{\"field\":\"k\"},\"y\":{\"field\":\"inertia\"}},\"id\":\"4941\",\"type\":\"Line\"},{\"attributes\":{\"active_drag\":{\"id\":\"4976\"},\"active_scroll\":{\"id\":\"4977\"},\"tools\":[{\"id\":\"4957\"},{\"id\":\"4975\"},{\"id\":\"4976\"},{\"id\":\"4977\"},{\"id\":\"4978\"},{\"id\":\"4979\"}]},\"id\":\"4981\",\"type\":\"Toolbar\"},{\"attributes\":{\"line_alpha\":0.1,\"line_color\":\"#30a2da\",\"line_width\":2,\"x\":{\"field\":\"k\"},\"y\":{\"field\":\"inertia\"}},\"id\":\"4942\",\"type\":\"Line\"},{\"attributes\":{},\"id\":\"4989\",\"type\":\"Selection\"},{\"attributes\":{\"end\":314.90171367676805,\"reset_end\":314.90171367676805,\"reset_start\":-19.918850444448598,\"start\":-19.918850444448598,\"tags\":[[[\"inertia\",\"inertia\",null]]]},\"id\":\"4906\",\"type\":\"Range1d\"},{\"attributes\":{\"data\":{\"inertia\":{\"__ndarray__\":\"EgAmQfwNcEBOVJAi3bxkQP4sl3eTcVdAnYiJ/i7VSECfWle9H/5CQIVsYu90njtAclbYdPopNUD4ikKRhXsxQGTHlZniwitALtPWkEP4JED9Av2yc+4fQA==\",\"dtype\":\"float64\",\"order\":\"little\",\"shape\":[11]},\"k\":[1,2,3,4,5,6,7,8,9,10,11]},\"selected\":{\"id\":\"4989\"},\"selection_policy\":{\"id\":\"5025\"}},\"id\":\"4988\",\"type\":\"ColumnDataSource\"},{\"attributes\":{\"line_color\":\"#30a2da\",\"line_width\":2,\"x\":{\"field\":\"k\"},\"y\":{\"field\":\"inertia\"}},\"id\":\"4991\",\"type\":\"Line\"},{\"attributes\":{\"coordinates\":null,\"data_source\":{\"id\":\"4988\"},\"glyph\":{\"id\":\"4991\"},\"group\":null,\"hover_glyph\":null,\"muted_glyph\":{\"id\":\"4993\"},\"nonselection_glyph\":{\"id\":\"4992\"},\"selection_glyph\":{\"id\":\"4996\"},\"view\":{\"id\":\"4995\"}},\"id\":\"4994\",\"type\":\"GlyphRenderer\"},{\"attributes\":{\"line_alpha\":0.2,\"line_color\":\"#30a2da\",\"line_width\":2,\"x\":{\"field\":\"k\"},\"y\":{\"field\":\"inertia\"}},\"id\":\"4993\",\"type\":\"Line\"},{\"attributes\":{},\"id\":\"4951\",\"type\":\"BasicTickFormatter\"},{\"attributes\":{\"line_color\":\"#30a2da\",\"line_width\":2,\"x\":{\"field\":\"k\"},\"y\":{\"field\":\"inertia\"}},\"id\":\"4996\",\"type\":\"Line\"},{\"attributes\":{},\"id\":\"4949\",\"type\":\"AllLabels\"},{\"attributes\":{},\"id\":\"4952\",\"type\":\"AllLabels\"},{\"attributes\":{},\"id\":\"5001\",\"type\":\"BasicTickFormatter\"},{\"attributes\":{},\"id\":\"4963\",\"type\":\"LinearScale\"},{\"attributes\":{},\"id\":\"4999\",\"type\":\"AllLabels\"},{\"attributes\":{},\"id\":\"4965\",\"type\":\"LinearScale\"},{\"attributes\":{},\"id\":\"5002\",\"type\":\"AllLabels\"},{\"attributes\":{},\"id\":\"4913\",\"type\":\"LinearScale\"},{\"attributes\":{},\"id\":\"4979\",\"type\":\"ResetTool\"},{\"attributes\":{\"below\":[{\"id\":\"4917\"}],\"center\":[{\"id\":\"4920\"},{\"id\":\"4924\"}],\"height\":300,\"left\":[{\"id\":\"4921\"}],\"margin\":null,\"min_border_bottom\":10,\"min_border_left\":10,\"min_border_right\":10,\"min_border_top\":10,\"renderers\":[{\"id\":\"4944\"}],\"sizing_mode\":\"fixed\",\"title\":{\"id\":\"4909\"},\"toolbar\":{\"id\":\"4931\"},\"toolbar_location\":null,\"width\":400,\"x_range\":{\"id\":\"4905\"},\"x_scale\":{\"id\":\"4913\"},\"y_range\":{\"id\":\"4906\"},\"y_scale\":{\"id\":\"4915\"}},\"id\":\"4908\",\"subtype\":\"Figure\",\"type\":\"Plot\"},{\"attributes\":{\"children\":[[{\"id\":\"4908\"},0,0],[{\"id\":\"4958\"},1,0]]},\"id\":\"5029\",\"type\":\"GridBox\"},{\"attributes\":{\"children\":[{\"id\":\"5031\"},{\"id\":\"5029\"}]},\"id\":\"5032\",\"type\":\"Column\"},{\"attributes\":{\"callback\":null,\"renderers\":[{\"id\":\"4994\"}],\"tags\":[\"hv_created\"],\"tooltips\":[[\"k\",\"@{k}\"],[\"inertia\",\"@{inertia}\"]]},\"id\":\"4957\",\"type\":\"HoverTool\"},{\"attributes\":{},\"id\":\"4976\",\"type\":\"PanTool\"},{\"attributes\":{\"overlay\":{\"id\":\"4980\"}},\"id\":\"4978\",\"type\":\"BoxZoomTool\"},{\"attributes\":{\"below\":[{\"id\":\"4967\"}],\"center\":[{\"id\":\"4970\"},{\"id\":\"4974\"}],\"height\":300,\"left\":[{\"id\":\"4971\"}],\"margin\":null,\"min_border_bottom\":10,\"min_border_left\":10,\"min_border_right\":10,\"min_border_top\":10,\"renderers\":[{\"id\":\"4994\"}],\"sizing_mode\":\"fixed\",\"title\":{\"id\":\"4959\"},\"toolbar\":{\"id\":\"4981\"},\"toolbar_location\":null,\"width\":400,\"x_range\":{\"id\":\"4905\"},\"x_scale\":{\"id\":\"4963\"},\"y_range\":{\"id\":\"4906\"},\"y_scale\":{\"id\":\"4965\"}},\"id\":\"4958\",\"subtype\":\"Figure\",\"type\":\"Plot\"},{\"attributes\":{\"toolbar\":{\"id\":\"5030\"},\"toolbar_location\":\"above\"},\"id\":\"5031\",\"type\":\"ToolbarBox\"},{\"attributes\":{\"data\":{\"inertia\":{\"__ndarray__\":\"AAAAAADwcUByhzI6P3poQOCRvNowzF5AF+6ulG/BU0ByHKDT6O1PQBcSyZxlh0pALECR0WX4RUDDXy4QkWNCQPx3AM5mYkBA7E93SQcnPED/H4Z19ww5QA==\",\"dtype\":\"float64\",\"order\":\"little\",\"shape\":[11]},\"k\":[1,2,3,4,5,6,7,8,9,10,11]},\"selected\":{\"id\":\"4939\"},\"selection_policy\":{\"id\":\"5014\"}},\"id\":\"4938\",\"type\":\"ColumnDataSource\"},{\"attributes\":{\"end\":11.0,\"reset_end\":11.0,\"reset_start\":1.0,\"start\":1.0,\"tags\":[[[\"k\",\"k\",null]]]},\"id\":\"4905\",\"type\":\"Range1d\"},{\"attributes\":{\"toolbars\":[{\"id\":\"4931\"},{\"id\":\"4981\"}],\"tools\":[{\"id\":\"4907\"},{\"id\":\"4925\"},{\"id\":\"4926\"},{\"id\":\"4927\"},{\"id\":\"4928\"},{\"id\":\"4929\"},{\"id\":\"4957\"},{\"id\":\"4975\"},{\"id\":\"4976\"},{\"id\":\"4977\"},{\"id\":\"4978\"},{\"id\":\"4979\"}]},\"id\":\"5030\",\"type\":\"ProxyToolbar\"},{\"attributes\":{},\"id\":\"5014\",\"type\":\"UnionRenderers\"},{\"attributes\":{\"callback\":null,\"renderers\":[{\"id\":\"4944\"}],\"tags\":[\"hv_created\"],\"tooltips\":[[\"k\",\"@{k}\"],[\"inertia\",\"@{inertia}\"]]},\"id\":\"4907\",\"type\":\"HoverTool\"},{\"attributes\":{\"bottom_units\":\"screen\",\"coordinates\":null,\"fill_alpha\":0.5,\"fill_color\":\"lightgrey\",\"group\":null,\"left_units\":\"screen\",\"level\":\"overlay\",\"line_alpha\":1.0,\"line_color\":\"black\",\"line_dash\":[4,4],\"line_width\":2,\"right_units\":\"screen\",\"syncable\":false,\"top_units\":\"screen\"},\"id\":\"4980\",\"type\":\"BoxAnnotation\"}],\"root_ids\":[\"4904\"]},\"title\":\"Bokeh Application\",\"version\":\"2.4.3\"}};\n",
       "    var render_items = [{\"docid\":\"2b28a216-6777-4a2d-90c6-5276bd70823e\",\"root_ids\":[\"4904\"],\"roots\":{\"4904\":\"5c398502-90c2-42cd-a3de-ef8818019bf4\"}}];\n",
       "    root.Bokeh.embed.embed_items_notebook(docs_json, render_items);\n",
       "    for (const render_item of render_items) {\n",
       "      for (const root_id of render_item.root_ids) {\n",
       "\tconst id_el = document.getElementById(root_id)\n",
       "\tif (id_el.children.length && (id_el.children[0].className === 'bk-root')) {\n",
       "\t  const root_el = id_el.children[0]\n",
       "\t  root_el.id = root_el.id + '-rendered'\n",
       "\t}\n",
       "      }\n",
       "    }\n",
       "  }\n",
       "  if (root.Bokeh !== undefined && root.Bokeh.Panel !== undefined) {\n",
       "    embed_document(root);\n",
       "  } else {\n",
       "    var attempts = 0;\n",
       "    var timer = setInterval(function(root) {\n",
       "      if (root.Bokeh !== undefined && root.Bokeh.Panel !== undefined) {\n",
       "        clearInterval(timer);\n",
       "        embed_document(root);\n",
       "      } else if (document.readyState == \"complete\") {\n",
       "        attempts++;\n",
       "        if (attempts > 200) {\n",
       "          clearInterval(timer);\n",
       "          console.log(\"Bokeh: ERROR: Unable to run BokehJS code because BokehJS library is missing\");\n",
       "        }\n",
       "      }\n",
       "    }, 25, root)\n",
       "  }\n",
       "})(window);</script>"
      ],
      "text/plain": [
       ":Layout\n",
       "   .Curve.I  :Curve   [k]   (inertia)\n",
       "   .Curve.II :Curve   [k]   (inertia)"
      ]
     },
     "execution_count": 163,
     "metadata": {
      "application/vnd.holoviews_exec.v0+json": {
       "id": "4904"
      }
     },
     "output_type": "execute_result"
    }
   ],
   "source": [
    "# Composite plot to contrast the Elbow curves\n",
    "# Create a list with the number of k-values from 1 to 11\n",
    "k_values = list(range(1, 12))\n",
    "\n",
    "# Create empty lists to store the inertia values\n",
    "inertia_values_original = []\n",
    "inertia_values_pca = []\n",
    "\n",
    "# Compute inertia values for the original data\n",
    "for k in k_values:\n",
    "    kmeans = KMeans(n_clusters=k)\n",
    "    kmeans.fit(df_market_data_scaled)\n",
    "    inertia_values_original.append(kmeans.inertia_)\n",
    "\n",
    "# Compute inertia values for the PCA data\n",
    "for k in k_values:\n",
    "    kmeans = KMeans(n_clusters=k)\n",
    "    kmeans.fit(pca_df)\n",
    "    inertia_values_pca.append(kmeans.inertia_)\n",
    "    # Create DataFrames with the data for the Elbow curves\n",
    "elbow_df_original = pd.DataFrame({'k': k_values, 'inertia': inertia_values_original})\n",
    "elbow_df_pca = pd.DataFrame({'k': k_values, 'inertia': inertia_values_pca})\n",
    "\n",
    "# Create composite plot to contrast the Elbow curves\n",
    "composite_plot = (elbow_df_original.hvplot.line(x='k', y='inertia', title='Elbow Curve for Original Data', xlabel='Number of Clusters (k)', ylabel='Inertia', width=400, height=300) +\n",
    "                 elbow_df_pca.hvplot.line(x='k', y='inertia', title='Elbow Curve for PCA Data', xlabel='Number of Clusters (k)', ylabel='Inertia', width=400, height=300))\n",
    "\n",
    "hv.Layout(composite_plot).cols(1)"
   ]
  },
  {
   "cell_type": "code",
   "execution_count": 164,
   "metadata": {},
   "outputs": [
    {
     "data": {},
     "metadata": {},
     "output_type": "display_data"
    },
    {
     "data": {
      "application/vnd.holoviews_exec.v0+json": "",
      "text/html": [
       "<div id='5154'>\n",
       "  <div class=\"bk-root\" id=\"534c68d3-45d4-4bc9-a3ef-2cc9b2a07f2c\" data-root-id=\"5154\"></div>\n",
       "</div>\n",
       "<script type=\"application/javascript\">(function(root) {\n",
       "  function embed_document(root) {\n",
       "    var docs_json = {\"1e56f29e-a31f-4032-8e9b-c6159b5537e9\":{\"defs\":[{\"extends\":null,\"module\":null,\"name\":\"ReactiveHTML1\",\"overrides\":[],\"properties\":[]},{\"extends\":null,\"module\":null,\"name\":\"FlexBox1\",\"overrides\":[],\"properties\":[{\"default\":\"flex-start\",\"kind\":null,\"name\":\"align_content\"},{\"default\":\"flex-start\",\"kind\":null,\"name\":\"align_items\"},{\"default\":\"row\",\"kind\":null,\"name\":\"flex_direction\"},{\"default\":\"wrap\",\"kind\":null,\"name\":\"flex_wrap\"},{\"default\":\"flex-start\",\"kind\":null,\"name\":\"justify_content\"}]},{\"extends\":null,\"module\":null,\"name\":\"GridStack1\",\"overrides\":[],\"properties\":[{\"default\":\"warn\",\"kind\":null,\"name\":\"mode\"},{\"default\":null,\"kind\":null,\"name\":\"ncols\"},{\"default\":null,\"kind\":null,\"name\":\"nrows\"},{\"default\":true,\"kind\":null,\"name\":\"allow_resize\"},{\"default\":true,\"kind\":null,\"name\":\"allow_drag\"},{\"default\":[],\"kind\":null,\"name\":\"state\"}]},{\"extends\":null,\"module\":null,\"name\":\"click1\",\"overrides\":[],\"properties\":[{\"default\":\"\",\"kind\":null,\"name\":\"terminal_output\"},{\"default\":\"\",\"kind\":null,\"name\":\"debug_name\"},{\"default\":0,\"kind\":null,\"name\":\"clears\"}]},{\"extends\":null,\"module\":null,\"name\":\"NotificationAreaBase1\",\"overrides\":[],\"properties\":[{\"default\":\"bottom-right\",\"kind\":null,\"name\":\"position\"},{\"default\":0,\"kind\":null,\"name\":\"_clear\"}]},{\"extends\":null,\"module\":null,\"name\":\"NotificationArea1\",\"overrides\":[],\"properties\":[{\"default\":[],\"kind\":null,\"name\":\"notifications\"},{\"default\":\"bottom-right\",\"kind\":null,\"name\":\"position\"},{\"default\":0,\"kind\":null,\"name\":\"_clear\"},{\"default\":[{\"background\":\"#ffc107\",\"icon\":{\"className\":\"fas fa-exclamation-triangle\",\"color\":\"white\",\"tagName\":\"i\"},\"type\":\"warning\"},{\"background\":\"#007bff\",\"icon\":{\"className\":\"fas fa-info-circle\",\"color\":\"white\",\"tagName\":\"i\"},\"type\":\"info\"}],\"kind\":null,\"name\":\"types\"}]},{\"extends\":null,\"module\":null,\"name\":\"Notification\",\"overrides\":[],\"properties\":[{\"default\":null,\"kind\":null,\"name\":\"background\"},{\"default\":3000,\"kind\":null,\"name\":\"duration\"},{\"default\":null,\"kind\":null,\"name\":\"icon\"},{\"default\":\"\",\"kind\":null,\"name\":\"message\"},{\"default\":null,\"kind\":null,\"name\":\"notification_type\"},{\"default\":false,\"kind\":null,\"name\":\"_destroyed\"}]},{\"extends\":null,\"module\":null,\"name\":\"TemplateActions1\",\"overrides\":[],\"properties\":[{\"default\":0,\"kind\":null,\"name\":\"open_modal\"},{\"default\":0,\"kind\":null,\"name\":\"close_modal\"}]},{\"extends\":null,\"module\":null,\"name\":\"MaterialTemplateActions1\",\"overrides\":[],\"properties\":[{\"default\":0,\"kind\":null,\"name\":\"open_modal\"},{\"default\":0,\"kind\":null,\"name\":\"close_modal\"}]}],\"roots\":{\"references\":[{\"attributes\":{\"angle\":{\"value\":0.0},\"fill_alpha\":{\"value\":1.0},\"fill_color\":{\"field\":\"Predicted_Cluster\"},\"hatch_alpha\":{\"value\":1.0},\"hatch_color\":{\"field\":\"Predicted_Cluster\"},\"hatch_scale\":{\"value\":12.0},\"hatch_weight\":{\"value\":1.0},\"line_alpha\":{\"value\":1.0},\"line_cap\":{\"value\":\"butt\"},\"line_color\":{\"field\":\"Predicted_Cluster\"},\"line_dash\":{\"value\":[]},\"line_dash_offset\":{\"value\":0},\"line_join\":{\"value\":\"bevel\"},\"line_width\":{\"value\":1},\"marker\":{\"value\":\"circle\"},\"size\":{\"value\":5.477225575051661},\"x\":{\"field\":\"price_change_percentage_24h\"},\"y\":{\"field\":\"price_change_percentage_7d\"}},\"id\":\"5196\",\"type\":\"Scatter\"},{\"attributes\":{},\"id\":\"5199\",\"type\":\"AllLabels\"},{\"attributes\":{\"fill_alpha\":{\"value\":0.1},\"fill_color\":{\"field\":\"Predicted_Cluster\"},\"hatch_alpha\":{\"value\":0.1},\"hatch_color\":{\"field\":\"Predicted_Cluster\"},\"line_alpha\":{\"value\":0.1},\"line_color\":{\"field\":\"Predicted_Cluster\"},\"size\":{\"value\":5.477225575051661},\"x\":{\"field\":\"price_change_percentage_24h\"},\"y\":{\"field\":\"price_change_percentage_7d\"}},\"id\":\"5192\",\"type\":\"Scatter\"},{\"attributes\":{\"coordinates\":null,\"data_source\":{\"id\":\"5188\"},\"glyph\":{\"id\":\"5191\"},\"group\":null,\"hover_glyph\":null,\"muted_glyph\":{\"id\":\"5193\"},\"nonselection_glyph\":{\"id\":\"5192\"},\"selection_glyph\":{\"id\":\"5196\"},\"view\":{\"id\":\"5195\"}},\"id\":\"5194\",\"type\":\"GlyphRenderer\"},{\"attributes\":{\"source\":{\"id\":\"5188\"}},\"id\":\"5195\",\"type\":\"CDSView\"},{\"attributes\":{\"axis\":{\"id\":\"5171\"},\"coordinates\":null,\"dimension\":1,\"grid_line_color\":null,\"group\":null,\"ticker\":null},\"id\":\"5174\",\"type\":\"Grid\"},{\"attributes\":{\"axis_label\":\"Principal Component 2\",\"coordinates\":null,\"formatter\":{\"id\":\"5253\"},\"group\":null,\"major_label_policy\":{\"id\":\"5254\"},\"ticker\":{\"id\":\"5224\"}},\"id\":\"5223\",\"type\":\"LinearAxis\"},{\"attributes\":{\"axis\":{\"id\":\"5223\"},\"coordinates\":null,\"dimension\":1,\"grid_line_color\":null,\"group\":null,\"ticker\":null},\"id\":\"5226\",\"type\":\"Grid\"},{\"attributes\":{},\"id\":\"5224\",\"type\":\"BasicTicker\"},{\"attributes\":{\"fill_color\":{\"field\":\"Predicted_Cluster\"},\"hatch_color\":{\"field\":\"Predicted_Cluster\"},\"line_color\":{\"field\":\"Predicted_Cluster\"},\"size\":{\"value\":5.477225575051661},\"x\":{\"field\":\"price_change_percentage_24h\"},\"y\":{\"field\":\"price_change_percentage_7d\"}},\"id\":\"5191\",\"type\":\"Scatter\"},{\"attributes\":{},\"id\":\"5229\",\"type\":\"WheelZoomTool\"},{\"attributes\":{\"fill_alpha\":{\"value\":0.2},\"fill_color\":{\"field\":\"Predicted_Cluster\"},\"hatch_alpha\":{\"value\":0.2},\"hatch_color\":{\"field\":\"Predicted_Cluster\"},\"line_alpha\":{\"value\":0.2},\"line_color\":{\"field\":\"Predicted_Cluster\"},\"size\":{\"value\":5.477225575051661},\"x\":{\"field\":\"price_change_percentage_24h\"},\"y\":{\"field\":\"price_change_percentage_7d\"}},\"id\":\"5193\",\"type\":\"Scatter\"},{\"attributes\":{},\"id\":\"5227\",\"type\":\"SaveTool\"},{\"attributes\":{\"end\":5.6275381428571425,\"reset_end\":5.6275381428571425,\"reset_start\":-14.315068142857143,\"start\":-14.315068142857143,\"tags\":[[[\"price_change_percentage_24h\",\"price_change_percentage_24h\",null]]]},\"id\":\"5155\",\"type\":\"Range1d\"},{\"attributes\":{\"overlay\":{\"id\":\"5232\"}},\"id\":\"5230\",\"type\":\"BoxZoomTool\"},{\"attributes\":{},\"id\":\"5198\",\"type\":\"BasicTickFormatter\"},{\"attributes\":{},\"id\":\"5231\",\"type\":\"ResetTool\"},{\"attributes\":{\"toolbar\":{\"id\":\"5282\"},\"toolbar_location\":\"above\"},\"id\":\"5283\",\"type\":\"ToolbarBox\"},{\"attributes\":{\"bottom_units\":\"screen\",\"coordinates\":null,\"fill_alpha\":0.5,\"fill_color\":\"lightgrey\",\"group\":null,\"left_units\":\"screen\",\"level\":\"overlay\",\"line_alpha\":1.0,\"line_color\":\"black\",\"line_dash\":[4,4],\"line_width\":2,\"right_units\":\"screen\",\"syncable\":false,\"top_units\":\"screen\"},\"id\":\"5232\",\"type\":\"BoxAnnotation\"},{\"attributes\":{},\"id\":\"5254\",\"type\":\"AllLabels\"},{\"attributes\":{\"fill_alpha\":{\"value\":0.1},\"fill_color\":{\"field\":\"Predicted_Cluster\"},\"hatch_alpha\":{\"value\":0.1},\"hatch_color\":{\"field\":\"Predicted_Cluster\"},\"line_alpha\":{\"value\":0.1},\"line_color\":{\"field\":\"Predicted_Cluster\"},\"size\":{\"value\":5.477225575051661},\"x\":{\"field\":\"PC1\"},\"y\":{\"field\":\"PC2\"}},\"id\":\"5244\",\"type\":\"Scatter\"},{\"attributes\":{},\"id\":\"5201\",\"type\":\"BasicTickFormatter\"},{\"attributes\":{\"active_drag\":{\"id\":\"5228\"},\"active_scroll\":{\"id\":\"5229\"},\"tools\":[{\"id\":\"5209\"},{\"id\":\"5227\"},{\"id\":\"5228\"},{\"id\":\"5229\"},{\"id\":\"5230\"},{\"id\":\"5231\"}]},\"id\":\"5233\",\"type\":\"Toolbar\"},{\"attributes\":{\"angle\":{\"value\":0.0},\"fill_alpha\":{\"value\":1.0},\"fill_color\":{\"field\":\"Predicted_Cluster\"},\"hatch_alpha\":{\"value\":1.0},\"hatch_color\":{\"field\":\"Predicted_Cluster\"},\"hatch_scale\":{\"value\":12.0},\"hatch_weight\":{\"value\":1.0},\"line_alpha\":{\"value\":1.0},\"line_cap\":{\"value\":\"butt\"},\"line_color\":{\"field\":\"Predicted_Cluster\"},\"line_dash\":{\"value\":[]},\"line_dash_offset\":{\"value\":0},\"line_join\":{\"value\":\"bevel\"},\"line_width\":{\"value\":1},\"marker\":{\"value\":\"circle\"},\"size\":{\"value\":5.477225575051661},\"x\":{\"field\":\"PC1\"},\"y\":{\"field\":\"PC2\"}},\"id\":\"5248\",\"type\":\"Scatter\"},{\"attributes\":{},\"id\":\"5241\",\"type\":\"Selection\"},{\"attributes\":{\"fill_color\":{\"field\":\"Predicted_Cluster\"},\"hatch_color\":{\"field\":\"Predicted_Cluster\"},\"line_color\":{\"field\":\"Predicted_Cluster\"},\"size\":{\"value\":5.477225575051661},\"x\":{\"field\":\"PC1\"},\"y\":{\"field\":\"PC2\"}},\"id\":\"5243\",\"type\":\"Scatter\"},{\"attributes\":{},\"id\":\"5251\",\"type\":\"AllLabels\"},{\"attributes\":{\"coordinates\":null,\"data_source\":{\"id\":\"5240\"},\"glyph\":{\"id\":\"5243\"},\"group\":null,\"hover_glyph\":null,\"muted_glyph\":{\"id\":\"5245\"},\"nonselection_glyph\":{\"id\":\"5244\"},\"selection_glyph\":{\"id\":\"5248\"},\"view\":{\"id\":\"5247\"}},\"id\":\"5246\",\"type\":\"GlyphRenderer\"},{\"attributes\":{},\"id\":\"5277\",\"type\":\"UnionRenderers\"},{\"attributes\":{},\"id\":\"5165\",\"type\":\"LinearScale\"},{\"attributes\":{\"source\":{\"id\":\"5240\"}},\"id\":\"5247\",\"type\":\"CDSView\"},{\"attributes\":{\"fill_alpha\":{\"value\":0.2},\"fill_color\":{\"field\":\"Predicted_Cluster\"},\"hatch_alpha\":{\"value\":0.2},\"hatch_color\":{\"field\":\"Predicted_Cluster\"},\"line_alpha\":{\"value\":0.2},\"line_color\":{\"field\":\"Predicted_Cluster\"},\"size\":{\"value\":5.477225575051661},\"x\":{\"field\":\"PC1\"},\"y\":{\"field\":\"PC2\"}},\"id\":\"5245\",\"type\":\"Scatter\"},{\"attributes\":{},\"id\":\"5266\",\"type\":\"UnionRenderers\"},{\"attributes\":{\"below\":[{\"id\":\"5167\"}],\"center\":[{\"id\":\"5170\"},{\"id\":\"5174\"}],\"height\":300,\"left\":[{\"id\":\"5171\"}],\"margin\":null,\"min_border_bottom\":10,\"min_border_left\":10,\"min_border_right\":10,\"min_border_top\":10,\"renderers\":[{\"id\":\"5194\"}],\"sizing_mode\":\"fixed\",\"title\":{\"id\":\"5159\"},\"toolbar\":{\"id\":\"5181\"},\"toolbar_location\":null,\"width\":700,\"x_range\":{\"id\":\"5155\"},\"x_scale\":{\"id\":\"5163\"},\"y_range\":{\"id\":\"5156\"},\"y_scale\":{\"id\":\"5165\"}},\"id\":\"5158\",\"subtype\":\"Figure\",\"type\":\"Plot\"},{\"attributes\":{},\"id\":\"5202\",\"type\":\"AllLabels\"},{\"attributes\":{\"coordinates\":null,\"group\":null,\"text\":\"Cluster Analysis for PCA Data\",\"text_color\":\"black\",\"text_font_size\":\"12pt\"},\"id\":\"5211\",\"type\":\"Title\"},{\"attributes\":{\"callback\":null,\"renderers\":[{\"id\":\"5246\"}],\"tags\":[\"hv_created\"],\"tooltips\":[[\"PC1\",\"@{PC1}\"],[\"PC2\",\"@{PC2}\"],[\"Cryptocurrency\",\"@{Cryptocurrency}\"]]},\"id\":\"5209\",\"type\":\"HoverTool\"},{\"attributes\":{\"children\":[{\"id\":\"5284\"}],\"margin\":[0,0,0,0],\"name\":\"Row05987\",\"tags\":[\"embedded\"]},\"id\":\"5154\",\"type\":\"Row\"},{\"attributes\":{\"callback\":null,\"renderers\":[{\"id\":\"5194\"}],\"tags\":[\"hv_created\"],\"tooltips\":[[\"price_change_percentage_24h\",\"@{price_change_percentage_24h}\"],[\"price_change_percentage_7d\",\"@{price_change_percentage_7d}\"]]},\"id\":\"5157\",\"type\":\"HoverTool\"},{\"attributes\":{},\"id\":\"5250\",\"type\":\"BasicTickFormatter\"},{\"attributes\":{\"data\":{\"Cryptocurrency\":[\"bitcoin\",\"ethereum\",\"tether\",\"ripple\",\"bitcoin-cash\",\"binancecoin\",\"chainlink\",\"cardano\",\"litecoin\",\"bitcoin-cash-sv\",\"crypto-com-chain\",\"usd-coin\",\"eos\",\"monero\",\"tron\",\"tezos\",\"okb\",\"stellar\",\"cosmos\",\"cdai\",\"neo\",\"wrapped-bitcoin\",\"leo-token\",\"huobi-token\",\"nem\",\"binance-usd\",\"iota\",\"vechain\",\"zcash\",\"theta-token\",\"dash\",\"ethereum-classic\",\"ethlend\",\"maker\",\"havven\",\"omisego\",\"celsius-degree-token\",\"ontology\",\"ftx-token\",\"true-usd\",\"digibyte\"],\"PC1\":{\"__ndarray__\":\"S/XQrqo447/f0e2+JFTdv0yWfGpqt9u/FGF8Nosy3r9gE49DWYbyvyLTCdRxh+C/9FpHYHTY3L8J/sd7Th7Wv5ZtTPNwyOS/2PJrm9dJ6L9L+3Og98TPv4GH9NfeDty/ihkZU4ow5r/osk+KvvmuP4JMI6evLNm/mTHFU0V66b/0BLsJMGewP7SyldMFTN+/186LH/eZ078N6SrB0W7gv9sWiTH7LNe/291vxyJW47+TEjtnb3Pav8cRKLozFNq/eGXZqrZ84z/oTdZjQtDcv4rYvTIjeOi/5LHvblTN4b9h8+bQmjXbv+hGFZE5agVAmSC8UEGl47+1vuS6vI7iv05VosuTLSBAvEmjFh7m2L90CisnUrTrP3CSuv+8lrw/RxQ7s2krE0BvXMBgQDzkv5YbmkYF++K/Dr1JmQJS3b/84a/49hDTvw==\",\"dtype\":\"float64\",\"order\":\"little\",\"shape\":[41]},\"PC2\":{\"__ndarray__\":\"tQJY8+P36j9hP81egFfdP5TRe08qhcW/r49VGiCAzL+iRDd7ZVQAQG2kcU7LNvY/s2TwvP2Q4D9/xP1IkVfnP1ktO/eXqNs/o+HMJurAyb/LOhRjIAX2v7xmxoRtcca/R8kgkvpS3r+X9tOGdUYHQH8rtCB4sru/cKSem2Sk379tgFApNFH0vwWhJl5vcue/aENue2CC5j/UkppKWUfCv7qIS4bNlO+/VgsYmwp66j9q+cMuWpLlv7Td4x5qM8u/rBdkhXQI4j9pLiH9mlTDvzTrhbGEkuC/WW24gOcC/7/TdLLu64zfPxN2Joz3k4y/jY8PRXSt3r8M37YoLM7WvyEN8PHULA/AT0ntLg0gxT9l/tbKVRgCwOQhKIaGads/JVrQWxoSG0BDqFKDbN0AwPUO7msnAJY/VfWtmbtfwb9ISPDBzXbIvw==\",\"dtype\":\"float64\",\"order\":\"little\",\"shape\":[41]}},\"selected\":{\"id\":\"5241\"},\"selection_policy\":{\"id\":\"5277\"}},\"id\":\"5240\",\"type\":\"ColumnDataSource\"},{\"attributes\":{},\"id\":\"5228\",\"type\":\"PanTool\"},{\"attributes\":{\"active_drag\":{\"id\":\"5176\"},\"active_scroll\":{\"id\":\"5177\"},\"tools\":[{\"id\":\"5157\"},{\"id\":\"5175\"},{\"id\":\"5176\"},{\"id\":\"5177\"},{\"id\":\"5178\"},{\"id\":\"5179\"}]},\"id\":\"5181\",\"type\":\"Toolbar\"},{\"attributes\":{\"axis_label\":\"Principal Component 1\",\"coordinates\":null,\"formatter\":{\"id\":\"5250\"},\"group\":null,\"major_label_policy\":{\"id\":\"5251\"},\"ticker\":{\"id\":\"5220\"}},\"id\":\"5219\",\"type\":\"LinearAxis\"},{\"attributes\":{\"toolbars\":[{\"id\":\"5181\"},{\"id\":\"5233\"}],\"tools\":[{\"id\":\"5157\"},{\"id\":\"5175\"},{\"id\":\"5176\"},{\"id\":\"5177\"},{\"id\":\"5178\"},{\"id\":\"5179\"},{\"id\":\"5209\"},{\"id\":\"5227\"},{\"id\":\"5228\"},{\"id\":\"5229\"},{\"id\":\"5230\"},{\"id\":\"5231\"}]},\"id\":\"5282\",\"type\":\"ProxyToolbar\"},{\"attributes\":{\"bottom_units\":\"screen\",\"coordinates\":null,\"fill_alpha\":0.5,\"fill_color\":\"lightgrey\",\"group\":null,\"left_units\":\"screen\",\"level\":\"overlay\",\"line_alpha\":1.0,\"line_color\":\"black\",\"line_dash\":[4,4],\"line_width\":2,\"right_units\":\"screen\",\"syncable\":false,\"top_units\":\"screen\"},\"id\":\"5180\",\"type\":\"BoxAnnotation\"},{\"attributes\":{\"children\":[[{\"id\":\"5158\"},0,0],[{\"id\":\"5210\"},0,1]]},\"id\":\"5281\",\"type\":\"GridBox\"},{\"attributes\":{\"axis\":{\"id\":\"5219\"},\"coordinates\":null,\"grid_line_color\":null,\"group\":null,\"ticker\":null},\"id\":\"5222\",\"type\":\"Grid\"},{\"attributes\":{},\"id\":\"5163\",\"type\":\"LinearScale\"},{\"attributes\":{},\"id\":\"5176\",\"type\":\"PanTool\"},{\"attributes\":{\"below\":[{\"id\":\"5219\"}],\"center\":[{\"id\":\"5222\"},{\"id\":\"5226\"}],\"height\":300,\"left\":[{\"id\":\"5223\"}],\"margin\":null,\"min_border_bottom\":10,\"min_border_left\":10,\"min_border_right\":10,\"min_border_top\":10,\"renderers\":[{\"id\":\"5246\"}],\"sizing_mode\":\"fixed\",\"title\":{\"id\":\"5211\"},\"toolbar\":{\"id\":\"5233\"},\"toolbar_location\":null,\"width\":700,\"x_range\":{\"id\":\"5207\"},\"x_scale\":{\"id\":\"5215\"},\"y_range\":{\"id\":\"5208\"},\"y_scale\":{\"id\":\"5217\"}},\"id\":\"5210\",\"subtype\":\"Figure\",\"type\":\"Plot\"},{\"attributes\":{},\"id\":\"5172\",\"type\":\"BasicTicker\"},{\"attributes\":{\"data\":{\"price_change_percentage_24h\":{\"__ndarray__\":\"nZ0MjpJX8T8MzXUaaanMP5mByvj3Gcu/wCZr1EM02L8ep+hILj8HQL0Yyol21QBAwhcmUwWjzr//CS5W1GBqP7JGPUSjO7C/QKTfvg6c7T8urYbEPZbjPzeJQWDl0Ma/1pC4x9KHwj87NgLxun7bP90HILWJk7M/JjYf14aK5b83iUFg5dAFwG3i5H6HIvC/5nlwd9Zu7r9i83FtqBjLP+iHEcKjjd8/M9yAzw+j8T/fGtgqweLAv+RmuAGfH9q/UdobfGEy678D7KNTVz67v8YzaOif4No/teBFX0Ga9D8G2Eenrnzjvx+duvJZPhLAoMN8eQH28L+cxCCwcmjdv667eapDDivAX5hMFYxK479EUaBP5EkQwAZkr3d/XBNA0JuKVBgbBEDqBDQRNrz1vxo09E9wseo/tI6qJoi6r79qMA3DR8QHQA==\",\"dtype\":\"float64\",\"order\":\"little\",\"shape\":[41]},\"price_change_percentage_7d\":{\"__ndarray__\":\"RbsKKT9pHkAzUBn/PsMkQL99HThnRKk/yVnY0w5/47/+JhQi4BgxQBL3WPrQtSlA7yB2ptCxNEA/jBAebfwrQPFL/bypaBpArKjBNAxfCkByv0NRoK8WwPlJtU/HY76/lPsdigL99L+n6Egu/5EvQE1KQbeX9BBA0m9fB87pIUBlU67wLjcSwKbtX1lpkgBAZwqd19gVMEBcIEHxY8ytP3wnZr0YigNAOh4zUBmfHUD3Hi457pT1vzNQGf8+4/k/kQ96Nqs+6781Y9F0djKoP2dEaW/wRRhAgXhdv2A3/L/8GHPXErIkQP8JLlbUYBjAVU0QdR9gFEDRlnMprmoIQGCrBIvD2RBAAiuHFtlOIECbG9MTllgRQKhXyjLEURtAqn06HjNQ4z+UvDrHgGzzvwltOZfiahxAsD2zJEBNxT8yj/zBwHPlPw==\",\"dtype\":\"float64\",\"order\":\"little\",\"shape\":[41]}},\"selected\":{\"id\":\"5189\"},\"selection_policy\":{\"id\":\"5266\"}},\"id\":\"5188\",\"type\":\"ColumnDataSource\"},{\"attributes\":{\"axis_label\":\"7d Price Change (%)\",\"coordinates\":null,\"formatter\":{\"id\":\"5201\"},\"group\":null,\"major_label_policy\":{\"id\":\"5202\"},\"ticker\":{\"id\":\"5172\"}},\"id\":\"5171\",\"type\":\"LinearAxis\"},{\"attributes\":{},\"id\":\"5168\",\"type\":\"BasicTicker\"},{\"attributes\":{\"end\":23.373505,\"reset_end\":23.373505,\"reset_start\":-8.773475000000001,\"start\":-8.773475000000001,\"tags\":[[[\"price_change_percentage_7d\",\"price_change_percentage_7d\",null]]]},\"id\":\"5156\",\"type\":\"Range1d\"},{\"attributes\":{},\"id\":\"5215\",\"type\":\"LinearScale\"},{\"attributes\":{},\"id\":\"5177\",\"type\":\"WheelZoomTool\"},{\"attributes\":{},\"id\":\"5217\",\"type\":\"LinearScale\"},{\"attributes\":{\"axis\":{\"id\":\"5167\"},\"coordinates\":null,\"grid_line_color\":null,\"group\":null,\"ticker\":null},\"id\":\"5170\",\"type\":\"Grid\"},{\"attributes\":{\"end\":7.83413559633714,\"reset_end\":7.83413559633714,\"reset_start\":-4.963347456561368,\"start\":-4.963347456561368,\"tags\":[[[\"PC2\",\"PC2\",null]]]},\"id\":\"5208\",\"type\":\"Range1d\"},{\"attributes\":{\"coordinates\":null,\"group\":null,\"text\":\"Cluster Analysis for Original Data\",\"text_color\":\"black\",\"text_font_size\":\"12pt\"},\"id\":\"5159\",\"type\":\"Title\"},{\"attributes\":{},\"id\":\"5220\",\"type\":\"BasicTicker\"},{\"attributes\":{\"overlay\":{\"id\":\"5180\"}},\"id\":\"5178\",\"type\":\"BoxZoomTool\"},{\"attributes\":{\"axis_label\":\"24h Price Change (%)\",\"coordinates\":null,\"formatter\":{\"id\":\"5198\"},\"group\":null,\"major_label_policy\":{\"id\":\"5199\"},\"ticker\":{\"id\":\"5168\"}},\"id\":\"5167\",\"type\":\"LinearAxis\"},{\"attributes\":{},\"id\":\"5179\",\"type\":\"ResetTool\"},{\"attributes\":{\"children\":[{\"id\":\"5283\"},{\"id\":\"5281\"}]},\"id\":\"5284\",\"type\":\"Column\"},{\"attributes\":{\"end\":8.485310422788737,\"reset_end\":8.485310422788737,\"reset_start\":-1.5540921804637602,\"start\":-1.5540921804637602,\"tags\":[[[\"PC1\",\"PC1\",null]]]},\"id\":\"5207\",\"type\":\"Range1d\"},{\"attributes\":{},\"id\":\"5189\",\"type\":\"Selection\"},{\"attributes\":{},\"id\":\"5175\",\"type\":\"SaveTool\"},{\"attributes\":{},\"id\":\"5253\",\"type\":\"BasicTickFormatter\"}],\"root_ids\":[\"5154\"]},\"title\":\"Bokeh Application\",\"version\":\"2.4.3\"}};\n",
       "    var render_items = [{\"docid\":\"1e56f29e-a31f-4032-8e9b-c6159b5537e9\",\"root_ids\":[\"5154\"],\"roots\":{\"5154\":\"534c68d3-45d4-4bc9-a3ef-2cc9b2a07f2c\"}}];\n",
       "    root.Bokeh.embed.embed_items_notebook(docs_json, render_items);\n",
       "    for (const render_item of render_items) {\n",
       "      for (const root_id of render_item.root_ids) {\n",
       "\tconst id_el = document.getElementById(root_id)\n",
       "\tif (id_el.children.length && (id_el.children[0].className === 'bk-root')) {\n",
       "\t  const root_el = id_el.children[0]\n",
       "\t  root_el.id = root_el.id + '-rendered'\n",
       "\t}\n",
       "      }\n",
       "    }\n",
       "  }\n",
       "  if (root.Bokeh !== undefined && root.Bokeh.Panel !== undefined) {\n",
       "    embed_document(root);\n",
       "  } else {\n",
       "    var attempts = 0;\n",
       "    var timer = setInterval(function(root) {\n",
       "      if (root.Bokeh !== undefined && root.Bokeh.Panel !== undefined) {\n",
       "        clearInterval(timer);\n",
       "        embed_document(root);\n",
       "      } else if (document.readyState == \"complete\") {\n",
       "        attempts++;\n",
       "        if (attempts > 200) {\n",
       "          clearInterval(timer);\n",
       "          console.log(\"Bokeh: ERROR: Unable to run BokehJS code because BokehJS library is missing\");\n",
       "        }\n",
       "      }\n",
       "    }, 25, root)\n",
       "  }\n",
       "})(window);</script>"
      ],
      "text/plain": [
       ":Layout\n",
       "   .Scatter.I  :Scatter   [price_change_percentage_24h]   (price_change_percentage_7d)\n",
       "   .Scatter.II :Scatter   [PC1]   (PC2,Cryptocurrency)"
      ]
     },
     "execution_count": 164,
     "metadata": {
      "application/vnd.holoviews_exec.v0+json": {
       "id": "5154"
      }
     },
     "output_type": "execute_result"
    }
   ],
   "source": [
    "# Composite plot to contrast the clusters\n",
    "# YOUR CODE HERE!\n",
    "scatter_original = df_market_data.hvplot.scatter(\n",
    "x=\"price_change_percentage_24h\", \n",
    " y=\"price_change_percentage_7d\", \n",
    " c=\"Predicted_Cluster\", \n",
    " colormap=\"viridis\", \n",
    " hover_cols=[\"name\"], \n",
    " title=\"Cluster Analysis for Original Data\", \n",
    " xlabel=\"24h Price Change (%)\", \n",
    " ylabel=\"7d Price Change (%)\")\n",
    "\n",
    "scatter_pca = pca_df.hvplot.scatter(\n",
    "    x=\"PC1\", \n",
    "    y=\"PC2\", \n",
    "    c=\"Predicted_Cluster\", \n",
    "    colormap=\"viridis\", \n",
    "    hover_cols=[\"Cryptocurrency\"], \n",
    "    title=\"Cluster Analysis for PCA Data\", \n",
    "    xlabel=\"Principal Component 1\", \n",
    "    ylabel=\"Principal Component 2\")\n",
    "\n",
    "composite_plot_clusters = (scatter_original + scatter_pca).cols(2)\n",
    "\n",
    "# Show the composite plot\n",
    "composite_plot_clusters"
   ]
  },
  {
   "attachments": {},
   "cell_type": "markdown",
   "metadata": {},
   "source": [
    "#### Answer the following question: \n",
    "\n",
    "  * **Question:** After visually analyzing the cluster analysis results, what is the impact of using fewer features to cluster the data using K-Means?\n",
    "\n",
    "  * **Answer:** Using fewer features through PCA simplifies K-Means clustering analysis and improves efficiency. It can lead to more distinct clusters and clearer visualization. However, reducing dimensions can result in some information being lost, affecting the accuracy of clustering results. "
   ]
  }
 ],
 "metadata": {
  "kernelspec": {
   "display_name": "Python 3 (ipykernel)",
   "language": "python",
   "name": "python3"
  },
  "language_info": {
   "codemirror_mode": {
    "name": "ipython",
    "version": 3
   },
   "file_extension": ".py",
   "mimetype": "text/x-python",
   "name": "python",
   "nbconvert_exporter": "python",
   "pygments_lexer": "ipython3",
   "version": "3.10.10"
  },
  "nteract": {
   "version": "0.28.0"
  },
  "vscode": {
   "interpreter": {
    "hash": "40d3a090f54c6569ab1632332b64b2c03c39dcf918b08424e98f38b5ae0af88f"
   }
  }
 },
 "nbformat": 4,
 "nbformat_minor": 4
}
